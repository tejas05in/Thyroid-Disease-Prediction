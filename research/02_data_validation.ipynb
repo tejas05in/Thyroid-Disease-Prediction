{
 "cells": [
  {
   "cell_type": "code",
   "execution_count": 1,
   "metadata": {},
   "outputs": [],
   "source": [
    "import os"
   ]
  },
  {
   "cell_type": "code",
   "execution_count": 2,
   "metadata": {},
   "outputs": [
    {
     "data": {
      "text/plain": [
       "'/home/tejas/MLProj/Thyroid-Disease-Prediction/research'"
      ]
     },
     "execution_count": 2,
     "metadata": {},
     "output_type": "execute_result"
    }
   ],
   "source": [
    "%pwd"
   ]
  },
  {
   "cell_type": "code",
   "execution_count": 3,
   "metadata": {},
   "outputs": [],
   "source": [
    "os.chdir('../')"
   ]
  },
  {
   "cell_type": "code",
   "execution_count": 4,
   "metadata": {},
   "outputs": [
    {
     "data": {
      "text/plain": [
       "'/home/tejas/MLProj/Thyroid-Disease-Prediction'"
      ]
     },
     "execution_count": 4,
     "metadata": {},
     "output_type": "execute_result"
    }
   ],
   "source": [
    "%pwd"
   ]
  },
  {
   "cell_type": "code",
   "execution_count": 5,
   "metadata": {},
   "outputs": [],
   "source": [
    "from dataclasses import dataclass\n",
    "from pathlib import Path\n",
    "\n",
    "@dataclass(frozen=True)\n",
    "class DataValidationConfig:\n",
    "    root_dir: Path\n",
    "    STATUS_FILE: str\n",
    "    unzip_data_dir: Path\n",
    "    all_schema: dict"
   ]
  },
  {
   "cell_type": "code",
   "execution_count": 6,
   "metadata": {},
   "outputs": [],
   "source": [
    "from ThyroidProject.constants import *\n",
    "from ThyroidProject.utils.common import read_yaml , create_directories"
   ]
  },
  {
   "cell_type": "code",
   "execution_count": 7,
   "metadata": {},
   "outputs": [],
   "source": [
    "class ConfigurationManager:\n",
    "    def __init__(self,\n",
    "                 config_filepath=CONFIG_FILE_PATH,\n",
    "                 params_filepath=PARAMS_FILE_PATH,\n",
    "                 schema_filepath=SCHEMA_FILE_PATH):\n",
    "        \"\"\"\n",
    "        Initialize the ConfigurationManager class.\n",
    "\n",
    "        Args:\n",
    "            config_filepath (str): The path to the configuration file.\n",
    "            params_filepath (str): The path to the parameters file.\n",
    "            schema_filepath (str): The path to the schema file.\n",
    "\n",
    "        Returns:\n",
    "            None\n",
    "\n",
    "        Raises:\n",
    "            FileNotFoundError: If the configuration, parameters, or schema files cannot be found.\n",
    "            ValueError: If the configuration or parameters files are not valid YAML files.\n",
    "        \"\"\"\n",
    "        # Read the configuration, parameters, and schema files\n",
    "        self.config = read_yaml(config_filepath)\n",
    "        self.params = read_yaml(params_filepath)\n",
    "        self.schema = read_yaml(schema_filepath)\n",
    "\n",
    "        # Create the directories if they do not exist\n",
    "        create_directories([self.config.artifacts_root])\n",
    "\n",
    "    def get_data_validation_config(self) -> DataValidationConfig:\n",
    "        \"\"\"\n",
    "        Get the data validation configuration.\n",
    "\n",
    "        Returns:\n",
    "            DataValidationConfig: The data validation configuration.\n",
    "        \"\"\"\n",
    "        config = self.config.data_validation\n",
    "        schema = self.schema.COLUMNS\n",
    "\n",
    "        create_directories([config.root_dir])\n",
    "\n",
    "        data_validation_config = DataValidationConfig(\n",
    "            root_dir=config.root_dir,\n",
    "            STATUS_FILE=config.STATUS_FILE,\n",
    "            unzip_data_dir=config.unzip_data_dir,\n",
    "            all_schema=schema,\n",
    "        )\n",
    "\n",
    "        return data_validation_config"
   ]
  },
  {
   "cell_type": "code",
   "execution_count": 8,
   "metadata": {},
   "outputs": [],
   "source": [
    "import pandas as pd"
   ]
  },
  {
   "cell_type": "code",
   "execution_count": 9,
   "metadata": {},
   "outputs": [],
   "source": [
    "class DataValidation:\n",
    "    def __init__(self, config: DataValidationConfig):\n",
    "        self.config = config\n",
    "\n",
    "    def validate_all_columns(self) -> bool:\n",
    "        \"\"\"\n",
    "        Validate all the columns in the data.\n",
    "\n",
    "        This function reads the data from the unzip data directory and checks if all the columns are present in the schema and if their data types match with the schema. If any column is missing or has an incorrect data type, the function sets the validation status to False and writes an error message to the status file. If all the columns are valid, the function sets the validation status to True and writes an success message to the status file.\n",
    "\n",
    "        Returns:\n",
    "            bool: True if all the columns are valid, False otherwise.\n",
    "\n",
    "        Raises:\n",
    "            Exception: If there is an error while validating the columns.\n",
    "        \"\"\"\n",
    "        try:\n",
    "            validation_status = None\n",
    "            \n",
    "            # Column names of the raw data\n",
    "            names = [\"age\", \"sex\", \"on_thyroxine\", \"query_on_thyroxine\", \"on_antihyroid_meds\", \"sick\", \"pregnant\", \"thyroid_surgery\", \"I131_treatment\", \"query_hypothyroid\", \"query_hyperthyroid\", \"lithium\", \"goitre\",\n",
    "                     \"tumor\", \"hypopituitary\", \"psych\", \"TSH_measured\", \"TSH\", \"T3_measured\", \"T3\", \"TT4_measured\", \"TT4\", \"T4U_measured\", \"T4U\", \"FTI_measured\", \"FTI\", \"TBG_measured\", \"TBG\", \"referral_source\", \"target\"]\n",
    "\n",
    "            # Read the data from the unzip data directory\n",
    "            data = pd.read_csv(self.config.unzip_data_dir,names=names)\n",
    "\n",
    "            # Get a list of all the columns\n",
    "            all_cols = list(data.columns)\n",
    "\n",
    "            # Get the schema for all the columns\n",
    "            all_schema = self.config.all_schema.keys()\n",
    "\n",
    "            # Loop through all the columns\n",
    "            for col in all_cols:\n",
    "                # Check if the column is present in the schema and if its data type matches with the schema\n",
    "                if col not in all_schema or data[col].dtype != self.config.all_schema[col]:\n",
    "                    # Set the validation status to False if any column is missing or has an incorrect data type\n",
    "                    validation_status = False\n",
    "                    with open(self.config.STATUS_FILE, \"w\") as f:\n",
    "                        f.write(f\"Validation status: {validation_status}\")\n",
    "                # Set the validation status to True if all the columns are valid\n",
    "                else:\n",
    "                    validation_status = True\n",
    "                    with open(self.config.STATUS_FILE, \"w\") as f:\n",
    "                        f.write(f\"Validation status: {validation_status}\")\n",
    "\n",
    "            # Return the validation status\n",
    "            return validation_status\n",
    "\n",
    "        except Exception as e:\n",
    "            raise e"
   ]
  },
  {
   "cell_type": "code",
   "execution_count": 10,
   "metadata": {},
   "outputs": [
    {
     "name": "stdout",
     "output_type": "stream",
     "text": [
      "[2024-02-01 00:13:31,405:INFO:common:yaml file: config/config.yaml loaded successfully]\n",
      "[2024-02-01 00:13:31,409:INFO:common:yaml file: params.yaml loaded successfully]\n",
      "[2024-02-01 00:13:31,413:INFO:common:yaml file: schema.yaml loaded successfully]\n",
      "[2024-02-01 00:13:31,414:INFO:common:created directory at :artifacts]\n",
      "[2024-02-01 00:13:31,416:INFO:common:created directory at :artifacts/data_validation]\n"
     ]
    }
   ],
   "source": [
    "try:\n",
    "    config = ConfigurationManager()\n",
    "    data_validation_config = config.get_data_validation_config()\n",
    "    data_validation = DataValidation(config=data_validation_config)\n",
    "    data_validation.validate_all_columns()\n",
    "except Exception as e:\n",
    "    raise e"
   ]
  },
  {
   "cell_type": "code",
   "execution_count": null,
   "metadata": {},
   "outputs": [],
   "source": []
  }
 ],
 "metadata": {
  "kernelspec": {
   "display_name": "Python 3",
   "language": "python",
   "name": "python3"
  },
  "language_info": {
   "codemirror_mode": {
    "name": "ipython",
    "version": 3
   },
   "file_extension": ".py",
   "mimetype": "text/x-python",
   "name": "python",
   "nbconvert_exporter": "python",
   "pygments_lexer": "ipython3",
   "version": "3.11.4"
  }
 },
 "nbformat": 4,
 "nbformat_minor": 2
}
