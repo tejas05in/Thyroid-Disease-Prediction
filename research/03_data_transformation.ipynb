{
 "cells": [
  {
   "cell_type": "code",
   "execution_count": 4,
   "metadata": {},
   "outputs": [],
   "source": [
    "import os"
   ]
  },
  {
   "cell_type": "code",
   "execution_count": 5,
   "metadata": {},
   "outputs": [
    {
     "data": {
      "text/plain": [
       "'d:\\\\Python\\\\MLProjectsPW\\\\Thyroid-Disease-Prediction\\\\research'"
      ]
     },
     "execution_count": 5,
     "metadata": {},
     "output_type": "execute_result"
    }
   ],
   "source": [
    "%pwd"
   ]
  },
  {
   "cell_type": "code",
   "execution_count": 6,
   "metadata": {},
   "outputs": [],
   "source": [
    "os.chdir('../')"
   ]
  },
  {
   "cell_type": "code",
   "execution_count": 29,
   "metadata": {},
   "outputs": [
    {
     "data": {
      "text/plain": [
       "'d:\\\\Python\\\\MLProjectsPW\\\\Thyroid-Disease-Prediction'"
      ]
     },
     "execution_count": 29,
     "metadata": {},
     "output_type": "execute_result"
    }
   ],
   "source": [
    "%pwd"
   ]
  },
  {
   "cell_type": "code",
   "execution_count": 30,
   "metadata": {},
   "outputs": [],
   "source": [
    "from dataclasses import dataclass\n",
    "from pathlib import Path\n",
    "\n",
    "\n",
    "@dataclass(frozen=True)\n",
    "class DataTransformationConfig:\n",
    "    root_dir: Path\n",
    "    data_path: Path\n",
    "    columns: dict\n",
    "    "
   ]
  },
  {
   "cell_type": "code",
   "execution_count": 31,
   "metadata": {},
   "outputs": [],
   "source": [
    "from ThyroidProject.constants import *\n",
    "from ThyroidProject.utils.common import read_yaml, create_directories"
   ]
  },
  {
   "cell_type": "code",
   "execution_count": 32,
   "metadata": {},
   "outputs": [],
   "source": [
    "class ConfigurationManager:\n",
    "    def __init__(self,\n",
    "                 config_filepath=CONFIG_FILE_PATH,\n",
    "                 params_filepath=PARAMS_FILE_PATH,\n",
    "                 schema_filepath=SCHEMA_FILE_PATH):\n",
    "\n",
    "        self.config = read_yaml(config_filepath)\n",
    "        self.params = read_yaml(params_filepath)\n",
    "        self.schema = read_yaml(schema_filepath)\n",
    "\n",
    "        create_directories([self.config.artifacts_root])\n",
    "        \n",
    "    def get_data_transformation_config(self) -> DataTransformationConfig:\n",
    "        \"\"\"\n",
    "        This function returns the data transformation configuration.\n",
    "\n",
    "        Args:\n",
    "            self (DataTransformation): An instance of the DataTransformation class.\n",
    "\n",
    "        Returns:\n",
    "            DataTransformationConfig: The data transformation configuration.\n",
    "\n",
    "        \"\"\"\n",
    "        config = self.config.data_transformation\n",
    "        schema = self.schema.COLUMNS\n",
    "\n",
    "        create_directories([config.root_dir])\n",
    "\n",
    "        data_transformation_config = DataTransformationConfig(\n",
    "            root_dir=config.root_dir,\n",
    "            data_path=config.data_path,\n",
    "            columns=schema\n",
    "            \n",
    "        )\n",
    "\n",
    "        return data_transformation_config"
   ]
  },
  {
   "cell_type": "code",
   "execution_count": 33,
   "metadata": {},
   "outputs": [],
   "source": [
    "import os\n",
    "from ThyroidProject import logger\n",
    "from sklearn.model_selection import train_test_split\n",
    "import pandas as pd\n",
    "import numpy as np"
   ]
  },
  {
   "cell_type": "code",
   "execution_count": 34,
   "metadata": {},
   "outputs": [
    {
     "name": "stdout",
     "output_type": "stream",
     "text": [
      "[2024-01-26 21:10:45,634:INFO:common:yaml file: config\\config.yaml loaded successfully]\n",
      "[2024-01-26 21:10:45,636:INFO:common:yaml file: params.yaml loaded successfully]\n",
      "[2024-01-26 21:10:45,640:INFO:common:yaml file: schema.yaml loaded successfully]\n",
      "[2024-01-26 21:10:45,642:INFO:common:created directory at :artifacts]\n",
      "[2024-01-26 21:10:45,642:INFO:common:created directory at :artifacts/data_transformation]\n"
     ]
    }
   ],
   "source": [
    "config = ConfigurationManager()\n",
    "data_transformation_config = config.get_data_transformation_config()"
   ]
  },
  {
   "cell_type": "code",
   "execution_count": 35,
   "metadata": {},
   "outputs": [
    {
     "data": {
      "text/plain": [
       "['age',\n",
       " 'sex',\n",
       " 'on_thyroxine',\n",
       " 'query_on_thyroxine',\n",
       " 'on_antihyroid_meds',\n",
       " 'sick',\n",
       " 'pregnant',\n",
       " 'thyroid_surgery',\n",
       " 'I131_treatment',\n",
       " 'query_hypothyroid',\n",
       " 'query hyperthyroid',\n",
       " 'lithium',\n",
       " 'goitre',\n",
       " 'tumor',\n",
       " 'hypopituitary',\n",
       " 'psych',\n",
       " 'TSH_measured',\n",
       " 'TSH',\n",
       " 'T3_measured',\n",
       " 'T3',\n",
       " 'TT4_measured',\n",
       " 'TT4',\n",
       " 'T4U_measured',\n",
       " 'T4U',\n",
       " 'FTI_measured',\n",
       " 'FTI',\n",
       " 'TBG_measured',\n",
       " 'TBG',\n",
       " 'referral_source',\n",
       " 'target']"
      ]
     },
     "execution_count": 35,
     "metadata": {},
     "output_type": "execute_result"
    }
   ],
   "source": [
    "list(data_transformation_config.columns.keys())"
   ]
  },
  {
   "cell_type": "code",
   "execution_count": 36,
   "metadata": {},
   "outputs": [],
   "source": [
    "class DataTransformation:\n",
    "    def __init__(self, config=DataTransformationConfig):\n",
    "        self.config = config\n",
    "\n",
    "    def data_clenser_splitter(self):\n",
    "        \"\"\"\n",
    "        This function takes in the data transformation configuration and splits the data into train and test sets.\n",
    "\n",
    "        Args:\n",
    "            self (DataTransformation): An instance of the DataTransformation class.\n",
    "\n",
    "        Returns:\n",
    "            None\n",
    "\n",
    "        \"\"\"\n",
    "        df = pd.read_csv(self.config.data_path, names=list(self.config.columns))\n",
    "\n",
    "        # tidy the target column\n",
    "        df['patient_id'] = df[\"target\"].apply(lambda x: x.split(\"[\")[1].strip(']'))\n",
    "        df['target'] = df[\"target\"].apply(lambda x: x.split(\"[\")[0])\n",
    "\n",
    "        # replacing ? with np.nan\n",
    "        df.replace({\"?\":np.nan}, inplace=True)\n",
    "\n",
    "        # converting object to float\n",
    "        num_cols = [\"TSH\", \"T3\", \"TT4\", \"T4U\", \"FTI\", \"TBG\"]\n",
    "        for i in num_cols:\n",
    "            df[i] = df[i].astype(float)\n",
    "\n",
    "        # age cannot be 65526 \n",
    "        # capping age to 100 years\n",
    "        df = df[df[\"age\"] <= 100]\n",
    "\n",
    "        # Remove reduntant columns\n",
    "        df.drop(['TSH_measured', 'T3_measured', 'TT4_measured', 'T4U_measured', 'FTI_measured', 'TBG_measured', 'referral_source', 'patient_id', \"TBG\"], axis=1, inplace=True)\n",
    "\n",
    "        # Selecting a subset of target which can be classified as Hyper , hypo or Euthyroid (Negative) state\n",
    "        df = df[df['target'].isin(['A', 'B', 'C', 'D', 'E', 'F', 'G', 'H', 'AK', 'C|I', 'H|K', 'GK', 'FK', 'GI', 'GKJ', 'D|R', '-'])]\n",
    "        # mapping the target column\n",
    "        mapping = {'-': \"Negative\",\n",
    "                'A': 'Hyperthyroid', 'AK': \"Hyperthyroid\", 'B': \"Hyperthyroid\", 'C': \"Hyperthyroid\", 'C|I': 'Hyperthyroid', 'D': \"Hyperthyroid\", 'D|R': \"Hyperthyroid\",\n",
    "                'E': \"Hypothyroid\", 'F': \"Hypothyroid\", 'FK': \"Hypothyroid\", \"G\": \"Hypothyroid\", \"GK\": \"Hypothyroid\", \"GI\": \"Hypothyroid\", 'GKJ': 'Hypothyroid', 'H|K': 'Hypothyroid',\n",
    "                }\n",
    "        df['target'] = df['target'].map(mapping)\n",
    "\n",
    "        # impute some missing values of sex (total = 254 missing) using pregnancy\n",
    "        df[\"sex\"] = np.where((df[\"sex\"].isnull()) & (df[\"pregnant\"] == \"t\"), 'F', df[\"sex\"])\n",
    "\n",
    "        # replacing t with 1 and f with 0\n",
    "        # df = df.replace({\"t\": 1, \"f\": 0}) # this will be onehot encoded\n",
    "\n",
    "        # Mapping sex to 0 for female and 1 for male\n",
    "        # df[\"sex\"] = df[\"sex\"].map({\"F\": 0, \"M\": 1}) # this will be onehot encoded\n",
    "\n",
    "        # Mapping target\n",
    "        df[\"target\"] = df.target.map(\n",
    "            {'Negative': 0, 'Hypothyroid': 1, 'Hyperthyroid': 2})\n",
    "\n",
    "        # Split the data into train and test sets. (0.75 , 0.25) split\n",
    "        train, test = train_test_split(df, random_state=0)\n",
    "\n",
    "        train.to_csv(os.path.join(\n",
    "            self.config.root_dir, \"train.csv\"), index=False)\n",
    "        test.to_csv(os.path.join(\n",
    "            self.config.root_dir, \"test.csv\"), index=False)\n",
    "\n",
    "        logger.info(f\"Splited data into training and testing sets\")\n",
    "        logger.info(f\"Train data shape is: {train.shape}\")\n",
    "        logger.info(f\"Train data shape is: {test.shape}\")"
   ]
  },
  {
   "cell_type": "code",
   "execution_count": 37,
   "metadata": {},
   "outputs": [
    {
     "name": "stdout",
     "output_type": "stream",
     "text": [
      "[2024-01-26 21:10:48,382:INFO:common:yaml file: config\\config.yaml loaded successfully]\n",
      "[2024-01-26 21:10:48,385:INFO:common:yaml file: params.yaml loaded successfully]\n",
      "[2024-01-26 21:10:48,389:INFO:common:yaml file: schema.yaml loaded successfully]\n",
      "[2024-01-26 21:10:48,392:INFO:common:created directory at :artifacts]\n",
      "[2024-01-26 21:10:48,392:INFO:common:created directory at :artifacts/data_transformation]\n",
      "[2024-01-26 21:10:48,528:INFO:2031194464:Splited data into training and testing sets]\n",
      "[2024-01-26 21:10:48,528:INFO:2031194464:Train data shape is: (5756, 22)]\n",
      "[2024-01-26 21:10:48,532:INFO:2031194464:Train data shape is: (1919, 22)]\n"
     ]
    }
   ],
   "source": [
    "try:\n",
    "    config = ConfigurationManager()\n",
    "    data_transformation_config = config.get_data_transformation_config()\n",
    "    data_transformation = DataTransformation(config=data_transformation_config)\n",
    "    data_transformation.data_clenser_splitter()\n",
    "except Exception as e:\n",
    "    raise e"
   ]
  },
  {
   "cell_type": "code",
   "execution_count": null,
   "metadata": {},
   "outputs": [],
   "source": []
  }
 ],
 "metadata": {
  "kernelspec": {
   "display_name": "Python 3",
   "language": "python",
   "name": "python3"
  },
  "language_info": {
   "codemirror_mode": {
    "name": "ipython",
    "version": 3
   },
   "file_extension": ".py",
   "mimetype": "text/x-python",
   "name": "python",
   "nbconvert_exporter": "python",
   "pygments_lexer": "ipython3",
   "version": "3.11.4"
  }
 },
 "nbformat": 4,
 "nbformat_minor": 2
}
