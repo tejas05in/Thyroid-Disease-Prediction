{
 "cells": [
  {
   "cell_type": "code",
   "execution_count": 5,
   "metadata": {},
   "outputs": [],
   "source": [
    "import os"
   ]
  },
  {
   "cell_type": "code",
   "execution_count": 6,
   "metadata": {},
   "outputs": [
    {
     "data": {
      "text/plain": [
       "'/home/tejas/MLProj/Thyroid-Disease-Prediction/research'"
      ]
     },
     "execution_count": 6,
     "metadata": {},
     "output_type": "execute_result"
    }
   ],
   "source": [
    "%pwd"
   ]
  },
  {
   "cell_type": "code",
   "execution_count": 7,
   "metadata": {},
   "outputs": [],
   "source": [
    "os.chdir('../')"
   ]
  },
  {
   "cell_type": "code",
   "execution_count": 8,
   "metadata": {},
   "outputs": [
    {
     "data": {
      "text/plain": [
       "'/home/tejas/MLProj/Thyroid-Disease-Prediction'"
      ]
     },
     "execution_count": 8,
     "metadata": {},
     "output_type": "execute_result"
    }
   ],
   "source": [
    "%pwd"
   ]
  },
  {
   "cell_type": "code",
   "execution_count": 9,
   "metadata": {},
   "outputs": [],
   "source": [
    "from dataclasses import dataclass\n",
    "from pathlib import Path\n",
    "\n",
    "\n",
    "@dataclass(frozen=True)\n",
    "class DriftMonitoringConfig:\n",
    "    root_dir: Path\n",
    "    train_data_path: Path\n",
    "    test_data_path: Path\n",
    "    model_path: Path\n",
    "    report_path_name: str\n",
    "    test_path_name: str\n",
    "    target_column: str\n",
    "    "
   ]
  },
  {
   "cell_type": "code",
   "execution_count": 10,
   "metadata": {},
   "outputs": [],
   "source": [
    "from ThyroidProject.constants import *\n",
    "from ThyroidProject.utils.common import read_yaml, create_directories"
   ]
  },
  {
   "cell_type": "code",
   "execution_count": 11,
   "metadata": {},
   "outputs": [],
   "source": [
    "class ConfigurationManager:\n",
    "    def __init__(self,\n",
    "                 config_filepath=CONFIG_FILE_PATH,\n",
    "                 params_filepath=PARAMS_FILE_PATH,\n",
    "                 schema_filepath=SCHEMA_FILE_PATH):\n",
    "\n",
    "        self.config = read_yaml(config_filepath)\n",
    "        self.params = read_yaml(params_filepath)\n",
    "        self.schema = read_yaml(schema_filepath)\n",
    "\n",
    "        create_directories([self.config.artifacts_root])\n",
    "        \n",
    "    def get_drift_monitoring_config(self) -> DriftMonitoringConfig:\n",
    "        \"\"\"\n",
    "        Get the Drift Monitoring Config.\n",
    "\n",
    "        Returns:\n",
    "            DriftMonitoringConfig: The Drift Monitoring Config.\n",
    "\n",
    "        \"\"\"\n",
    "        # Load the config file\n",
    "        config = self.config.drift_monitoring\n",
    "        # Load the params file\n",
    "        params = self.params.GradientBoostedTreesLearner\n",
    "        # Load the schema file\n",
    "        schema = self.schema.TARGET_COLUMN\n",
    "\n",
    "        # Create the directories\n",
    "        create_directories([config.root_dir])\n",
    "\n",
    "        # Create the DriftMonitoringConfig object\n",
    "        drift_monitoring_config = DriftMonitoringConfig(\n",
    "            root_dir=config.root_dir,\n",
    "            train_data_path=config.train_data_path,\n",
    "            test_data_path=config.test_data_path,\n",
    "            model_path=config.model_path,\n",
    "            report_path_name=config.report_path_name,\n",
    "            test_path_name=config.test_path_name,\n",
    "            target_column=schema.name\n",
    "        )\n",
    "\n",
    "        return drift_monitoring_config"
   ]
  },
  {
   "cell_type": "code",
   "execution_count": 12,
   "metadata": {},
   "outputs": [],
   "source": [
    "import pandas as pd\n",
    "import numpy as np\n",
    "\n",
    "from evidently import ColumnMapping\n",
    "\n",
    "from evidently.report import Report\n",
    "from evidently.metrics.base_metric import generate_column_metrics\n",
    "from evidently.metric_preset import DataDriftPreset, TargetDriftPreset, DataQualityPreset, ClassificationPreset\n",
    "from evidently.metrics import *\n",
    "\n",
    "from evidently.test_suite import TestSuite\n",
    "from evidently.test_preset import DataStabilityTestPreset, NoTargetPerformanceTestPreset, MulticlassClassificationTestPreset\n",
    "from evidently.tests import *\n",
    "\n",
    "import ydf"
   ]
  },
  {
   "cell_type": "code",
   "execution_count": 15,
   "metadata": {},
   "outputs": [],
   "source": [
    "class DriftMonitoring:\n",
    "    def __init__(self, config: DriftMonitoringConfig):\n",
    "        self.config = config\n",
    "        \n",
    "    def generate_drift_reports(self):\n",
    "        \"\"\"\n",
    "        Generate the Drift Reports.\n",
    "\n",
    "        Returns:\n",
    "            None\n",
    "        \"\"\"\n",
    "        \n",
    "        # Load the data\n",
    "        train_df = pd.read_csv(self.config.train_data_path)\n",
    "        test_df = pd.read_csv(self.config.test_data_path)\n",
    "        \n",
    "        # Create the test and train features\n",
    "        target = self.config.target_column\n",
    "        X_train = train_df.drop(target, axis=1)\n",
    "        X_test = test_df.drop(target, axis=1)\n",
    "        \n",
    "        # load model\n",
    "        model = ydf.load_model(self.config.model_path)\n",
    "        \n",
    "        \n",
    "        # Make predictions\n",
    "        preds = model.predict(X_test)\n",
    "        y_test_preds = [np.argmax(i) for i in preds]\n",
    "        preds = model.predict(X_train)\n",
    "        y_train_preds = [np.argmax(i) for i in preds]\n",
    "        \n",
    "        # print(y_test_preds , y_train_preds)\n",
    "        \n",
    "        # Create the column mapping for predictions\n",
    "        train_df[\"prediction\"] = y_train_preds\n",
    "        test_df[\"prediction\"] = y_test_preds\n",
    "        \n",
    "        # Identifying categorical and numerical columns\n",
    "        cat_col = train_df.select_dtypes(include=\"object\").columns\n",
    "        num_col = train_df.select_dtypes(exclude=\"object\").columns\n",
    "        num_col = num_col.drop([self.config.target_column, 'prediction'])\n",
    "        \n",
    "        # Create the column mapping for evidently\n",
    "        column_mapping = ColumnMapping()\n",
    "        column_mapping.target = self.config.target_column\n",
    "        column_mapping.prediction = \"prediction\"\n",
    "        column_mapping.numerical_features = cat_col\n",
    "        column_mapping.categorical_features = num_col\n",
    "        \n",
    "        # Create the report\n",
    "        report = Report(metrics=[ColumnSummaryMetric(column_name='T3'),\n",
    "                                 ColumnSummaryMetric(column_name='TSH'),\n",
    "                                 ColumnSummaryMetric(column_name='T4U'),\n",
    "                                 ColumnSummaryMetric(column_name='TT4'),\n",
    "                                 generate_column_metrics(ColumnQuantileMetric, parameters={\n",
    "                                     'quantile': 0.25}, columns='num'),\n",
    "                                 DataDriftPreset(),\n",
    "                                 TargetDriftPreset(),\n",
    "                                 DataQualityPreset(),\n",
    "                                 ClassificationPreset()\n",
    "                                 ])\n",
    "\n",
    "\n",
    "        report.run(reference_data=train_df, current_data=test_df)\n",
    "        \n",
    "        #save the report\n",
    "        report.save_html(self.config.report_path_name)\n",
    "        \n",
    "        # Perform tests\n",
    "        test_suite = TestSuite(tests=[\n",
    "            TestNumberOfColumnsWithMissingValues(),\n",
    "            TestNumberOfRowsWithMissingValues(),\n",
    "            TestNumberOfConstantColumns(),\n",
    "            TestNumberOfDuplicatedRows(),\n",
    "            TestNumberOfDuplicatedColumns(),\n",
    "            TestColumnsType(),\n",
    "            TestNumberOfDriftedColumns(),\n",
    "            DataStabilityTestPreset(),\n",
    "            NoTargetPerformanceTestPreset(),\n",
    "            MulticlassClassificationTestPreset()\n",
    "        ])\n",
    "\n",
    "        test_suite.run(reference_data=train_df, current_data=test_df)\n",
    "        \n",
    "        #save the test suite\n",
    "        test_suite.save_html(self.config.test_path_name)\n",
    "        "
   ]
  },
  {
   "cell_type": "code",
   "execution_count": 16,
   "metadata": {},
   "outputs": [
    {
     "name": "stdout",
     "output_type": "stream",
     "text": [
      "[2024-02-03 21:36:03,343:INFO:common:yaml file: config/config.yaml loaded successfully]\n",
      "[2024-02-03 21:36:03,346:INFO:common:yaml file: params.yaml loaded successfully]\n",
      "[2024-02-03 21:36:03,349:INFO:common:yaml file: schema.yaml loaded successfully]\n",
      "[2024-02-03 21:36:03,350:INFO:common:created directory at :artifacts]\n",
      "[2024-02-03 21:36:03,351:INFO:common:created directory at :artifacts/drift_monitoring]\n",
      "[2024-02-03 21:36:03,386:INFO:model_lib:Loading model from artifacts/model_trainer/model]\n"
     ]
    }
   ],
   "source": [
    "try:\n",
    "    config = ConfigurationManager()\n",
    "    drift_monitoring_config = config.get_drift_monitoring_config()\n",
    "    drift_monitoring = DriftMonitoring(config=drift_monitoring_config)\n",
    "    drift_monitoring.generate_drift_reports()\n",
    "except Exception as e:\n",
    "    raise e"
   ]
  },
  {
   "cell_type": "code",
   "execution_count": null,
   "metadata": {},
   "outputs": [],
   "source": []
  }
 ],
 "metadata": {
  "kernelspec": {
   "display_name": "Python 3",
   "language": "python",
   "name": "python3"
  },
  "language_info": {
   "codemirror_mode": {
    "name": "ipython",
    "version": 3
   },
   "file_extension": ".py",
   "mimetype": "text/x-python",
   "name": "python",
   "nbconvert_exporter": "python",
   "pygments_lexer": "ipython3",
   "version": "3.11.4"
  }
 },
 "nbformat": 4,
 "nbformat_minor": 2
}
