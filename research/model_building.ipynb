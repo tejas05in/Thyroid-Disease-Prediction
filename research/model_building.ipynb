{
 "cells": [
  {
   "cell_type": "code",
   "execution_count": 79,
   "metadata": {},
   "outputs": [],
   "source": [
    "import pandas as pd\n",
    "import numpy as np\n",
    "import warnings\n",
    "warnings.filterwarnings(\"ignore\")\n",
    "from sklearn.experimental import enable_iterative_imputer\n",
    "from sklearn.impute import IterativeImputer ,SimpleImputer\n",
    "from scipy.stats import zscore\n",
    "from sklearn.compose import ColumnTransformer\n",
    "from imblearn.combine import SMOTETomek\n",
    "from sklearn.model_selection import train_test_split\n",
    "from sklearn.pipeline import Pipeline\n",
    "from sklearn.preprocessing import StandardScaler , OneHotEncoder\n",
    "from xgboost import XGBClassifier\n",
    "from sklearn.metrics import classification_report ,accuracy_score\n",
    "from sklearn.ensemble import RandomForestClassifier\n",
    "import ydf\n",
    "# from sklearn.ensemble import ExtraTreesRegressor"
   ]
  },
  {
   "cell_type": "code",
   "execution_count": 80,
   "metadata": {},
   "outputs": [
    {
     "data": {
      "text/html": [
       "<div>\n",
       "<style scoped>\n",
       "    .dataframe tbody tr th:only-of-type {\n",
       "        vertical-align: middle;\n",
       "    }\n",
       "\n",
       "    .dataframe tbody tr th {\n",
       "        vertical-align: top;\n",
       "    }\n",
       "\n",
       "    .dataframe thead th {\n",
       "        text-align: right;\n",
       "    }\n",
       "</style>\n",
       "<table border=\"1\" class=\"dataframe\">\n",
       "  <thead>\n",
       "    <tr style=\"text-align: right;\">\n",
       "      <th></th>\n",
       "      <th>age</th>\n",
       "      <th>sex</th>\n",
       "      <th>on_thyroxine</th>\n",
       "      <th>query_on_thyroxine</th>\n",
       "      <th>on_antihyroid_meds</th>\n",
       "      <th>sick</th>\n",
       "      <th>pregnant</th>\n",
       "      <th>thyroid_surgery</th>\n",
       "      <th>I131_treatment</th>\n",
       "      <th>query_hypothyroid</th>\n",
       "      <th>...</th>\n",
       "      <th>TT4_measured</th>\n",
       "      <th>TT4</th>\n",
       "      <th>T4U_measured</th>\n",
       "      <th>T4U</th>\n",
       "      <th>FTI_measured</th>\n",
       "      <th>FTI</th>\n",
       "      <th>TBG_measured</th>\n",
       "      <th>TBG</th>\n",
       "      <th>referral_source</th>\n",
       "      <th>target</th>\n",
       "    </tr>\n",
       "  </thead>\n",
       "  <tbody>\n",
       "    <tr>\n",
       "      <th>0</th>\n",
       "      <td>29</td>\n",
       "      <td>F</td>\n",
       "      <td>f</td>\n",
       "      <td>f</td>\n",
       "      <td>f</td>\n",
       "      <td>f</td>\n",
       "      <td>f</td>\n",
       "      <td>f</td>\n",
       "      <td>f</td>\n",
       "      <td>t</td>\n",
       "      <td>...</td>\n",
       "      <td>f</td>\n",
       "      <td>?</td>\n",
       "      <td>f</td>\n",
       "      <td>?</td>\n",
       "      <td>f</td>\n",
       "      <td>?</td>\n",
       "      <td>f</td>\n",
       "      <td>?</td>\n",
       "      <td>other</td>\n",
       "      <td>-[840801013]</td>\n",
       "    </tr>\n",
       "    <tr>\n",
       "      <th>1</th>\n",
       "      <td>29</td>\n",
       "      <td>F</td>\n",
       "      <td>f</td>\n",
       "      <td>f</td>\n",
       "      <td>f</td>\n",
       "      <td>f</td>\n",
       "      <td>f</td>\n",
       "      <td>f</td>\n",
       "      <td>f</td>\n",
       "      <td>f</td>\n",
       "      <td>...</td>\n",
       "      <td>t</td>\n",
       "      <td>128</td>\n",
       "      <td>f</td>\n",
       "      <td>?</td>\n",
       "      <td>f</td>\n",
       "      <td>?</td>\n",
       "      <td>f</td>\n",
       "      <td>?</td>\n",
       "      <td>other</td>\n",
       "      <td>-[840801014]</td>\n",
       "    </tr>\n",
       "    <tr>\n",
       "      <th>2</th>\n",
       "      <td>41</td>\n",
       "      <td>F</td>\n",
       "      <td>f</td>\n",
       "      <td>f</td>\n",
       "      <td>f</td>\n",
       "      <td>f</td>\n",
       "      <td>f</td>\n",
       "      <td>f</td>\n",
       "      <td>f</td>\n",
       "      <td>f</td>\n",
       "      <td>...</td>\n",
       "      <td>f</td>\n",
       "      <td>?</td>\n",
       "      <td>f</td>\n",
       "      <td>?</td>\n",
       "      <td>f</td>\n",
       "      <td>?</td>\n",
       "      <td>t</td>\n",
       "      <td>11</td>\n",
       "      <td>other</td>\n",
       "      <td>-[840801042]</td>\n",
       "    </tr>\n",
       "    <tr>\n",
       "      <th>3</th>\n",
       "      <td>36</td>\n",
       "      <td>F</td>\n",
       "      <td>f</td>\n",
       "      <td>f</td>\n",
       "      <td>f</td>\n",
       "      <td>f</td>\n",
       "      <td>f</td>\n",
       "      <td>f</td>\n",
       "      <td>f</td>\n",
       "      <td>f</td>\n",
       "      <td>...</td>\n",
       "      <td>f</td>\n",
       "      <td>?</td>\n",
       "      <td>f</td>\n",
       "      <td>?</td>\n",
       "      <td>f</td>\n",
       "      <td>?</td>\n",
       "      <td>t</td>\n",
       "      <td>26</td>\n",
       "      <td>other</td>\n",
       "      <td>-[840803046]</td>\n",
       "    </tr>\n",
       "    <tr>\n",
       "      <th>4</th>\n",
       "      <td>32</td>\n",
       "      <td>F</td>\n",
       "      <td>f</td>\n",
       "      <td>f</td>\n",
       "      <td>f</td>\n",
       "      <td>f</td>\n",
       "      <td>f</td>\n",
       "      <td>f</td>\n",
       "      <td>f</td>\n",
       "      <td>f</td>\n",
       "      <td>...</td>\n",
       "      <td>f</td>\n",
       "      <td>?</td>\n",
       "      <td>f</td>\n",
       "      <td>?</td>\n",
       "      <td>f</td>\n",
       "      <td>?</td>\n",
       "      <td>t</td>\n",
       "      <td>36</td>\n",
       "      <td>other</td>\n",
       "      <td>S[840803047]</td>\n",
       "    </tr>\n",
       "  </tbody>\n",
       "</table>\n",
       "<p>5 rows × 30 columns</p>\n",
       "</div>"
      ],
      "text/plain": [
       "   age sex on_thyroxine query_on_thyroxine on_antihyroid_meds sick pregnant  \\\n",
       "0   29   F            f                  f                  f    f        f   \n",
       "1   29   F            f                  f                  f    f        f   \n",
       "2   41   F            f                  f                  f    f        f   \n",
       "3   36   F            f                  f                  f    f        f   \n",
       "4   32   F            f                  f                  f    f        f   \n",
       "\n",
       "  thyroid_surgery I131_treatment query_hypothyroid  ... TT4_measured  TT4  \\\n",
       "0               f              f                 t  ...            f    ?   \n",
       "1               f              f                 f  ...            t  128   \n",
       "2               f              f                 f  ...            f    ?   \n",
       "3               f              f                 f  ...            f    ?   \n",
       "4               f              f                 f  ...            f    ?   \n",
       "\n",
       "  T4U_measured T4U FTI_measured FTI TBG_measured TBG referral_source  \\\n",
       "0            f   ?            f   ?            f   ?           other   \n",
       "1            f   ?            f   ?            f   ?           other   \n",
       "2            f   ?            f   ?            t  11           other   \n",
       "3            f   ?            f   ?            t  26           other   \n",
       "4            f   ?            f   ?            t  36           other   \n",
       "\n",
       "         target  \n",
       "0  -[840801013]  \n",
       "1  -[840801014]  \n",
       "2  -[840801042]  \n",
       "3  -[840803046]  \n",
       "4  S[840803047]  \n",
       "\n",
       "[5 rows x 30 columns]"
      ]
     },
     "execution_count": 80,
     "metadata": {},
     "output_type": "execute_result"
    }
   ],
   "source": [
    "names = [\"age\",\"sex\",\"on_thyroxine\",\"query_on_thyroxine\",\"on_antihyroid_meds\",\"sick\",\"pregnant\",\"thyroid_surgery\",\"I131_treatment\",\"query_hypothyroid\",\"query hyperthyroid\",\"lithium\",\"goitre\",\"tumor\",\"hypopituitary\",\"psych\",\"TSH_measured\",\"TSH\",\"T3_measured\",\"T3\",\"TT4_measured\",\"TT4\",\"T4U_measured\",\"T4U\",\"FTI_measured\",\"FTI\",\"TBG_measured\",\"TBG\",\"referral_source\",\"target\"]\n",
    "df = pd.read_csv(\"data/thyroid0387.data\",names=names)\n",
    "df.head()"
   ]
  },
  {
   "cell_type": "code",
   "execution_count": 81,
   "metadata": {},
   "outputs": [],
   "source": [
    "# tidy the target column\n",
    "df['patient_id'] = df[\"target\"].apply(lambda x: x.split(\"[\")[1].strip(']'))\n",
    "df['target'] = df[\"target\"].apply(lambda x: x.split(\"[\")[0])"
   ]
  },
  {
   "cell_type": "code",
   "execution_count": 82,
   "metadata": {},
   "outputs": [],
   "source": [
    "# replacing ? with np.nan\n",
    "df.replace({\"?\":np.nan},inplace=True)"
   ]
  },
  {
   "cell_type": "code",
   "execution_count": 83,
   "metadata": {},
   "outputs": [],
   "source": [
    "# converting object to float\n",
    "num_cols = [\"TSH\",\"T3\",\"TT4\",\"T4U\",\"FTI\",\"TBG\"]\n",
    "for i in num_cols:\n",
    "    df[i] = df[i].astype(float)"
   ]
  },
  {
   "cell_type": "code",
   "execution_count": 84,
   "metadata": {},
   "outputs": [],
   "source": [
    "# age cannot be 65526 \n",
    "# capping age to 100 years\n",
    "df = df[df[\"age\"] <= 100]"
   ]
  },
  {
   "cell_type": "code",
   "execution_count": 85,
   "metadata": {},
   "outputs": [],
   "source": [
    "# Remove reduntant columns\n",
    "df.drop(['TSH_measured','T3_measured','TT4_measured','T4U_measured','FTI_measured','TBG_measured','referral_source','patient_id',\"TBG\"],axis=1, inplace=True)"
   ]
  },
  {
   "cell_type": "code",
   "execution_count": 86,
   "metadata": {},
   "outputs": [],
   "source": [
    "# Selecting a subset of target which can be classified as Hyper , hypo or Euthyroid (Negative) state\n",
    "df = df[df['target'].isin(['A', 'B', 'C', 'D', 'E', 'F', 'G', 'H', 'AK', 'C|I', 'H|K', 'GK', 'FK', 'GI', 'GKJ', 'D|R', '-'])]\n",
    "# mapping the target column\n",
    "mapping = {'-':\"Negative\",\n",
    "           'A':'Hyperthyroid','AK':\"Hyperthyroid\",'B':\"Hyperthyroid\", 'C':\"Hyperthyroid\", 'C|I': 'Hyperthyroid', 'D':\"Hyperthyroid\", 'D|R':\"Hyperthyroid\",\n",
    "           'E': \"Hypothyroid\", 'F': \"Hypothyroid\", 'FK': \"Hypothyroid\", \"G\": \"Hypothyroid\", \"GK\": \"Hypothyroid\", \"GI\": \"Hypothyroid\", 'GKJ': 'Hypothyroid', 'H|K': 'Hypothyroid',\n",
    "          }\n",
    "df['target'] = df['target'].map(mapping)"
   ]
  },
  {
   "cell_type": "code",
   "execution_count": 87,
   "metadata": {},
   "outputs": [],
   "source": [
    "# impute some missing values of sex (total = 254 missing) using pregnancy\n",
    "df[\"sex\"] = np.where((df[\"sex\"].isnull()) & (df[\"pregnant\"]==\"t\"),'F',df[\"sex\"])"
   ]
  },
  {
   "cell_type": "code",
   "execution_count": 88,
   "metadata": {},
   "outputs": [
    {
     "name": "stdout",
     "output_type": "stream",
     "text": [
      "Index(['sex', 'on_thyroxine', 'query_on_thyroxine', 'on_antihyroid_meds',\n",
      "       'sick', 'pregnant', 'thyroid_surgery', 'I131_treatment',\n",
      "       'query_hypothyroid', 'query hyperthyroid', 'lithium', 'goitre', 'tumor',\n",
      "       'hypopituitary', 'psych'],\n",
      "      dtype='object')\n",
      "Index(['age', 'TSH', 'T3', 'TT4', 'T4U', 'FTI'], dtype='object')\n"
     ]
    }
   ],
   "source": [
    "# EDA \n",
    "cat_cols = df.select_dtypes(include=\"object\").columns\n",
    "cat_cols =  cat_cols.drop(\"target\")\n",
    "num_cols = df.select_dtypes(exclude=\"object\").columns\n",
    "print(cat_cols)\n",
    "print(num_cols)"
   ]
  },
  {
   "cell_type": "markdown",
   "metadata": {},
   "source": [
    "## **Outliers are not removed as they may be important for the model**"
   ]
  },
  {
   "cell_type": "code",
   "execution_count": 89,
   "metadata": {},
   "outputs": [],
   "source": [
    "df = df.replace({\"t\":1,\"f\":0})\n"
   ]
  },
  {
   "cell_type": "code",
   "execution_count": 90,
   "metadata": {},
   "outputs": [],
   "source": [
    "# Mapping sex to 0 for female and 1 for male\n",
    "df[\"sex\"] = df[\"sex\"].map({\"F\":0,\"M\":1})"
   ]
  },
  {
   "cell_type": "code",
   "execution_count": 91,
   "metadata": {},
   "outputs": [],
   "source": [
    "df[\"target\"] = df.target.map({ 'Negative': 0, 'Hypothyroid': 1,'Hyperthyroid': 2})"
   ]
  },
  {
   "cell_type": "code",
   "execution_count": 92,
   "metadata": {},
   "outputs": [
    {
     "data": {
      "text/plain": [
       "age                      0\n",
       "sex                    252\n",
       "on_thyroxine             0\n",
       "query_on_thyroxine       0\n",
       "on_antihyroid_meds       0\n",
       "sick                     0\n",
       "pregnant                 0\n",
       "thyroid_surgery          0\n",
       "I131_treatment           0\n",
       "query_hypothyroid        0\n",
       "query hyperthyroid       0\n",
       "lithium                  0\n",
       "goitre                   0\n",
       "tumor                    0\n",
       "hypopituitary            0\n",
       "psych                    0\n",
       "TSH                    724\n",
       "T3                    2208\n",
       "TT4                    354\n",
       "T4U                    681\n",
       "FTI                    674\n",
       "target                   0\n",
       "dtype: int64"
      ]
     },
     "execution_count": 92,
     "metadata": {},
     "output_type": "execute_result"
    }
   ],
   "source": [
    "df.isnull().sum()"
   ]
  },
  {
   "cell_type": "code",
   "execution_count": 93,
   "metadata": {},
   "outputs": [],
   "source": [
    "# # imputer\n",
    "# imputer = IterativeImputer()\n",
    "# impute_df = imputer.fit_transform(df)\n",
    "# impute_df = pd.DataFrame(impute_df, index=df.index, columns=df.columns)\n",
    "# df.update(impute_df)"
   ]
  },
  {
   "cell_type": "code",
   "execution_count": 94,
   "metadata": {},
   "outputs": [],
   "source": [
    "X = df.drop(\"target\",axis=1)\n",
    "y = df[\"target\"]"
   ]
  },
  {
   "cell_type": "code",
   "execution_count": 95,
   "metadata": {},
   "outputs": [],
   "source": [
    "## Numerical Pipeline\n",
    "num_pipeline=Pipeline(\n",
    "steps=[\n",
    "    ('imputer',IterativeImputer(random_state=42)),\n",
    "    ('scaler', StandardScaler()),\n",
    "    ]\n",
    ")\n",
    "\n",
    "# Categorigal Pipeline\n",
    "cat_pipeline=Pipeline(\n",
    "steps=[\n",
    "    # ('imputer', SimpleImputer(strategy='most_frequent')),\n",
    "    ('imputer', IterativeImputer(random_state=42)),\n",
    "    # ('ordinalencoder',OneHotEncoder(drop='first',handle_unknown='ignore')),\n",
    "    # ('scaler',StandardScaler(with_mean=False))\n",
    "    ]\n",
    "\n",
    ")\n",
    "\n",
    "preprocessor=ColumnTransformer([\n",
    "    ('num_pipeline',num_pipeline,num_cols),\n",
    "    ('cat_pipeline',cat_pipeline,cat_cols)\n",
    "])"
   ]
  },
  {
   "cell_type": "code",
   "execution_count": 96,
   "metadata": {},
   "outputs": [],
   "source": [
    "X_train, X_test, y_train, y_test = train_test_split(X, y, test_size=0.2, random_state=42)"
   ]
  },
  {
   "cell_type": "code",
   "execution_count": 97,
   "metadata": {},
   "outputs": [
    {
     "data": {
      "text/plain": [
       "((6140, 21), (1535, 21), (6140,), (1535,))"
      ]
     },
     "execution_count": 97,
     "metadata": {},
     "output_type": "execute_result"
    }
   ],
   "source": [
    "X_train.shape , X_test.shape , y_train.shape , y_test.shape"
   ]
  },
  {
   "cell_type": "code",
   "execution_count": 98,
   "metadata": {},
   "outputs": [],
   "source": [
    "X_train = preprocessor.fit_transform(X_train)\n",
    "X_test = preprocessor.transform(X_test)"
   ]
  },
  {
   "cell_type": "code",
   "execution_count": 99,
   "metadata": {},
   "outputs": [
    {
     "data": {
      "text/plain": [
       "((6140, 21), (1535, 21))"
      ]
     },
     "execution_count": 99,
     "metadata": {},
     "output_type": "execute_result"
    }
   ],
   "source": [
    "X_train.shape , X_test.shape"
   ]
  },
  {
   "cell_type": "code",
   "execution_count": 100,
   "metadata": {},
   "outputs": [
    {
     "data": {
      "text/plain": [
       "target\n",
       "0    5415\n",
       "1     534\n",
       "2     191\n",
       "Name: count, dtype: int64"
      ]
     },
     "execution_count": 100,
     "metadata": {},
     "output_type": "execute_result"
    }
   ],
   "source": [
    "y_train.value_counts()"
   ]
  },
  {
   "cell_type": "code",
   "execution_count": 101,
   "metadata": {},
   "outputs": [],
   "source": [
    "resampler = SMOTETomek(random_state=42)\n",
    "X_train , y_train = resampler.fit_resample(X_train,y_train)\n",
    "X_test , y_test = resampler.fit_resample(X_test , y_test)"
   ]
  },
  {
   "cell_type": "code",
   "execution_count": 102,
   "metadata": {},
   "outputs": [
    {
     "data": {
      "text/plain": [
       "target\n",
       "2    1352\n",
       "0    1348\n",
       "1    1348\n",
       "Name: count, dtype: int64"
      ]
     },
     "execution_count": 102,
     "metadata": {},
     "output_type": "execute_result"
    }
   ],
   "source": [
    "y_test.value_counts()"
   ]
  },
  {
   "cell_type": "code",
   "execution_count": 103,
   "metadata": {},
   "outputs": [],
   "source": [
    "model = XGBClassifier(objective = \"mulit:softmax\",\n",
    "                      num_class = 3,\n",
    "                      early_stopping_rounds = 10,\n",
    "                      eval_metric = [\"merror\",\"mlogloss\"],\n",
    "                      seed = 42)\n",
    "model.fit(X_train , y_train,verbose=0 ,eval_set=[(X_test,y_test)])\n",
    "y_pred = model.predict(X_test)"
   ]
  },
  {
   "cell_type": "code",
   "execution_count": 104,
   "metadata": {},
   "outputs": [
    {
     "name": "stdout",
     "output_type": "stream",
     "text": [
      "              precision    recall  f1-score   support\n",
      "\n",
      "           0       0.96      0.96      0.96      1348\n",
      "           1       0.97      0.98      0.98      1348\n",
      "           2       0.99      0.98      0.99      1352\n",
      "\n",
      "    accuracy                           0.98      4048\n",
      "   macro avg       0.98      0.98      0.98      4048\n",
      "weighted avg       0.98      0.98      0.98      4048\n",
      "\n"
     ]
    }
   ],
   "source": [
    "print(classification_report(y_test,y_pred))"
   ]
  },
  {
   "cell_type": "code",
   "execution_count": 105,
   "metadata": {},
   "outputs": [
    {
     "name": "stdout",
     "output_type": "stream",
     "text": [
      "0.9755434782608695\n"
     ]
    }
   ],
   "source": [
    "print(accuracy_score(y_test,y_pred))"
   ]
  },
  {
   "cell_type": "code",
   "execution_count": 106,
   "metadata": {},
   "outputs": [
    {
     "name": "stdout",
     "output_type": "stream",
     "text": [
      "0.9666501976284585\n"
     ]
    }
   ],
   "source": [
    "model_1 = RandomForestClassifier(random_state=42)\n",
    "model_1.fit(X_train, y_train)\n",
    "y_pred = model_1.predict(X_test)\n",
    "print(accuracy_score(y_test, y_pred))"
   ]
  },
  {
   "cell_type": "markdown",
   "metadata": {},
   "source": [
    "## Trying ydf"
   ]
  },
  {
   "cell_type": "code",
   "execution_count": 110,
   "metadata": {},
   "outputs": [
    {
     "data": {
      "text/plain": [
       "(5372, 2303)"
      ]
     },
     "execution_count": 110,
     "metadata": {},
     "output_type": "execute_result"
    }
   ],
   "source": [
    "# split dataset into training and testing\n",
    "train_df , test_df = train_test_split(df,test_size=0.3,random_state=42)\n",
    "len(train_df) , len(test_df)"
   ]
  },
  {
   "cell_type": "code",
   "execution_count": 111,
   "metadata": {},
   "outputs": [
    {
     "name": "stdout",
     "output_type": "stream",
     "text": [
      "Train model on 5372 examples\n",
      "Model trained in 0:00:00.755030\n"
     ]
    }
   ],
   "source": [
    "model = ydf.GradientBoostedTreesLearner(label=\"target\").train(train_df)"
   ]
  },
  {
   "cell_type": "code",
   "execution_count": 113,
   "metadata": {},
   "outputs": [
    {
     "data": {
      "text/html": [
       "<div>\n",
       "  <style>.metric_box {\n",
       "}\n",
       "\n",
       ".metric_box a {\n",
       "  text-decoration:none;\n",
       "  color: darkblue;\n",
       "}\n",
       "\n",
       ".metric_box .title {\n",
       "  font-weight: bold;\n",
       "}\n",
       "\n",
       ".metric_box .section {\n",
       "  margin: 5px 5px 5px 5px;\n",
       "}\n",
       "\n",
       ".metric_box .grid {\n",
       "  display: grid;\n",
       "  grid-template-columns: max-content max-content max-content max-content;\n",
       "  grid-template-rows: auto;\n",
       "  border-bottom: 1px solid lightgray;\n",
       "  padding: 10px;\n",
       "}\n",
       "\n",
       ".metric_box .grid > div {\n",
       "}\n",
       "\n",
       ".metric_box .grid > div:nth-child(odd) {\n",
       "  font-weight: bold;\n",
       "  padding-right: 5px;\n",
       "  text-align: right;\n",
       "}\n",
       "\n",
       ".metric_box .grid > div:nth-child(even) {\n",
       "  padding-right: 20px;\n",
       "}\n",
       "\n",
       ".metric_box .complex {\n",
       "  display: inline-block;\n",
       "  margin: 15px 20px 0px 0px;\n",
       "  vertical-align: top;\n",
       "}\n",
       "\n",
       ".metric_box .complex .key {\n",
       "  font-weight: bold;\n",
       "}\n",
       "\n",
       ".metric_box .complex .value {\n",
       "}\n",
       "\n",
       ".metric_box .confusion_matrix {\n",
       "  border-collapse: collapse;\n",
       "  margin: 15px 15px;\n",
       "  border: 1px solid lightgray;\n",
       "}\n",
       "\n",
       ".metric_box .confusion_matrix th {\n",
       "  background-color: #ededed;\n",
       "  font-weight: bold;\n",
       "  text-align: left;\n",
       "  padding: 5px;\n",
       "  border: 1px solid lightgray;\n",
       "}\n",
       "\n",
       ".metric_box .confusion_matrix td {\n",
       "  text-align: right;\n",
       "  padding: 3px;\n",
       "  border: 1px solid lightgray;\n",
       "}\n",
       "</style>\n",
       "  <div class=\"metric_box\">\n",
       "    <div class=\"grid section\">\n",
       "      <div class=\"key\">accuracy:</div>\n",
       "      <div class=\"value\">0.983934</div>\n",
       "      <div class=\"key\">AUC: '0' vs others:</div>\n",
       "      <div class=\"value\">0.992533</div>\n",
       "      <div class=\"key\">PR-AUC: '0' vs others:</div>\n",
       "      <div class=\"value\">0.988414</div>\n",
       "      <div class=\"key\">AUC: '1' vs others:</div>\n",
       "      <div class=\"value\">0.994204</div>\n",
       "      <div class=\"key\">PR-AUC: '1' vs others:</div>\n",
       "      <div class=\"value\">0.988497</div>\n",
       "      <div class=\"key\">AUC: '2' vs others:</div>\n",
       "      <div class=\"value\">0.99462</div>\n",
       "      <div class=\"key\">PR-AUC: '2' vs others:</div>\n",
       "      <div class=\"value\">0.833925</div>\n",
       "      <div class=\"key\">loss:</div>\n",
       "      <div class=\"value\">0.0561492</div>\n",
       "      <div class=\"key\">\n",
       "        <a href=\"https://ydf.readthedocs.io/en/latest//glossary#number-of-examples\" target=\"_blank\">num examples:</a>\n",
       "      </div>\n",
       "      <div class=\"value\">2303</div>\n",
       "      <div class=\"key\">\n",
       "        <a href=\"https://ydf.readthedocs.io/en/latest//glossary#weighted-number-of-examples\" target=\"_blank\">num examples (weighted):</a>\n",
       "      </div>\n",
       "      <div class=\"value\">2303</div>\n",
       "    </div>\n",
       "    <div class=\"complex\">\n",
       "      <div class=\"key\">\n",
       "        <a href=\"https://ydf.readthedocs.io/en/latest//glossary#confusion-matrix\" target=\"_blank\">Confusion matrix</a>\n",
       "      </div>\n",
       "      <div class=\"value\">\n",
       "        <table class=\"confusion_matrix\">\n",
       "          <tr>\n",
       "            <th>Label \\ Pred</th>\n",
       "            <th>0</th>\n",
       "            <th>1</th>\n",
       "            <th>2</th>\n",
       "          </tr>\n",
       "          <tr>\n",
       "            <th>0</th>\n",
       "            <td>2010</td>\n",
       "            <td>3</td>\n",
       "            <td>14</td>\n",
       "          </tr>\n",
       "          <tr>\n",
       "            <th>1</th>\n",
       "            <td>9</td>\n",
       "            <td>200</td>\n",
       "            <td>0</td>\n",
       "          </tr>\n",
       "          <tr>\n",
       "            <th>2</th>\n",
       "            <td>10</td>\n",
       "            <td>1</td>\n",
       "            <td>56</td>\n",
       "          </tr>\n",
       "        </table>\n",
       "      </div>\n",
       "    </div>\n",
       "    <div class=\"complex\">\n",
       "      <div class=\"key\"/>\n",
       "      <div class=\"value\">\n",
       "<div style='display: grid; gap: 0px; grid-auto-columns: min-content;'><div style='grid-row:1 / span 1; grid-column:1 / span 1;'><script src='https://www.gstatic.com/external_hosted/plotly/plotly.min.js'></script>\n",
       "<div id=\"chart_582c_99db_0e53_0f4e\" style=\"display: inline-block;\" ></div>\n",
       "<script>\n",
       "  Plotly.newPlot(\n",
       "    'chart_582c_99db_0e53_0f4e',\n",
       "    [{\n",
       "x: [1,1,0.99635,0.99635,0.992701,0.989051,0.985401,0.978102,0.974453,0.974453,0.970803,0.967153,0.963504,0.959854,0.90146,0.89781,0.894161,0.890511,0.879562,0.864964,0.857664,0.854015,0.850365,0.835766,0.824818,0.821168,0.817518,0.80292,0.79927,0.79562,0.791971,0.784672,0.773723,0.770073,0.766423,0.762774,0.740876,0.737226,0.733577,0.729927,0.722628,0.718978,0.715328,0.711679,0.70438,0.70073,0.69708,0.693431,0.689781,0.682482,0.678832,0.675182,0.664234,0.660584,0.656934,0.653285,0.642336,0.635036,0.631387,0.627737,0.624088,0.620438,0.616788,0.60219,0.59854,0.594891,0.591241,0.587591,0.576642,0.572993,0.565693,0.562044,0.558394,0.554745,0.547445,0.543796,0.540146,0.536496,0.532847,0.521898,0.518248,0.514599,0.510949,0.507299,0.50365,0.5,0.49635,0.492701,0.489051,0.485401,0.481752,0.478102,0.474453,0.470803,0.467153,0.459854,0.456204,0.452555,0.448905,0.445255,0.441606,0.437956,0.434307,0.430657,0.427007,0.423358,0.419708,0.416058,0.412409,0.408759,0.405109,0.40146,0.39781,0.394161,0.390511,0.386861,0.383212,0.379562,0.375912,0.372263,0.368613,0.364964,0.361314,0.357664,0.354015,0.350365,0.346715,0.343066,0.339416,0.335766,0.332117,0.328467,0.324818,0.321168,0.317518,0.313869,0.310219,0.306569,0.30292,0.30292,0.29927,0.29562,0.291971,0.288321,0.284672,0.281022,0.277372,0.273723,0.270073,0.266423,0.262774,0.262774,0.259124,0.255474,0.251825,0.248175,0.244526,0.240876,0.237226,0.233577,0.229927,0.229927,0.226277,0.222628,0.218978,0.215328,0.211679,0.208029,0.208029,0.20438,0.20073,0.20073,0.20073,0.19708,0.193431,0.193431,0.193431,0.189781,0.186131,0.182482,0.178832,0.175182,0.171533,0.167883,0.164234,0.160584,0.156934,0.153285,0.149635,0.145985,0.145985,0.142336,0.138686,0.135036,0.131387,0.127737,0.124088,0.120438,0.116788,0.113139,0.109489,0.105839,0.10219,0.10219,0.10219,0.0985401,0.0948905,0.0948905,0.0912409,0.0875912,0.0839416,0.0839416,0.080292,0.0766423,0.0729927,0.0729927,0.0729927,0.0693431,0.0656934,0.0620438,0.0620438,0.0620438,0.0620438,0.0620438,0.0583942,0.0583942,0.0583942,0.0583942,0.0583942,0.0547445,0.0510949,0.0510949,0.0474453,0.0474453,0.0474453,0.0437956,0.0437956,0.0437956,0.040146,0.0364964,0.0364964,0.0364964,0.0328467,0.0328467,0.0291971,0.0291971,0.0291971,0.0291971,0.0291971,0.0291971,0.0291971,0.0255474,0.0255474,0.0255474,0.0255474,0.0255474,0.0255474,0.0255474,0.0255474,0.0255474,0.0255474,0.0255474,0.0218978,0.0218978,0.0218978,0.0218978,0.0218978,0.0218978,0.0218978,0.0218978,0.0218978,0.0218978,0.0218978,0.0218978,0.0218978,0.0218978,0.0218978,0.0218978,0.0218978,0.0218978,0.0218978,0.0218978,0.0218978,0.0218978,0.0218978,0.0218978,0.0218978,0.0218978,0.0182482,0.0182482,0.0182482,0.0182482,0.0182482,0.0182482,0.0182482,0.0182482,0.0182482,0.0182482,0.0182482,0.0182482,0.0182482,0.0182482,0.0182482,0.0182482,0.0182482,0.0182482,0.0182482,0.0182482,0.0182482,0.0182482,0.0182482,0.0182482,0.0182482,0.0182482,0.0182482,0.0182482,0.0182482,0.0182482,0.0182482,0.0182482,0.0182482,0.0182482,0.0182482,0.0182482,0.0182482,0.0182482,0.0182482,0.0182482,0.0182482,0.0182482,0.0182482,0.0145985,0.0145985,0.0145985,0.0145985,0.0145985,0.0145985,0.0145985,0.0145985,0.0145985,0.0145985,0.0145985,0.0145985,0.0145985,0.0145985,0.0145985,0.0145985,0.0145985,0.0145985,0.0145985,0.0145985,0.0145985,0.0145985,0.0145985,0.0145985,0.0145985,0.0145985,0.0145985,0.0145985,0.0145985,0.0145985,0.0145985,0.0145985,0.0145985,0.0145985,0.0109489,0.0109489,0.0109489,0.0109489,0.0109489,0.0109489,0.0109489,0.0109489,0.0109489,0.0109489,0.0109489,0.00729927,0.00729927,0.00729927,0.00729927,0.00729927,0.00729927,0.00729927,0.00729927,0.00729927,0.00729927,0.00729927,0.00729927,0.00729927,0.00729927,0.00729927,0.00729927,0.00729927,0.00729927,0.00729927,0.00729927,0.00729927,0.00729927,0.00729927,0.00729927,0.00729927,0.00729927,0.00729927,0.00729927,0.00729927,0.00729927,0.00729927,0.00729927,0.00729927,0.00729927,0.00729927,0.00729927,0.00364964,0.00364964,0.00364964,0.00364964,0.00364964,0.00364964,0.00364964,0.00364964,0.00364964,0.00364964,0.00364964,0.00364964,0.00364964,0.00364964,0.00364964,0.00364964,0.00364964,0.00364964,0.00364964,0.00364964,0.00364964,0.00364964,0.00364964,0.00364964,0.00364964,0,0,0,0,0,0,0,0,0],\n",
       "y: [1,1,1,0.999507,0.999507,0.999507,0.999507,0.999507,0.999507,0.999014,0.999014,0.999014,0.999014,0.999014,0.999014,0.999014,0.999014,0.999014,0.999014,0.999014,0.999014,0.999014,0.999014,0.999014,0.999014,0.999014,0.999014,0.999014,0.999014,0.999014,0.999014,0.999014,0.999014,0.999014,0.999014,0.999014,0.999014,0.999014,0.999014,0.999014,0.999014,0.999014,0.999014,0.999014,0.999014,0.999014,0.999014,0.999014,0.999014,0.999014,0.999014,0.999014,0.999014,0.999014,0.999014,0.999014,0.999014,0.999014,0.999014,0.999014,0.999014,0.999014,0.999014,0.999014,0.999014,0.999014,0.999014,0.999014,0.999014,0.999014,0.999014,0.999014,0.999014,0.999014,0.999014,0.999014,0.999014,0.999014,0.999014,0.999014,0.999014,0.999014,0.999014,0.999014,0.999014,0.999014,0.999014,0.999014,0.999014,0.999014,0.999014,0.999014,0.999014,0.999014,0.999014,0.999014,0.999014,0.999014,0.999014,0.999014,0.999014,0.999014,0.999014,0.999014,0.999014,0.999014,0.999014,0.999014,0.999014,0.999014,0.999014,0.999014,0.999014,0.999014,0.999014,0.999014,0.999014,0.999014,0.999014,0.999014,0.999014,0.999014,0.999014,0.999014,0.999014,0.999014,0.999014,0.999014,0.999014,0.999014,0.999014,0.999014,0.999014,0.999014,0.999014,0.999014,0.999014,0.999014,0.999014,0.998521,0.998521,0.998521,0.998521,0.998521,0.998521,0.998521,0.998521,0.998521,0.998521,0.998521,0.998521,0.998029,0.998029,0.998029,0.998029,0.998029,0.998029,0.998029,0.998029,0.998029,0.998029,0.997536,0.997536,0.997536,0.997536,0.997536,0.997536,0.997536,0.997043,0.997043,0.997043,0.99655,0.996057,0.996057,0.996057,0.995564,0.995071,0.995071,0.995071,0.995071,0.995071,0.995071,0.995071,0.995071,0.995071,0.995071,0.995071,0.995071,0.995071,0.995071,0.994579,0.994579,0.994579,0.994579,0.994579,0.994579,0.994579,0.994579,0.994579,0.994579,0.994579,0.994579,0.994579,0.994086,0.993593,0.993593,0.993593,0.9931,0.9931,0.9931,0.9931,0.992607,0.992607,0.992607,0.992607,0.992114,0.991621,0.991621,0.991621,0.991621,0.991129,0.990636,0.990143,0.98965,0.98965,0.989157,0.988664,0.988172,0.987679,0.987679,0.987679,0.987186,0.987186,0.986693,0.9862,0.9862,0.985707,0.985214,0.985214,0.985214,0.984722,0.984229,0.984229,0.983736,0.983736,0.983243,0.98275,0.982257,0.981764,0.981272,0.980779,0.980779,0.980286,0.979793,0.9793,0.978807,0.978314,0.977822,0.977329,0.976836,0.976343,0.97585,0.97585,0.975357,0.974864,0.974372,0.973879,0.973386,0.972893,0.9724,0.971907,0.971414,0.970922,0.970429,0.969936,0.969443,0.96895,0.968457,0.967965,0.967472,0.966979,0.966486,0.965993,0.9655,0.965007,0.964515,0.964022,0.963529,0.963529,0.963036,0.962543,0.96205,0.961557,0.961065,0.960572,0.960079,0.959586,0.959093,0.9586,0.958107,0.957615,0.957122,0.956629,0.956136,0.955643,0.95515,0.954657,0.954165,0.953672,0.952686,0.952193,0.951207,0.950222,0.949729,0.949236,0.948743,0.94825,0.947265,0.946772,0.946279,0.945786,0.945293,0.9448,0.944308,0.943815,0.943322,0.942336,0.941843,0.94135,0.940365,0.939872,0.939872,0.939379,0.938886,0.938393,0.937408,0.936915,0.935929,0.935436,0.934943,0.93445,0.933958,0.933465,0.932972,0.932479,0.931986,0.931493,0.931,0.929522,0.927551,0.927058,0.926072,0.924101,0.923608,0.923115,0.922622,0.922129,0.921636,0.921143,0.920651,0.916215,0.915722,0.915229,0.914736,0.914243,0.906358,0.905865,0.904386,0.903894,0.903401,0.902908,0.902415,0.901922,0.901429,0.900444,0.899951,0.896994,0.896501,0.896008,0.895515,0.895022,0.894529,0.894036,0.893544,0.893051,0.892065,0.891079,0.890586,0.886151,0.885658,0.885165,0.884672,0.884179,0.883687,0.883194,0.882701,0.880729,0.879251,0.878758,0.878265,0.865451,0.861508,0.86003,0.857072,0.85658,0.856087,0.855101,0.85313,0.852637,0.852144,0.851158,0.850665,0.850665,0.833908,0.831937,0.831444,0.830458,0.829966,0.828487,0.827994,0.827501,0.827008,0.826516,0.826023,0.823066,0.821587,0.713159,0.712666,0.711681,0.711188,0.710695,0.710202,0.706752,0.699852,0.695909,0.0152785,0.0147856,0.0147856,0.0142928,0.0064071,0.00344998,0.00246427,0.00147856,0.000985707,0.000492854,0],\n",
       "type: 'scatter',\n",
       "mode: 'lines',\n",
       "line: {\n",
       "  dash: 'solid',\n",
       "  width: 1\n",
       "},\n",
       "name: '0 vs others',\n",
       "},\n",
       "{\n",
       "x: [1,1,0.999524,0.999047,0.998571,0.998094,0.997618,0.997141,0.996665,0.995712,0.995236,0.994759,0.993807,0.986184,0.983325,0.982849,0.982373,0.981896,0.98142,0.980943,0.979038,0.979038,0.978561,0.978085,0.977608,0.977132,0.976656,0.973321,0.972844,0.972368,0.971891,0.965222,0.307289,0.306813,0.303001,0.302525,0.302049,0.301096,0.300619,0.300143,0.299667,0.298714,0.298237,0.297761,0.297284,0.296808,0.296332,0.295855,0.295379,0.294902,0.294426,0.293949,0.292997,0.29252,0.292044,0.291567,0.291091,0.289662,0.288232,0.183421,0.182944,0.182468,0.181991,0.169605,0.166746,0.16627,0.165317,0.16484,0.148642,0.148166,0.147689,0.147213,0.14626,0.145784,0.145307,0.144831,0.144354,0.143878,0.142925,0.142449,0.138161,0.137685,0.133873,0.13292,0.132444,0.131968,0.131491,0.128633,0.128156,0.12768,0.127203,0.126727,0.125298,0.124821,0.124345,0.123869,0.123392,0.122916,0.122439,0.121963,0.12101,0.120057,0.118628,0.116722,0.116246,0.115769,0.115293,0.114817,0.11434,0.113864,0.113387,0.112911,0.111482,0.109576,0.10767,0.107194,0.106717,0.10243,0.101953,0.101953,0.101477,0.101,0.0990948,0.0986184,0.098142,0.0967127,0.0962363,0.0957599,0.0952835,0.0948071,0.0943306,0.0938542,0.0933778,0.0929014,0.092425,0.0919485,0.0914721,0.0905193,0.0900429,0.0895665,0.0886136,0.0852787,0.0848023,0.0843259,0.0838495,0.083373,0.0828966,0.0824202,0.0819438,0.0814674,0.0809909,0.0805145,0.0800381,0.0795617,0.0790853,0.0786089,0.0781324,0.0771796,0.0767032,0.0762268,0.0757504,0.0747975,0.0743211,0.0738447,0.0733683,0.0728919,0.0724154,0.071939,0.0714626,0.0709862,0.0705098,0.0700333,0.0695569,0.0690805,0.0686041,0.0681277,0.0676513,0.0671748,0.0666984,0.066222,0.0657456,0.0652692,0.0647928,0.0643163,0.0638399,0.0633635,0.0628871,0.0624107,0.0619343,0.0614578,0.0609814,0.060505,0.0595522,0.0590758,0.0585993,0.0581229,0.0571701,0.0566937,0.0562172,0.0557408,0.0552644,0.054788,0.0543116,0.0538352,0.0528823,0.0524059,0.0519295,0.0514531,0.0509767,0.0505002,0.0500238,0.0424011,0.0419247,0.0414483,0.0409719,0.0404955,0.0400191,0.0395426,0.0390662,0.0385898,0.0381134,0.037637,0.0371606,0.0366841,0.0362077,0.0357313,0.0352549,0.0347785,0.034302,0.0338256,0.0333492,0.0328728,0.0323964,0.03192,0.0314435,0.0309671,0.0304907,0.0300143,0.0295379,0.0290615,0.028585,0.0281086,0.0276322,0.0271558,0.0266794,0.026203,0.0257265,0.0252501,0.0247737,0.0242973,0.0238209,0.0233444,0.022868,0.0223916,0.0219152,0.0214388,0.0209624,0.0204859,0.0200095,0.0195331,0.0190567,0.0185803,0.0181039,0.0176274,0.017151,0.0166746,0.0161982,0.0157218,0.0152454,0.0147689,0.0142925,0.0138161,0.0133397,0.0128633,0.0123869,0.0119104,0.011434,0.0109576,0.0104812,0.0100048,0.00952835,0.00905193,0.00857551,0.00809909,0.00762268,0.00714626,0.00666984,0.00619343,0.00571701,0.00524059,0.00476417,0.00476417,0.00428776,0.00381134,0.00333492,0.00333492,0.00333492,0.00333492,0.0028585,0.00238209,0.00238209,0.00238209,0.00238209,0.00238209,0.00238209,0.00190567,0.00190567,0.00190567,0.00190567,0.00190567,0.00190567,0.00190567,0.00190567,0.00142925,0.00142925,0.00142925,0.00142925,0.000952835,0.000952835,0.000952835,0.000952835,0.000952835,0.000952835,0.000952835,0.000952835,0.000952835,0.000476417,0.000476417,0.000476417,0.000476417,0.000476417,0.000476417,0.000476417,0.000476417,0,0,0,0,0,0,0,0,0,0,0,0,0,0,0,0,0,0,0,0,0,0,0,0,0,0,0,0,0,0,0,0,0,0,0,0,0,0,0,0,0,0,0,0,0,0,0,0,0,0,0,0,0,0,0,0,0,0,0,0,0,0,0,0,0,0,0,0,0,0,0,0,0,0,0,0,0,0,0,0,0,0,0,0,0,0,0,0,0,0,0,0,0,0,0,0,0,0,0,0,0,0,0,0,0,0,0,0,0,0,0,0],\n",
       "y: [1,1,1,1,1,1,1,1,1,1,1,1,1,1,1,1,1,1,1,1,1,0.995098,0.995098,0.995098,0.995098,0.995098,0.995098,0.995098,0.995098,0.995098,0.995098,0.995098,0.995098,0.995098,0.995098,0.995098,0.995098,0.995098,0.995098,0.995098,0.995098,0.995098,0.995098,0.995098,0.995098,0.995098,0.995098,0.995098,0.995098,0.995098,0.995098,0.995098,0.995098,0.995098,0.995098,0.995098,0.995098,0.995098,0.995098,0.995098,0.995098,0.995098,0.995098,0.995098,0.995098,0.995098,0.995098,0.995098,0.995098,0.995098,0.995098,0.995098,0.995098,0.995098,0.995098,0.995098,0.995098,0.995098,0.995098,0.995098,0.995098,0.995098,0.995098,0.995098,0.995098,0.995098,0.995098,0.995098,0.995098,0.995098,0.995098,0.995098,0.995098,0.995098,0.995098,0.995098,0.995098,0.995098,0.995098,0.995098,0.995098,0.995098,0.995098,0.995098,0.995098,0.995098,0.995098,0.995098,0.995098,0.995098,0.995098,0.995098,0.995098,0.995098,0.995098,0.995098,0.995098,0.995098,0.995098,0.990196,0.990196,0.990196,0.990196,0.990196,0.990196,0.990196,0.990196,0.990196,0.990196,0.990196,0.990196,0.990196,0.990196,0.990196,0.990196,0.990196,0.990196,0.990196,0.990196,0.990196,0.990196,0.990196,0.990196,0.990196,0.990196,0.990196,0.990196,0.990196,0.990196,0.990196,0.990196,0.990196,0.990196,0.990196,0.990196,0.990196,0.990196,0.990196,0.990196,0.990196,0.990196,0.990196,0.990196,0.990196,0.990196,0.990196,0.990196,0.990196,0.990196,0.990196,0.990196,0.990196,0.990196,0.990196,0.990196,0.990196,0.990196,0.990196,0.990196,0.990196,0.990196,0.990196,0.990196,0.990196,0.990196,0.990196,0.990196,0.990196,0.990196,0.990196,0.990196,0.990196,0.990196,0.990196,0.990196,0.990196,0.990196,0.990196,0.990196,0.990196,0.990196,0.990196,0.990196,0.990196,0.990196,0.990196,0.990196,0.990196,0.990196,0.990196,0.990196,0.985294,0.985294,0.985294,0.985294,0.985294,0.985294,0.985294,0.985294,0.985294,0.985294,0.985294,0.985294,0.985294,0.985294,0.985294,0.985294,0.985294,0.985294,0.985294,0.985294,0.985294,0.985294,0.985294,0.985294,0.985294,0.985294,0.985294,0.985294,0.985294,0.985294,0.985294,0.985294,0.985294,0.985294,0.985294,0.985294,0.985294,0.985294,0.985294,0.985294,0.985294,0.985294,0.985294,0.985294,0.985294,0.985294,0.985294,0.985294,0.985294,0.985294,0.985294,0.985294,0.985294,0.985294,0.985294,0.985294,0.985294,0.985294,0.985294,0.985294,0.985294,0.985294,0.985294,0.985294,0.985294,0.985294,0.985294,0.985294,0.985294,0.985294,0.985294,0.985294,0.985294,0.985294,0.985294,0.985294,0.985294,0.985294,0.985294,0.985294,0.980392,0.980392,0.980392,0.980392,0.97549,0.970588,0.965686,0.965686,0.965686,0.960784,0.955882,0.95098,0.946078,0.941176,0.941176,0.936275,0.931373,0.926471,0.921569,0.916667,0.911765,0.906863,0.906863,0.901961,0.897059,0.892157,0.892157,0.887255,0.882353,0.877451,0.872549,0.867647,0.862745,0.857843,0.852941,0.852941,0.848039,0.843137,0.838235,0.833333,0.828431,0.823529,0.818627,0.818627,0.813725,0.808824,0.803922,0.79902,0.794118,0.789216,0.784314,0.779412,0.77451,0.769608,0.764706,0.759804,0.754902,0.75,0.745098,0.740196,0.735294,0.730392,0.72549,0.720588,0.715686,0.710784,0.705882,0.70098,0.696078,0.691176,0.686275,0.681373,0.676471,0.671569,0.666667,0.656863,0.651961,0.647059,0.642157,0.637255,0.632353,0.627451,0.622549,0.617647,0.612745,0.607843,0.602941,0.598039,0.593137,0.578431,0.573529,0.568627,0.563725,0.558824,0.553922,0.544118,0.539216,0.534314,0.52451,0.519608,0.514706,0.509804,0.495098,0.490196,0.485294,0.480392,0.460784,0.455882,0.45098,0.441176,0.426471,0.421569,0.416667,0.411765,0.406863,0.397059,0.382353,0.377451,0.372549,0.367647,0.362745,0.357843,0.348039,0.343137,0.338235,0.328431,0.29902,0.294118,0.289216,0.284314,0.279412,0.27451,0.269608,0.264706,0.254902,0.240196,0.220588,0.215686,0.210784,0.205882,0.20098,0.181373,0.166667,0.161765,0.156863,0.147059,0.132353,0.127451,0.107843,0.102941,0.0245098,0.0196078,0.0147059,0.00980392,0],\n",
       "type: 'scatter',\n",
       "mode: 'lines',\n",
       "line: {\n",
       "  dash: 'solid',\n",
       "  width: 1\n",
       "},\n",
       "name: '1 vs others',\n",
       "},\n",
       "{\n",
       "x: [1,1,0.999552,0.999104,0.998657,0.997761,0.995074,0.994178,0.987013,0.986565,0.986117,0.98567,0.985222,0.984774,0.982983,0.982535,0.982087,0.981639,0.363189,0.359606,0.359158,0.358262,0.357815,0.356471,0.356023,0.355575,0.35468,0.354232,0.347962,0.347067,0.346619,0.345275,0.344828,0.343484,0.343036,0.342141,0.341693,0.334528,0.333184,0.331393,0.330945,0.330497,0.328706,0.328258,0.32781,0.327362,0.326914,0.326467,0.326019,0.325571,0.324227,0.32378,0.323332,0.322436,0.319301,0.317958,0.316167,0.314823,0.313927,0.31348,0.313032,0.312136,0.311688,0.310793,0.310345,0.309897,0.309001,0.308554,0.308106,0.307658,0.300045,0.299597,0.299149,0.298701,0.200179,0.199731,0.199283,0.198836,0.196149,0.193462,0.193014,0.192566,0.19167,0.191223,0.189879,0.189431,0.188983,0.188536,0.188088,0.18764,0.187192,0.186744,0.186296,0.185849,0.185401,0.184953,0.184505,0.184057,0.183609,0.183162,0.182714,0.182266,0.181818,0.18137,0.180923,0.180475,0.180027,0.179579,0.179131,0.177788,0.17734,0.176892,0.176444,0.175996,0.16077,0.160322,0.158531,0.158083,0.157635,0.157188,0.15674,0.156292,0.155844,0.154948,0.154501,0.153605,0.153157,0.152709,0.152262,0.151814,0.151366,0.150918,0.15047,0.147783,0.147335,0.146888,0.14644,0.145544,0.145096,0.143753,0.143305,0.142857,0.141066,0.140618,0.14017,0.139722,0.139275,0.138827,0.138379,0.137931,0.137483,0.137035,0.136588,0.134796,0.134348,0.133005,0.132557,0.128974,0.128527,0.128079,0.127631,0.115987,0.11554,0.115092,0.114644,0.114196,0.113748,0.1133,0.112853,0.112405,0.111957,0.111509,0.111061,0.110166,0.109718,0.10927,0.108822,0.108374,0.107927,0.10524,0.104792,0.104344,0.103896,0.103448,0.102553,0.0985222,0.0980743,0.0971787,0.096283,0.0958352,0.0953874,0.0949395,0.0944917,0.0940439,0.0935961,0.0931482,0.0927004,0.0922526,0.0918047,0.0913569,0.0909091,0.0904613,0.0900134,0.0895656,0.0891178,0.08867,0.0882221,0.0877743,0.0873265,0.085983,0.0855352,0.0850873,0.0846395,0.0841917,0.0837438,0.083296,0.0828482,0.0824004,0.0819525,0.0815047,0.0810569,0.080609,0.0801612,0.0761308,0.0756829,0.0752351,0.0747873,0.0743395,0.0738916,0.0734438,0.072996,0.0725481,0.0721003,0.0716525,0.0712047,0.0707568,0.070309,0.0698612,0.0694133,0.067622,0.0667264,0.0662785,0.0644872,0.0631438,0.0626959,0.0622481,0.0613524,0.0609046,0.0604568,0.060009,0.0595611,0.0586655,0.0582176,0.0577698,0.057322,0.0568742,0.0564263,0.0559785,0.0559785,0.0555307,0.054635,0.0537394,0.0528437,0.0523959,0.0519481,0.0510524,0.0506046,0.0501567,0.0497089,0.0492611,0.0488133,0.0483654,0.0479176,0.0474698,0.0470219,0.0465741,0.0461263,0.0456785,0.0452306,0.0447828,0.044335,0.0438871,0.0429915,0.0425437,0.041648,0.0412002,0.0407524,0.0403045,0.0398567,0.0394089,0.038961,0.0385132,0.0380654,0.0376176,0.0371697,0.0367219,0.0362741,0.0358262,0.0353784,0.0349306,0.0344828,0.0340349,0.0335871,0.0331393,0.0326914,0.0322436,0.0317958,0.031348,0.0309001,0.0304523,0.0300045,0.0295567,0.0291088,0.028661,0.0282132,0.0277653,0.0273175,0.0268697,0.0264219,0.025974,0.025974,0.0255262,0.0250784,0.0246305,0.0241827,0.0237349,0.0232871,0.0228392,0.0223914,0.0219436,0.0214957,0.0210479,0.0206001,0.0201523,0.0197044,0.0192566,0.0188088,0.0183609,0.0179131,0.0174653,0.0170175,0.0170175,0.0165696,0.0161218,0.015674,0.0152262,0.0147783,0.0143305,0.0138827,0.0134348,0.012987,0.0125392,0.0120914,0.0116435,0.0116435,0.0111957,0.0107479,0.0103,0.0103,0.00985222,0.00985222,0.00940439,0.00895656,0.00850873,0.00850873,0.00850873,0.0080609,0.0080609,0.00761308,0.00716525,0.00716525,0.00671742,0.00671742,0.00671742,0.00626959,0.00582176,0.00537394,0.00537394,0.00492611,0.00447828,0.00403045,0.00358262,0.0031348,0.0031348,0.0031348,0.0031348,0.00268697,0.00268697,0.00268697,0.00268697,0.00268697,0.00268697,0.00268697,0.00268697,0.00268697,0.00268697,0.00268697,0.00268697,0.00268697,0.00268697,0.00268697,0.00268697,0.00268697,0.00268697,0.00223914,0.00223914,0.00223914,0.00179131,0.00134348,0.00134348,0.00134348,0.000895656,0.000895656,0.000895656,0.000895656,0.000895656,0.000895656,0.000895656,0.000895656,0.000895656,0.000895656,0.000895656,0.000895656,0.000895656,0.000895656,0.000895656,0.000895656,0.000895656,0.000895656,0.000895656,0.000895656,0.000895656,0.000895656,0.000895656,0.000895656,0.000895656,0.000895656,0.000895656,0.000895656,0.000447828,0.000447828,0.000447828,0.000447828,0.000447828,0,0],\n",
       "y: [1,1,1,1,1,1,1,1,1,1,1,1,1,1,1,1,1,1,1,1,1,1,1,1,1,1,1,1,1,1,1,1,1,1,1,1,1,1,1,1,1,1,1,1,1,1,1,1,1,1,1,1,1,1,1,1,1,1,1,1,1,1,1,1,1,1,1,1,1,1,1,1,1,1,1,1,1,1,1,1,1,1,1,1,1,1,1,1,1,1,1,1,1,1,1,1,1,1,1,1,1,1,1,1,1,1,1,1,1,1,1,1,1,1,1,1,1,1,1,1,1,1,1,1,1,1,1,1,1,1,1,1,1,1,1,1,1,1,1,1,1,1,1,1,1,1,1,1,1,1,1,1,1,1,1,1,1,1,1,1,1,1,1,1,1,1,1,1,1,1,1,1,1,1,1,1,1,1,1,0.985714,0.985714,0.985714,0.985714,0.985714,0.985714,0.985714,0.985714,0.985714,0.985714,0.985714,0.985714,0.985714,0.985714,0.985714,0.985714,0.985714,0.985714,0.985714,0.985714,0.985714,0.985714,0.985714,0.985714,0.985714,0.985714,0.985714,0.985714,0.985714,0.985714,0.985714,0.985714,0.985714,0.985714,0.985714,0.985714,0.985714,0.985714,0.985714,0.985714,0.985714,0.985714,0.985714,0.985714,0.985714,0.985714,0.985714,0.985714,0.985714,0.985714,0.985714,0.985714,0.985714,0.985714,0.985714,0.985714,0.985714,0.985714,0.985714,0.985714,0.985714,0.985714,0.985714,0.985714,0.985714,0.985714,0.985714,0.985714,0.985714,0.985714,0.985714,0.985714,0.985714,0.985714,0.985714,0.985714,0.985714,0.985714,0.985714,0.971429,0.971429,0.971429,0.971429,0.971429,0.971429,0.971429,0.971429,0.971429,0.971429,0.971429,0.971429,0.971429,0.971429,0.971429,0.971429,0.971429,0.971429,0.971429,0.971429,0.971429,0.971429,0.971429,0.971429,0.971429,0.971429,0.971429,0.971429,0.971429,0.971429,0.971429,0.971429,0.971429,0.971429,0.971429,0.971429,0.971429,0.971429,0.971429,0.971429,0.971429,0.971429,0.971429,0.971429,0.971429,0.971429,0.971429,0.971429,0.971429,0.971429,0.971429,0.971429,0.971429,0.971429,0.971429,0.971429,0.971429,0.971429,0.971429,0.971429,0.971429,0.971429,0.957143,0.957143,0.957143,0.957143,0.957143,0.957143,0.957143,0.957143,0.957143,0.957143,0.957143,0.957143,0.957143,0.957143,0.957143,0.957143,0.957143,0.957143,0.957143,0.957143,0.957143,0.942857,0.942857,0.942857,0.942857,0.942857,0.942857,0.942857,0.942857,0.942857,0.942857,0.942857,0.942857,0.942857,0.928571,0.928571,0.928571,0.928571,0.914286,0.914286,0.9,0.9,0.9,0.9,0.885714,0.871429,0.871429,0.857143,0.857143,0.857143,0.842857,0.842857,0.828571,0.814286,0.814286,0.814286,0.814286,0.8,0.8,0.8,0.8,0.8,0.8,0.785714,0.771429,0.757143,0.757143,0.742857,0.728571,0.714286,0.7,0.685714,0.671429,0.657143,0.642857,0.628571,0.614286,0.6,0.585714,0.571429,0.557143,0.542857,0.528571,0.514286,0.514286,0.5,0.485714,0.485714,0.485714,0.471429,0.457143,0.457143,0.442857,0.428571,0.414286,0.4,0.385714,0.371429,0.357143,0.342857,0.328571,0.314286,0.3,0.285714,0.271429,0.257143,0.242857,0.228571,0.214286,0.2,0.185714,0.171429,0.157143,0.142857,0.128571,0.114286,0.1,0.0857143,0.0714286,0.0714286,0.0571429,0.0428571,0.0285714,0.0142857,0.0142857,0],\n",
       "type: 'scatter',\n",
       "mode: 'lines',\n",
       "line: {\n",
       "  dash: 'solid',\n",
       "  width: 1\n",
       "},\n",
       "name: '2 vs others',\n",
       "},\n",
       "],\n",
       "    {\n",
       "      width: 500,\n",
       "      height: 400,\n",
       "      title: 'ROC',\n",
       "      showlegend: true,\n",
       "      xaxis: {\n",
       "        ticks: 'outside',\n",
       "        showgrid: true,\n",
       "        zeroline: false,\n",
       "        showline: true,\n",
       "        title: 'False positive rate',\n",
       "        },\n",
       "      font: {\n",
       "        size: 10,\n",
       "        },\n",
       "      yaxis: {\n",
       "        ticks: 'outside',\n",
       "        showgrid: true,\n",
       "        zeroline: false,\n",
       "        showline: true,\n",
       "        title: 'True positive rate (Recall)',\n",
       "        },\n",
       "      margin: {\n",
       "        l: 50,\n",
       "        r: 50,\n",
       "        b: 50,\n",
       "        t: 50,\n",
       "      },\n",
       "    },\n",
       "    {\n",
       "      modeBarButtonsToRemove: ['sendDataToCloud'],\n",
       "      displaylogo: false,displayModeBar: false,\n",
       "    }\n",
       "  );\n",
       "</script>\n",
       "</div><div style='grid-row:1 / span 1; grid-column:2 / span 1;'>\n",
       "<div id=\"chart_5a02_d455_7d00_c4f2\" style=\"display: inline-block;\" ></div>\n",
       "<script>\n",
       "  Plotly.newPlot(\n",
       "    'chart_5a02_d455_7d00_c4f2',\n",
       "    [{\n",
       "x: [1,1,1,0.999507,0.999507,0.999507,0.999507,0.999507,0.999507,0.999014,0.999014,0.999014,0.999014,0.999014,0.999014,0.999014,0.999014,0.999014,0.999014,0.999014,0.999014,0.999014,0.999014,0.999014,0.999014,0.999014,0.999014,0.999014,0.999014,0.999014,0.999014,0.999014,0.999014,0.999014,0.999014,0.999014,0.999014,0.999014,0.999014,0.999014,0.999014,0.999014,0.999014,0.999014,0.999014,0.999014,0.999014,0.999014,0.999014,0.999014,0.999014,0.999014,0.999014,0.999014,0.999014,0.999014,0.999014,0.999014,0.999014,0.999014,0.999014,0.999014,0.999014,0.999014,0.999014,0.999014,0.999014,0.999014,0.999014,0.999014,0.999014,0.999014,0.999014,0.999014,0.999014,0.999014,0.999014,0.999014,0.999014,0.999014,0.999014,0.999014,0.999014,0.999014,0.999014,0.999014,0.999014,0.999014,0.999014,0.999014,0.999014,0.999014,0.999014,0.999014,0.999014,0.999014,0.999014,0.999014,0.999014,0.999014,0.999014,0.999014,0.999014,0.999014,0.999014,0.999014,0.999014,0.999014,0.999014,0.999014,0.999014,0.999014,0.999014,0.999014,0.999014,0.999014,0.999014,0.999014,0.999014,0.999014,0.999014,0.999014,0.999014,0.999014,0.999014,0.999014,0.999014,0.999014,0.999014,0.999014,0.999014,0.999014,0.999014,0.999014,0.999014,0.999014,0.999014,0.999014,0.999014,0.998521,0.998521,0.998521,0.998521,0.998521,0.998521,0.998521,0.998521,0.998521,0.998521,0.998521,0.998521,0.998029,0.998029,0.998029,0.998029,0.998029,0.998029,0.998029,0.998029,0.998029,0.998029,0.997536,0.997536,0.997536,0.997536,0.997536,0.997536,0.997536,0.997043,0.997043,0.997043,0.99655,0.996057,0.996057,0.996057,0.995564,0.995071,0.995071,0.995071,0.995071,0.995071,0.995071,0.995071,0.995071,0.995071,0.995071,0.995071,0.995071,0.995071,0.995071,0.994579,0.994579,0.994579,0.994579,0.994579,0.994579,0.994579,0.994579,0.994579,0.994579,0.994579,0.994579,0.994579,0.994086,0.993593,0.993593,0.993593,0.9931,0.9931,0.9931,0.9931,0.992607,0.992607,0.992607,0.992607,0.992114,0.991621,0.991621,0.991621,0.991621,0.991129,0.990636,0.990143,0.98965,0.98965,0.989157,0.988664,0.988172,0.987679,0.987679,0.987679,0.987186,0.987186,0.986693,0.9862,0.9862,0.985707,0.985214,0.985214,0.985214,0.984722,0.984229,0.984229,0.983736,0.983736,0.983243,0.98275,0.982257,0.981764,0.981272,0.980779,0.980779,0.980286,0.979793,0.9793,0.978807,0.978314,0.977822,0.977329,0.976836,0.976343,0.97585,0.97585,0.975357,0.974864,0.974372,0.973879,0.973386,0.972893,0.9724,0.971907,0.971414,0.970922,0.970429,0.969936,0.969443,0.96895,0.968457,0.967965,0.967472,0.966979,0.966486,0.965993,0.9655,0.965007,0.964515,0.964022,0.963529,0.963529,0.963036,0.962543,0.96205,0.961557,0.961065,0.960572,0.960079,0.959586,0.959093,0.9586,0.958107,0.957615,0.957122,0.956629,0.956136,0.955643,0.95515,0.954657,0.954165,0.953672,0.952686,0.952193,0.951207,0.950222,0.949729,0.949236,0.948743,0.94825,0.947265,0.946772,0.946279,0.945786,0.945293,0.9448,0.944308,0.943815,0.943322,0.942336,0.941843,0.94135,0.940365,0.939872,0.939872,0.939379,0.938886,0.938393,0.937408,0.936915,0.935929,0.935436,0.934943,0.93445,0.933958,0.933465,0.932972,0.932479,0.931986,0.931493,0.931,0.929522,0.927551,0.927058,0.926072,0.924101,0.923608,0.923115,0.922622,0.922129,0.921636,0.921143,0.920651,0.916215,0.915722,0.915229,0.914736,0.914243,0.906358,0.905865,0.904386,0.903894,0.903401,0.902908,0.902415,0.901922,0.901429,0.900444,0.899951,0.896994,0.896501,0.896008,0.895515,0.895022,0.894529,0.894036,0.893544,0.893051,0.892065,0.891079,0.890586,0.886151,0.885658,0.885165,0.884672,0.884179,0.883687,0.883194,0.882701,0.880729,0.879251,0.878758,0.878265,0.865451,0.861508,0.86003,0.857072,0.85658,0.856087,0.855101,0.85313,0.852637,0.852144,0.851158,0.850665,0.850665,0.833908,0.831937,0.831444,0.830458,0.829966,0.828487,0.827994,0.827501,0.827008,0.826516,0.826023,0.823066,0.821587,0.713159,0.712666,0.711681,0.711188,0.710695,0.710202,0.706752,0.699852,0.695909,0.0152785,0.0147856,0.0147856,0.0142928,0.0064071,0.00344998,0.00246427,0.00147856,0.000985707,0.000492854,0],\n",
       "y: [0.881025,0.881025,0.881407,0.881356,0.881739,0.882123,0.882507,0.883275,0.88366,0.883609,0.883995,0.88438,0.884766,0.885153,0.891381,0.891773,0.892165,0.892558,0.893739,0.895318,0.89611,0.896506,0.896903,0.898493,0.899689,0.900089,0.900489,0.902092,0.902493,0.902895,0.903298,0.904103,0.905315,0.905719,0.906124,0.90653,0.908969,0.909376,0.909785,0.910193,0.911011,0.911421,0.911831,0.912241,0.913063,0.913475,0.913886,0.914299,0.914711,0.915537,0.915951,0.916365,0.91761,0.918025,0.918441,0.918858,0.920109,0.920945,0.921364,0.921783,0.922202,0.922622,0.923042,0.924726,0.925148,0.925571,0.925994,0.926417,0.927689,0.928114,0.928964,0.92939,0.929817,0.930243,0.931098,0.931526,0.931954,0.932383,0.932812,0.934101,0.934532,0.934963,0.935395,0.935826,0.936259,0.936691,0.937124,0.937558,0.937992,0.938426,0.938861,0.939296,0.939731,0.940167,0.940603,0.941477,0.941914,0.942352,0.942791,0.943229,0.943669,0.944108,0.944548,0.944988,0.945429,0.94587,0.946312,0.946754,0.947196,0.947639,0.948082,0.948526,0.94897,0.949415,0.949859,0.950305,0.95075,0.951197,0.951643,0.95209,0.952538,0.952985,0.953434,0.953882,0.954331,0.954781,0.955231,0.955681,0.956132,0.956583,0.957035,0.957487,0.95794,0.958392,0.958846,0.9593,0.959754,0.960208,0.960664,0.960645,0.961101,0.961557,0.962013,0.96247,0.962928,0.963386,0.963844,0.964303,0.964762,0.965222,0.965682,0.965665,0.966126,0.966587,0.967049,0.967511,0.967973,0.968436,0.9689,0.969363,0.969828,0.969813,0.970278,0.970743,0.971209,0.971675,0.972142,0.972609,0.972596,0.973064,0.973532,0.973519,0.973507,0.973976,0.974446,0.974433,0.974421,0.974891,0.975362,0.975834,0.976306,0.976778,0.977251,0.977724,0.978198,0.978672,0.979146,0.979622,0.980097,0.980573,0.980564,0.98104,0.981518,0.981995,0.982473,0.982952,0.983431,0.98391,0.98439,0.984871,0.985352,0.985833,0.986315,0.986308,0.986301,0.986784,0.987267,0.987261,0.987745,0.98823,0.988714,0.988709,0.989194,0.989681,0.990167,0.990162,0.990157,0.990645,0.991133,0.991621,0.991617,0.991613,0.991609,0.991605,0.992095,0.992091,0.992087,0.992083,0.992079,0.992571,0.993062,0.993059,0.993552,0.993548,0.993545,0.994039,0.994036,0.994033,0.994527,0.995022,0.99502,0.995017,0.995513,0.995511,0.996008,0.996006,0.996004,0.996002,0.996,0.995998,0.995996,0.996495,0.996493,0.996491,0.996489,0.996488,0.996486,0.996484,0.996482,0.996481,0.996479,0.996477,0.996979,0.996977,0.996976,0.996974,0.996973,0.996971,0.99697,0.996968,0.996967,0.996965,0.996964,0.996962,0.99696,0.996959,0.996957,0.996956,0.996954,0.996953,0.996951,0.99695,0.996948,0.996947,0.996945,0.996943,0.996942,0.99694,0.997449,0.997448,0.997446,0.997445,0.997444,0.997442,0.997441,0.99744,0.997439,0.997437,0.997436,0.997435,0.997433,0.997432,0.997431,0.997429,0.997428,0.997427,0.997425,0.997424,0.997423,0.99742,0.997419,0.997416,0.997413,0.997412,0.997411,0.997409,0.997408,0.997405,0.997404,0.997403,0.997401,0.9974,0.997399,0.997397,0.997396,0.997394,0.997392,0.99739,0.997389,0.997386,0.997385,0.997907,0.997906,0.997905,0.997904,0.997901,0.9979,0.997898,0.997897,0.997896,0.997895,0.997894,0.997893,0.997891,0.99789,0.997889,0.997888,0.997887,0.997884,0.997879,0.997878,0.997876,0.997871,0.99787,0.997869,0.997868,0.997867,0.997866,0.997864,0.997863,0.997853,0.997852,0.997851,0.997849,0.997848,0.998371,0.99837,0.998368,0.998367,0.998366,0.998365,0.998364,0.998363,0.998362,0.998361,0.99836,0.998902,0.998902,0.998901,0.9989,0.9989,0.998899,0.998899,0.998898,0.998897,0.998896,0.998895,0.998894,0.998889,0.998888,0.998888,0.998887,0.998886,0.998886,0.998885,0.998885,0.998882,0.99888,0.99888,0.998879,0.998862,0.998857,0.998855,0.998851,0.998851,0.99885,0.998849,0.998846,0.998845,0.998845,0.998843,0.998843,0.999421,0.999409,0.999408,0.999408,0.999407,0.999407,0.999405,0.999405,0.999405,0.999404,0.999404,0.999404,0.999402,0.9994,0.999309,0.999309,0.999308,0.999307,0.999307,0.999307,0.999303,0.999296,0.999292,0.96875,0.967742,1,1,1,1,1,1,1,1,1],\n",
       "type: 'scatter',\n",
       "mode: 'lines',\n",
       "line: {\n",
       "  dash: 'solid',\n",
       "  width: 1\n",
       "},\n",
       "name: '0 vs others',\n",
       "},\n",
       "{\n",
       "x: [1,1,1,1,1,1,1,1,1,1,1,1,1,1,1,1,1,1,1,1,1,0.995098,0.995098,0.995098,0.995098,0.995098,0.995098,0.995098,0.995098,0.995098,0.995098,0.995098,0.995098,0.995098,0.995098,0.995098,0.995098,0.995098,0.995098,0.995098,0.995098,0.995098,0.995098,0.995098,0.995098,0.995098,0.995098,0.995098,0.995098,0.995098,0.995098,0.995098,0.995098,0.995098,0.995098,0.995098,0.995098,0.995098,0.995098,0.995098,0.995098,0.995098,0.995098,0.995098,0.995098,0.995098,0.995098,0.995098,0.995098,0.995098,0.995098,0.995098,0.995098,0.995098,0.995098,0.995098,0.995098,0.995098,0.995098,0.995098,0.995098,0.995098,0.995098,0.995098,0.995098,0.995098,0.995098,0.995098,0.995098,0.995098,0.995098,0.995098,0.995098,0.995098,0.995098,0.995098,0.995098,0.995098,0.995098,0.995098,0.995098,0.995098,0.995098,0.995098,0.995098,0.995098,0.995098,0.995098,0.995098,0.995098,0.995098,0.995098,0.995098,0.995098,0.995098,0.995098,0.995098,0.995098,0.995098,0.990196,0.990196,0.990196,0.990196,0.990196,0.990196,0.990196,0.990196,0.990196,0.990196,0.990196,0.990196,0.990196,0.990196,0.990196,0.990196,0.990196,0.990196,0.990196,0.990196,0.990196,0.990196,0.990196,0.990196,0.990196,0.990196,0.990196,0.990196,0.990196,0.990196,0.990196,0.990196,0.990196,0.990196,0.990196,0.990196,0.990196,0.990196,0.990196,0.990196,0.990196,0.990196,0.990196,0.990196,0.990196,0.990196,0.990196,0.990196,0.990196,0.990196,0.990196,0.990196,0.990196,0.990196,0.990196,0.990196,0.990196,0.990196,0.990196,0.990196,0.990196,0.990196,0.990196,0.990196,0.990196,0.990196,0.990196,0.990196,0.990196,0.990196,0.990196,0.990196,0.990196,0.990196,0.990196,0.990196,0.990196,0.990196,0.990196,0.990196,0.990196,0.990196,0.990196,0.990196,0.990196,0.990196,0.990196,0.990196,0.990196,0.990196,0.990196,0.990196,0.985294,0.985294,0.985294,0.985294,0.985294,0.985294,0.985294,0.985294,0.985294,0.985294,0.985294,0.985294,0.985294,0.985294,0.985294,0.985294,0.985294,0.985294,0.985294,0.985294,0.985294,0.985294,0.985294,0.985294,0.985294,0.985294,0.985294,0.985294,0.985294,0.985294,0.985294,0.985294,0.985294,0.985294,0.985294,0.985294,0.985294,0.985294,0.985294,0.985294,0.985294,0.985294,0.985294,0.985294,0.985294,0.985294,0.985294,0.985294,0.985294,0.985294,0.985294,0.985294,0.985294,0.985294,0.985294,0.985294,0.985294,0.985294,0.985294,0.985294,0.985294,0.985294,0.985294,0.985294,0.985294,0.985294,0.985294,0.985294,0.985294,0.985294,0.985294,0.985294,0.985294,0.985294,0.985294,0.985294,0.985294,0.985294,0.985294,0.985294,0.980392,0.980392,0.980392,0.980392,0.97549,0.970588,0.965686,0.965686,0.965686,0.960784,0.955882,0.95098,0.946078,0.941176,0.941176,0.936275,0.931373,0.926471,0.921569,0.916667,0.911765,0.906863,0.906863,0.901961,0.897059,0.892157,0.892157,0.887255,0.882353,0.877451,0.872549,0.867647,0.862745,0.857843,0.852941,0.852941,0.848039,0.843137,0.838235,0.833333,0.828431,0.823529,0.818627,0.818627,0.813725,0.808824,0.803922,0.79902,0.794118,0.789216,0.784314,0.779412,0.77451,0.769608,0.764706,0.759804,0.754902,0.75,0.745098,0.740196,0.735294,0.730392,0.72549,0.720588,0.715686,0.710784,0.705882,0.70098,0.696078,0.691176,0.686275,0.681373,0.676471,0.671569,0.666667,0.656863,0.651961,0.647059,0.642157,0.637255,0.632353,0.627451,0.622549,0.617647,0.612745,0.607843,0.602941,0.598039,0.593137,0.578431,0.573529,0.568627,0.563725,0.558824,0.553922,0.544118,0.539216,0.534314,0.52451,0.519608,0.514706,0.509804,0.495098,0.490196,0.485294,0.480392,0.460784,0.455882,0.45098,0.441176,0.426471,0.421569,0.416667,0.411765,0.406863,0.397059,0.382353,0.377451,0.372549,0.367647,0.362745,0.357843,0.348039,0.343137,0.338235,0.328431,0.29902,0.294118,0.289216,0.284314,0.279412,0.27451,0.269608,0.264706,0.254902,0.240196,0.220588,0.215686,0.210784,0.205882,0.20098,0.181373,0.166667,0.161765,0.156863,0.147059,0.132353,0.127451,0.107843,0.102941,0.0245098,0.0196078,0.0147059,0.00980392,0],\n",
       "y: [0.0885801,0.0885801,0.0886186,0.0886571,0.0886957,0.0887342,0.0887728,0.0888115,0.0888502,0.0889276,0.0889664,0.0890052,0.089083,0.0897098,0.0899471,0.0899868,0.0900265,0.0900662,0.090106,0.0901458,0.0903054,0.0899026,0.0899424,0.0899823,0.0900222,0.0900621,0.0901021,0.0903829,0.0904232,0.0904635,0.0905038,0.0910722,0.239387,0.239669,0.241955,0.242243,0.242533,0.243114,0.243405,0.243697,0.24399,0.244578,0.244873,0.245169,0.245466,0.245763,0.246061,0.246359,0.246659,0.246959,0.247259,0.247561,0.248166,0.24847,0.248775,0.24908,0.249386,0.250308,0.251238,0.345238,0.345826,0.346416,0.347009,0.363148,0.367089,0.367754,0.369091,0.369763,0.394175,0.394942,0.395712,0.396484,0.398039,0.398821,0.399606,0.400394,0.401186,0.40198,0.403579,0.404382,0.411765,0.412602,0.419421,0.421162,0.422037,0.422917,0.4238,0.429175,0.430085,0.430998,0.431915,0.432836,0.435622,0.436559,0.4375,0.438445,0.439394,0.440347,0.441304,0.442266,0.444201,0.446154,0.449115,0.453125,0.454139,0.455157,0.45618,0.457207,0.458239,0.459276,0.460317,0.461364,0.464531,0.468822,0.473193,0.474299,0.47541,0.485646,0.486811,0.485577,0.486747,0.487923,0.492683,0.493888,0.495098,0.498765,0.5,0.501241,0.502488,0.503741,0.505,0.506266,0.507538,0.508816,0.510101,0.511392,0.51269,0.515306,0.516624,0.517949,0.520619,0.530184,0.531579,0.532982,0.534392,0.535809,0.537234,0.538667,0.540107,0.541555,0.543011,0.544474,0.545946,0.547425,0.548913,0.550409,0.551913,0.554945,0.556474,0.558011,0.559557,0.562674,0.564246,0.565826,0.567416,0.569014,0.570621,0.572238,0.573864,0.575499,0.577143,0.578797,0.58046,0.582133,0.583815,0.585507,0.587209,0.588921,0.590643,0.592375,0.594118,0.59587,0.597633,0.599407,0.60119,0.602985,0.60479,0.606607,0.608434,0.610272,0.612121,0.613982,0.617737,0.619632,0.621538,0.623457,0.627329,0.629283,0.63125,0.633229,0.63522,0.637224,0.639241,0.64127,0.645367,0.647436,0.649518,0.651613,0.653722,0.655844,0.65798,0.693103,0.695502,0.697917,0.700348,0.702797,0.705263,0.707746,0.710247,0.712766,0.715302,0.717857,0.72043,0.723022,0.725632,0.728261,0.730909,0.733577,0.736264,0.738971,0.741697,0.744444,0.747212,0.75,0.752809,0.755639,0.758491,0.761364,0.764259,0.767176,0.770115,0.773077,0.776062,0.77907,0.782101,0.785156,0.788235,0.791339,0.794466,0.797619,0.800797,0.804,0.807229,0.810484,0.813765,0.817073,0.820408,0.82377,0.82716,0.830579,0.834025,0.8375,0.841004,0.844538,0.848101,0.851695,0.855319,0.858974,0.862661,0.866379,0.87013,0.873913,0.877729,0.881579,0.885463,0.889381,0.893333,0.897321,0.901345,0.905405,0.909502,0.913636,0.917808,0.922018,0.926267,0.930556,0.934884,0.939252,0.943662,0.948113,0.952607,0.952381,0.956938,0.961538,0.966184,0.966019,0.965854,0.965686,0.970443,0.975248,0.975124,0.975,0.974874,0.974747,0.974619,0.979592,0.979487,0.979381,0.979275,0.979167,0.979058,0.978947,0.978836,0.984043,0.983957,0.983871,0.983784,0.98913,0.989071,0.989011,0.98895,0.988889,0.988827,0.988764,0.988701,0.988636,0.994286,0.994253,0.99422,0.994186,0.994152,0.994118,0.994083,0.994048,1,1,1,1,1,1,1,1,1,1,1,1,1,1,1,1,1,1,1,1,1,1,1,1,1,1,1,1,1,1,1,1,1,1,1,1,1,1,1,1,1,1,1,1,1,1,1,1,1,1,1,1,1,1,1,1,1,1,1,1,1,1,1,1,1,1,1,1,1,1,1,1,1,1,1,1,1,1,1,1,1,1,1,1,1,1,1,1,1,1,1,1,1,1,1,1,1,1,1,1,1,1,1,1,1,1,1,1,1,1,1,1],\n",
       "type: 'scatter',\n",
       "mode: 'lines',\n",
       "line: {\n",
       "  dash: 'solid',\n",
       "  width: 1\n",
       "},\n",
       "name: '1 vs others',\n",
       "},\n",
       "{\n",
       "x: [1,1,1,1,1,1,1,1,1,1,1,1,1,1,1,1,1,1,1,1,1,1,1,1,1,1,1,1,1,1,1,1,1,1,1,1,1,1,1,1,1,1,1,1,1,1,1,1,1,1,1,1,1,1,1,1,1,1,1,1,1,1,1,1,1,1,1,1,1,1,1,1,1,1,1,1,1,1,1,1,1,1,1,1,1,1,1,1,1,1,1,1,1,1,1,1,1,1,1,1,1,1,1,1,1,1,1,1,1,1,1,1,1,1,1,1,1,1,1,1,1,1,1,1,1,1,1,1,1,1,1,1,1,1,1,1,1,1,1,1,1,1,1,1,1,1,1,1,1,1,1,1,1,1,1,1,1,1,1,1,1,1,1,1,1,1,1,1,1,1,1,1,1,1,1,1,1,1,1,0.985714,0.985714,0.985714,0.985714,0.985714,0.985714,0.985714,0.985714,0.985714,0.985714,0.985714,0.985714,0.985714,0.985714,0.985714,0.985714,0.985714,0.985714,0.985714,0.985714,0.985714,0.985714,0.985714,0.985714,0.985714,0.985714,0.985714,0.985714,0.985714,0.985714,0.985714,0.985714,0.985714,0.985714,0.985714,0.985714,0.985714,0.985714,0.985714,0.985714,0.985714,0.985714,0.985714,0.985714,0.985714,0.985714,0.985714,0.985714,0.985714,0.985714,0.985714,0.985714,0.985714,0.985714,0.985714,0.985714,0.985714,0.985714,0.985714,0.985714,0.985714,0.985714,0.985714,0.985714,0.985714,0.985714,0.985714,0.985714,0.985714,0.985714,0.985714,0.985714,0.985714,0.985714,0.985714,0.985714,0.985714,0.985714,0.985714,0.971429,0.971429,0.971429,0.971429,0.971429,0.971429,0.971429,0.971429,0.971429,0.971429,0.971429,0.971429,0.971429,0.971429,0.971429,0.971429,0.971429,0.971429,0.971429,0.971429,0.971429,0.971429,0.971429,0.971429,0.971429,0.971429,0.971429,0.971429,0.971429,0.971429,0.971429,0.971429,0.971429,0.971429,0.971429,0.971429,0.971429,0.971429,0.971429,0.971429,0.971429,0.971429,0.971429,0.971429,0.971429,0.971429,0.971429,0.971429,0.971429,0.971429,0.971429,0.971429,0.971429,0.971429,0.971429,0.971429,0.971429,0.971429,0.971429,0.971429,0.971429,0.971429,0.957143,0.957143,0.957143,0.957143,0.957143,0.957143,0.957143,0.957143,0.957143,0.957143,0.957143,0.957143,0.957143,0.957143,0.957143,0.957143,0.957143,0.957143,0.957143,0.957143,0.957143,0.942857,0.942857,0.942857,0.942857,0.942857,0.942857,0.942857,0.942857,0.942857,0.942857,0.942857,0.942857,0.942857,0.928571,0.928571,0.928571,0.928571,0.914286,0.914286,0.9,0.9,0.9,0.9,0.885714,0.871429,0.871429,0.857143,0.857143,0.857143,0.842857,0.842857,0.828571,0.814286,0.814286,0.814286,0.814286,0.8,0.8,0.8,0.8,0.8,0.8,0.785714,0.771429,0.757143,0.757143,0.742857,0.728571,0.714286,0.7,0.685714,0.671429,0.657143,0.642857,0.628571,0.614286,0.6,0.585714,0.571429,0.557143,0.542857,0.528571,0.514286,0.514286,0.5,0.485714,0.485714,0.485714,0.471429,0.457143,0.457143,0.442857,0.428571,0.414286,0.4,0.385714,0.371429,0.357143,0.342857,0.328571,0.314286,0.3,0.285714,0.271429,0.257143,0.242857,0.228571,0.214286,0.2,0.185714,0.171429,0.157143,0.142857,0.128571,0.114286,0.1,0.0857143,0.0714286,0.0714286,0.0571429,0.0428571,0.0285714,0.0142857,0.0142857,0],\n",
       "y: [0.0303951,0.0303951,0.0304083,0.0304216,0.0304348,0.0304613,0.030541,0.0305677,0.0307828,0.0307963,0.0308099,0.0308234,0.030837,0.0308506,0.0309051,0.0309187,0.0309324,0.0309461,0.0794552,0.0801833,0.0802752,0.0804598,0.0805524,0.0808314,0.0809249,0.0810185,0.0812065,0.0813008,0.0826446,0.0828402,0.0829384,0.0832342,0.0833333,0.083632,0.0837321,0.0839329,0.0840336,0.0856793,0.0859951,0.0864198,0.0865266,0.0866337,0.0870647,0.0871731,0.0872818,0.0873908,0.0875,0.0876095,0.0877193,0.0878294,0.0881612,0.0882724,0.0883838,0.0886076,0.0893997,0.0897436,0.0902062,0.0905563,0.0907912,0.0909091,0.0910273,0.0912647,0.0913838,0.091623,0.0917431,0.0918635,0.0921053,0.0922266,0.0923483,0.0924703,0.0945946,0.0947226,0.0948509,0.0949796,0.135397,0.135659,0.135922,0.136187,0.137795,0.139442,0.139721,0.14,0.140562,0.140845,0.1417,0.141988,0.142276,0.142566,0.142857,0.143149,0.143443,0.143737,0.144033,0.14433,0.144628,0.144928,0.145228,0.14553,0.145833,0.146138,0.146444,0.146751,0.147059,0.147368,0.147679,0.147992,0.148305,0.14862,0.148936,0.149893,0.150215,0.150538,0.150862,0.151188,0.16317,0.163551,0.165094,0.165485,0.165877,0.166271,0.166667,0.167064,0.167464,0.168269,0.168675,0.169492,0.169903,0.170316,0.170732,0.171149,0.171569,0.17199,0.172414,0.175,0.175439,0.175879,0.176322,0.177215,0.177665,0.179028,0.179487,0.179949,0.181818,0.182292,0.182768,0.183246,0.183727,0.184211,0.184697,0.185185,0.185676,0.18617,0.186667,0.188679,0.189189,0.190736,0.191257,0.195531,0.196078,0.196629,0.197183,0.212766,0.213415,0.214067,0.214724,0.215385,0.216049,0.216718,0.217391,0.218069,0.21875,0.219436,0.220126,0.221519,0.222222,0.22293,0.223642,0.224359,0.22508,0.226974,0.227723,0.228477,0.229236,0.23,0.231544,0.238754,0.239583,0.241259,0.242958,0.243816,0.244681,0.245552,0.246429,0.247312,0.248201,0.249097,0.25,0.250909,0.251825,0.252747,0.253676,0.254613,0.255556,0.256506,0.257463,0.258427,0.259398,0.260377,0.261364,0.264368,0.265385,0.266409,0.267442,0.268482,0.269531,0.270588,0.271654,0.272727,0.27381,0.2749,0.276,0.277108,0.278226,0.288703,0.289916,0.291139,0.292373,0.293617,0.294872,0.296137,0.297414,0.298701,0.3,0.30131,0.302632,0.303965,0.30531,0.306667,0.308036,0.313636,0.316514,0.317972,0.323944,0.328571,0.330144,0.331731,0.334951,0.336585,0.338235,0.339901,0.341584,0.345,0.346734,0.348485,0.350254,0.352041,0.353846,0.35567,0.352332,0.354167,0.357895,0.361702,0.365591,0.367568,0.369565,0.373626,0.375691,0.377778,0.379888,0.382022,0.384181,0.386364,0.388571,0.390805,0.393064,0.395349,0.397661,0.4,0.402367,0.404762,0.407186,0.409639,0.414634,0.417178,0.42236,0.425,0.427673,0.43038,0.433121,0.435897,0.43871,0.441558,0.444444,0.447368,0.450331,0.453333,0.456376,0.459459,0.462585,0.465753,0.468966,0.472222,0.475524,0.478873,0.48227,0.485714,0.489209,0.492754,0.49635,0.5,0.503704,0.507463,0.511278,0.515152,0.519084,0.523077,0.527132,0.53125,0.535433,0.539683,0.536,0.540323,0.544715,0.54918,0.553719,0.558333,0.563025,0.567797,0.57265,0.577586,0.582609,0.587719,0.59292,0.598214,0.603604,0.609091,0.614679,0.62037,0.626168,0.632075,0.638095,0.634615,0.640777,0.647059,0.653465,0.66,0.666667,0.673469,0.680412,0.6875,0.694737,0.702128,0.709677,0.717391,0.714286,0.722222,0.730337,0.738636,0.735632,0.744186,0.741176,0.75,0.759036,0.768293,0.765432,0.7625,0.772152,0.769231,0.779221,0.789474,0.786667,0.797297,0.794521,0.791667,0.802817,0.814286,0.826087,0.823529,0.835821,0.848485,0.861538,0.875,0.888889,0.887097,0.885246,0.883333,0.898305,0.896552,0.894737,0.892857,0.890909,0.888889,0.886792,0.884615,0.882353,0.88,0.877551,0.875,0.87234,0.869565,0.866667,0.863636,0.860465,0.857143,0.878049,0.875,0.871795,0.894737,0.918919,0.916667,0.914286,0.941176,0.939394,0.9375,0.935484,0.933333,0.931034,0.928571,0.925926,0.923077,0.92,0.916667,0.913043,0.909091,0.904762,0.9,0.894737,0.888889,0.882353,0.875,0.866667,0.857143,0.846154,0.833333,0.818182,0.8,0.777778,0.75,0.714286,0.833333,0.8,0.75,0.666667,0.5,1,1],\n",
       "type: 'scatter',\n",
       "mode: 'lines',\n",
       "line: {\n",
       "  dash: 'solid',\n",
       "  width: 1\n",
       "},\n",
       "name: '2 vs others',\n",
       "},\n",
       "],\n",
       "    {\n",
       "      width: 500,\n",
       "      height: 400,\n",
       "      title: 'Precision Recall',\n",
       "      showlegend: true,\n",
       "      xaxis: {\n",
       "        ticks: 'outside',\n",
       "        showgrid: true,\n",
       "        zeroline: false,\n",
       "        showline: true,\n",
       "        title: 'Recall',\n",
       "        },\n",
       "      font: {\n",
       "        size: 10,\n",
       "        },\n",
       "      yaxis: {\n",
       "        ticks: 'outside',\n",
       "        showgrid: true,\n",
       "        zeroline: false,\n",
       "        showline: true,\n",
       "        title: 'Precision',\n",
       "        },\n",
       "      margin: {\n",
       "        l: 50,\n",
       "        r: 50,\n",
       "        b: 50,\n",
       "        t: 50,\n",
       "      },\n",
       "    },\n",
       "    {\n",
       "      modeBarButtonsToRemove: ['sendDataToCloud'],\n",
       "      displaylogo: false,displayModeBar: false,\n",
       "    }\n",
       "  );\n",
       "</script>\n",
       "</div><div style='grid-row:2 / span 1; grid-column:1 / span 1;'>\n",
       "<div id=\"chart_0643_b235_3ff6_3bc0\" style=\"display: inline-block;\" ></div>\n",
       "<script>\n",
       "  Plotly.newPlot(\n",
       "    'chart_0643_b235_3ff6_3bc0',\n",
       "    [{\n",
       "x: [-0.1,0,0.00142907,0.00180305,0.00189387,0.00253497,0.00263925,0.002732,0.00283211,0.00291865,0.0029303,0.002965,0.00296826,0.00298327,0.00302676,0.00305587,0.00309544,0.00309557,0.00312482,0.00312602,0.00324864,0.00328843,0.00329568,0.00331531,0.00335387,0.00342401,0.00342499,0.00354724,0.00358155,0.00358225,0.00364775,0.00365104,0.00366209,0.00370775,0.00370782,0.00372398,0.00379423,0.00380698,0.00382237,0.00384454,0.00388521,0.00391055,0.00391147,0.00395587,0.00399996,0.00403216,0.00406402,0.00408939,0.00411091,0.00422176,0.00428299,0.00428399,0.00428521,0.00430831,0.00437566,0.00438089,0.00442386,0.00444608,0.00454795,0.0045524,0.00460517,0.00461263,0.00468682,0.00469318,0.00471088,0.00471776,0.00472769,0.00475909,0.00478583,0.00478675,0.00484496,0.00486926,0.00491133,0.00493124,0.00498942,0.00501956,0.00502492,0.00507626,0.0051328,0.0052412,0.00525997,0.00540917,0.00541047,0.00550548,0.00554799,0.00567314,0.00571252,0.00572724,0.00579334,0.00583219,0.00595165,0.0059782,0.005995,0.00619059,0.00639925,0.00645066,0.00649552,0.00669366,0.00674622,0.00683042,0.00689976,0.00703909,0.00704154,0.00735275,0.00743033,0.00745968,0.00746913,0.00754513,0.00761473,0.00775215,0.00792212,0.00801196,0.00802548,0.00826821,0.0084018,0.00854479,0.00863382,0.00895629,0.00913198,0.00952457,0.00953537,0.00959451,0.00967723,0.0101273,0.010149,0.0102864,0.0106038,0.010837,0.0109551,0.0110342,0.0111612,0.0113704,0.0116385,0.0119851,0.0124888,0.0126117,0.0133129,0.0135624,0.0142263,0.0147411,0.0153412,0.015755,0.0158283,0.0169432,0.0180034,0.0189465,0.0196779,0.0199275,0.0227925,0.0235687,0.0247127,0.0250639,0.025451,0.0273358,0.0277127,0.0277355,0.0279592,0.0280054,0.0286681,0.0296199,0.0299985,0.0307247,0.0307735,0.0327017,0.0340065,0.0344915,0.0355563,0.0375806,0.0389062,0.0412187,0.0421061,0.0426288,0.042839,0.0444257,0.0472096,0.0483246,0.0499674,0.0511546,0.0528451,0.0533481,0.0536584,0.0549829,0.0577046,0.0600155,0.0631283,0.0646545,0.0652362,0.0662675,0.0726545,0.0805014,0.0811884,0.0951302,0.106312,0.119246,0.120109,0.124825,0.13139,0.133503,0.138607,0.139866,0.143547,0.144394,0.144686,0.163462,0.174069,0.181077,0.187971,0.189704,0.215986,0.224071,0.229016,0.23198,0.233859,0.240932,0.246423,0.285912,0.306573,0.314818,0.344039,0.45438,0.454568,0.472284,0.532598,0.53432,0.573741,0.587023,0.676779,0.679189,0.687435,0.700935,0.704517,0.714944,0.726662,0.740769,0.752756,0.766994,0.780008,0.782906,0.806304,0.808586,0.830815,0.835297,0.857014,0.874019,0.892619,0.906368,0.911814,0.925153,0.935732,0.944512,0.945047,0.945147,0.951212,0.957036,0.958648,0.960515,0.962309,0.967328,0.972115,0.972382,0.972995,0.973152,0.97554,0.975603,0.975792,0.978776,0.979474,0.983214,0.983222,0.984489,0.98655,0.987588,0.987722,0.988409,0.988672,0.989422,0.989441,0.989515,0.990044,0.991292,0.991596,0.992128,0.992282,0.992611,0.992922,0.992991,0.993023,0.993258,0.993632,0.993787,0.993879,0.99414,0.99446,0.994497,0.994723,0.994794,0.994929,0.994931,0.994956,0.99514,0.995185,0.995295,0.995408,0.99545,0.995779,0.995787,0.995799,0.995834,0.995862,0.996025,0.996038,0.99604,0.996098,0.996139,0.996173,0.996199,0.996314,0.996356,0.996358,0.996366,0.996372,0.996381,0.996439,0.996466,0.996504,0.996523,0.996552,0.996553,0.996573,0.996614,0.996651,0.996673,0.996702,0.996745,0.996775,0.996826,0.996831,0.996883,0.996943,0.996993,0.997005,0.997069,0.997077,0.997079,0.997101,0.997131,0.997158,0.997171,0.997191,0.997215,0.997216,0.997221,0.997232,0.997287,0.99732,0.997353,0.997368,0.997371,0.997377,0.997382,0.997385,0.997389,0.997394,0.997438,0.997438,0.99748,0.997502,0.997592,0.997593,0.997604,0.997647,0.997657,0.997673,0.997708,0.997725,0.997734,0.997748,0.997759,0.997773,0.997782,0.997789,0.997801,0.997825,0.997833,0.997848,0.99785,0.997854,0.997895,0.99792,0.997928,0.997939,0.997963,0.997976,0.997978,0.997984,0.998042,0.998056,0.998099,0.998105,0.998111,0.998125,0.998126,0.998201,0.998262,0.998293,0.998307,0.998316,0.998317,0.998318,0.998321,0.998327,0.998359,0.998359,0.998385,0.998393,0.998412,0.998435,0.99844,0.998449,0.998479,0.998491,0.998498,0.998514,0.998524,0.99853,0.99853,0.998553,0.998596,0.998627,0.998637,0.99865,0.998663,0.998688,0.998723,0.998734,0.998743,0.998749,0.998815,0.99882,0.998831,0.998849,0.998852,0.998857,0.998903,0.998934,1.09893],\n",
       "y: [1,1,0.999566,0.999132,0.998697,0.998263,0.997829,0.99696,0.996526,0.996092,0.995658,0.995224,0.994789,0.994355,0.987408,0.986974,0.986539,0.986105,0.984802,0.983066,0.982197,0.981763,0.981329,0.979592,0.978289,0.977855,0.977421,0.975684,0.97525,0.974815,0.974381,0.973513,0.97221,0.971776,0.971342,0.970908,0.968302,0.967868,0.967434,0.967,0.966131,0.965697,0.965263,0.964828,0.96396,0.963526,0.963092,0.962657,0.962223,0.961355,0.960921,0.960486,0.959184,0.958749,0.958315,0.957881,0.956578,0.95571,0.955276,0.954842,0.954407,0.953973,0.953539,0.951802,0.951368,0.950934,0.950499,0.950065,0.948762,0.948328,0.94746,0.947026,0.946591,0.946157,0.945289,0.944855,0.94442,0.943986,0.943552,0.942249,0.941815,0.941381,0.940947,0.940512,0.940078,0.939644,0.93921,0.938776,0.938341,0.937907,0.937473,0.937039,0.936604,0.93617,0.935736,0.934868,0.934433,0.933999,0.933565,0.933131,0.932696,0.932262,0.931828,0.931394,0.93096,0.930525,0.930091,0.929657,0.929223,0.928789,0.928354,0.92792,0.927486,0.927052,0.926617,0.926183,0.925749,0.925315,0.924881,0.924446,0.924012,0.923578,0.923144,0.92271,0.922275,0.921841,0.921407,0.920973,0.920538,0.920104,0.91967,0.919236,0.918802,0.918367,0.917933,0.917499,0.917065,0.91663,0.916196,0.915762,0.915328,0.914894,0.914459,0.914025,0.913591,0.913157,0.912723,0.912288,0.911854,0.91142,0.910986,0.910551,0.910117,0.909683,0.909249,0.908815,0.90838,0.907946,0.907512,0.907078,0.906644,0.906209,0.905775,0.905341,0.904907,0.904472,0.904038,0.903604,0.90317,0.902736,0.902301,0.901867,0.901433,0.900999,0.900564,0.90013,0.899696,0.899262,0.898828,0.898393,0.897959,0.897525,0.897091,0.896657,0.896222,0.895788,0.895354,0.89492,0.894485,0.894051,0.893617,0.893183,0.892749,0.892314,0.89188,0.891446,0.891012,0.890578,0.890143,0.889709,0.889275,0.888841,0.888406,0.887972,0.887538,0.887104,0.88667,0.886235,0.885801,0.885367,0.884933,0.884498,0.884064,0.88363,0.883196,0.882762,0.882327,0.881893,0.881459,0.881025,0.880591,0.880156,0.879722,0.879288,0.878854,0.878419,0.877985,0.877551,0.877117,0.876683,0.876248,0.875814,0.87538,0.874946,0.874512,0.874077,0.873643,0.873209,0.872775,0.87234,0.871906,0.871472,0.871038,0.870604,0.870169,0.869735,0.869301,0.868867,0.868432,0.867998,0.867564,0.86713,0.866696,0.866261,0.865827,0.865393,0.864959,0.864525,0.86409,0.863656,0.863222,0.862788,0.862353,0.861919,0.861485,0.861051,0.860617,0.860182,0.859748,0.859314,0.85888,0.858446,0.858011,0.857577,0.857143,0.856709,0.856274,0.85584,0.855406,0.854972,0.854538,0.854103,0.853669,0.853235,0.852801,0.852366,0.851932,0.851498,0.851064,0.85063,0.850195,0.849761,0.849327,0.848893,0.848459,0.848024,0.84759,0.847156,0.846722,0.846287,0.845853,0.845419,0.844985,0.844551,0.844116,0.843682,0.843248,0.842814,0.84238,0.841511,0.841077,0.840208,0.83934,0.838906,0.838472,0.838037,0.837603,0.836735,0.8363,0.835866,0.835432,0.834998,0.834564,0.834129,0.833695,0.833261,0.832393,0.831958,0.831524,0.830656,0.830221,0.829787,0.829353,0.828919,0.828485,0.827616,0.827182,0.826314,0.825879,0.825445,0.825011,0.824577,0.824142,0.823708,0.823274,0.82284,0.822406,0.821971,0.820669,0.818932,0.818498,0.817629,0.815892,0.815458,0.815024,0.81459,0.814155,0.813721,0.813287,0.812853,0.808945,0.808511,0.808076,0.807642,0.807208,0.799826,0.799392,0.798089,0.797655,0.797221,0.796787,0.796353,0.795918,0.795484,0.794616,0.794182,0.791142,0.790708,0.790274,0.789839,0.789405,0.788971,0.788537,0.788102,0.787668,0.7868,0.785931,0.785497,0.781589,0.781155,0.780721,0.780287,0.779852,0.779418,0.778984,0.77855,0.776813,0.77551,0.775076,0.774642,0.763352,0.759878,0.758576,0.75597,0.755536,0.755102,0.754234,0.752497,0.752063,0.751628,0.75076,0.750326,0.749891,0.735128,0.733391,0.732957,0.732089,0.731654,0.730352,0.729917,0.729483,0.729049,0.728615,0.728181,0.725575,0.724273,0.628745,0.628311,0.627442,0.627008,0.626574,0.62614,0.6231,0.617021,0.613548,0.0138949,0.0134607,0.0130265,0.0125923,0.00564481,0.00303951,0.00217108,0.00130265,0.000868432,0.000434216,0],\n",
       "type: 'scatter',\n",
       "mode: 'lines',\n",
       "line: {\n",
       "  dash: 'solid',\n",
       "  width: 1\n",
       "},\n",
       "name: '0 vs others',\n",
       "},\n",
       "{\n",
       "x: [-0.1,0,0.000384114,0.000389037,0.000466307,0.000466647,0.00048059,0.000486531,0.000499961,0.00050194,0.000508176,0.000510291,0.000510502,0.000511756,0.00051265,0.000513217,0.000516834,0.000517258,0.000517594,0.000518165,0.000518315,0.000518838,0.000519153,0.000523681,0.00053071,0.00053449,0.000535645,0.000535733,0.000536219,0.000538673,0.000547811,0.000550336,0.000550347,0.00055673,0.000558332,0.00056024,0.000566749,0.000573109,0.000577339,0.000584127,0.000585874,0.000593915,0.000595102,0.000595341,0.000595553,0.000600089,0.000600895,0.000601232,0.000602988,0.000610676,0.000611771,0.000611965,0.000612361,0.000612476,0.000622949,0.000623008,0.000629175,0.000633341,0.000633392,0.000633407,0.000639522,0.000647033,0.000647198,0.00064754,0.000648146,0.00066349,0.000664788,0.000665555,0.000669973,0.000671793,0.000672716,0.000672754,0.000673017,0.000674562,0.000674941,0.000677647,0.000677744,0.000677816,0.00067791,0.00067799,0.000684017,0.000685066,0.000685844,0.000687936,0.000690417,0.000700843,0.000702434,0.000703175,0.000706515,0.000710534,0.000714769,0.0007229,0.00072342,0.000723467,0.000723493,0.000723495,0.0007235,0.000723538,0.00073382,0.000734372,0.000734711,0.000734714,0.000734894,0.000736802,0.000738402,0.000744034,0.000753209,0.000768437,0.000779711,0.000780714,0.00078106,0.000787551,0.000788191,0.00078821,0.000788224,0.000788319,0.000788342,0.000788344,0.000796092,0.000805181,0.000805354,0.000805968,0.000806721,0.000809043,0.000809356,0.000822829,0.000822839,0.000827045,0.000831559,0.000835074,0.000849687,0.0008583,0.000863017,0.000869675,0.000870117,0.000871715,0.000881494,0.00088915,0.000889925,0.000891166,0.000891579,0.000905807,0.000906693,0.000912051,0.000918831,0.000920467,0.000931415,0.000937092,0.000948846,0.000968307,0.000969201,0.000989843,0.000990408,0.000990617,0.000991526,0.00100715,0.00101116,0.00101574,0.00101747,0.00103847,0.00104742,0.00104845,0.00105923,0.00106411,0.00107738,0.0010788,0.00109139,0.00112971,0.00113153,0.00114826,0.00115462,0.00116891,0.00117196,0.00120822,0.00120936,0.00122576,0.00123217,0.0012347,0.0012547,0.00128075,0.00128348,0.00128427,0.00128447,0.00129585,0.00130339,0.00131736,0.00133902,0.00136049,0.00136331,0.00137163,0.00138924,0.00138946,0.00140479,0.00140503,0.00142747,0.00142989,0.0014742,0.00148605,0.00149744,0.00150914,0.00151191,0.00151406,0.00152397,0.00152576,0.00155217,0.00156448,0.00161664,0.00163333,0.0016458,0.00167266,0.00170712,0.0017073,0.00171485,0.00172064,0.00172299,0.00172379,0.0017635,0.0018302,0.00183862,0.00187162,0.00189612,0.00198564,0.00202837,0.00206503,0.00208362,0.00210055,0.00211494,0.00219389,0.0021963,0.0021985,0.00226454,0.00229426,0.00230588,0.00239359,0.00241796,0.00246822,0.00258224,0.0026083,0.00262131,0.00264661,0.00268152,0.00269954,0.00278354,0.00283373,0.00294817,0.00304228,0.0030455,0.00309525,0.00310177,0.00311025,0.00311958,0.00314007,0.00325257,0.00332899,0.00345692,0.00352058,0.00377938,0.00391069,0.00391113,0.00394689,0.00439445,0.0045704,0.00501295,0.00575464,0.00578303,0.00585607,0.00587491,0.00601798,0.00683765,0.00807528,0.00830558,0.00873283,0.00875785,0.00886097,0.00956756,0.009595,0.0102965,0.010707,0.0109697,0.0112748,0.0145281,0.0177651,0.0193116,0.0223241,0.047289,0.0589087,0.0720044,0.0866467,0.256301,0.304214,0.345635,0.394159,0.40887,0.464642,0.681691,0.746673,0.752581,0.810034,0.824958,0.833435,0.851896,0.853375,0.857701,0.877027,0.888591,0.917116,0.922606,0.933137,0.939984,0.944759,0.944912,0.94553,0.953375,0.953582,0.960576,0.963844,0.96409,0.966544,0.967693,0.968801,0.968809,0.97017,0.970285,0.970553,0.970725,0.970736,0.973092,0.973743,0.977278,0.979516,0.981525,0.982472,0.98267,0.982859,0.983819,0.984958,0.985019,0.987625,0.98772,0.988107,0.988187,0.988831,0.98911,0.989133,0.989218,0.989404,0.989755,0.989816,0.990111,0.990478,0.990509,0.990598,0.991026,0.991036,0.991052,0.991312,0.991334,0.991525,0.991549,0.991555,0.991589,0.99187,0.991913,0.991921,0.991926,0.99218,0.992223,0.99232,0.992857,0.992883,0.992943,0.992962,0.993013,0.993138,0.993349,0.993389,0.99343,0.993497,0.993636,0.993737,0.99398,0.994036,0.994046,0.994108,0.994263,0.994263,0.994268,0.994284,0.994302,0.994385,0.994401,0.994404,0.994463,0.994468,0.994495,0.994517,0.994538,0.994561,0.994571,0.994675,0.994722,0.994838,0.994852,0.99486,0.994901,0.994996,0.994997,0.995,0.995077,0.995084,0.9951,0.995144,0.995261,0.995273,0.995276,0.995308,0.99533,0.995383,0.995404,0.995414,0.995456,0.995466,0.995533,0.995549,0.995551,0.995557,0.995562,0.995701,0.995719,0.995725,0.995778,0.995852,0.995908,0.995911,0.995937,0.995943,0.99604,0.996107,0.996176,0.996181,0.996184,0.996229,0.996288,0.996342,0.996349,1.09635],\n",
       "y: [1,1,0.999566,0.999132,0.998697,0.998263,0.997829,0.997395,0.99696,0.996092,0.995658,0.995224,0.994355,0.987408,0.984802,0.984368,0.983934,0.9835,0.983066,0.982631,0.980894,0.98046,0.980026,0.979592,0.979158,0.978723,0.978289,0.97525,0.974815,0.974381,0.973947,0.967868,0.368215,0.367781,0.364307,0.363873,0.363439,0.362571,0.362136,0.361702,0.361268,0.360399,0.359965,0.359531,0.359097,0.358663,0.358228,0.357794,0.35736,0.356926,0.356492,0.356057,0.355189,0.354755,0.35432,0.353886,0.353452,0.352149,0.350847,0.255319,0.254885,0.254451,0.254017,0.242727,0.240122,0.239687,0.238819,0.238385,0.223621,0.223187,0.222753,0.222319,0.22145,0.221016,0.220582,0.220148,0.219713,0.219279,0.218411,0.217977,0.214069,0.213634,0.210161,0.209292,0.208858,0.208424,0.20799,0.205384,0.20495,0.204516,0.204082,0.203647,0.202345,0.201911,0.201476,0.201042,0.200608,0.200174,0.199739,0.199305,0.198437,0.197568,0.196266,0.194529,0.194095,0.19366,0.193226,0.192792,0.192358,0.191924,0.191489,0.191055,0.189752,0.188016,0.186279,0.185845,0.18541,0.181502,0.181068,0.180634,0.1802,0.179766,0.178029,0.177594,0.17716,0.175858,0.175423,0.174989,0.174555,0.174121,0.173686,0.173252,0.172818,0.172384,0.17195,0.171515,0.171081,0.170213,0.169779,0.169344,0.168476,0.165436,0.165002,0.164568,0.164134,0.1637,0.163265,0.162831,0.162397,0.161963,0.161528,0.161094,0.16066,0.160226,0.159792,0.159357,0.158923,0.158055,0.15762,0.157186,0.156752,0.155884,0.155449,0.155015,0.154581,0.154147,0.153713,0.153278,0.152844,0.15241,0.151976,0.151541,0.151107,0.150673,0.150239,0.149805,0.14937,0.148936,0.148502,0.148068,0.147634,0.147199,0.146765,0.146331,0.145897,0.145462,0.145028,0.144594,0.14416,0.143726,0.143291,0.142857,0.141989,0.141554,0.14112,0.140686,0.139818,0.139383,0.138949,0.138515,0.138081,0.137647,0.137212,0.136778,0.13591,0.135475,0.135041,0.134607,0.134173,0.133739,0.133304,0.125923,0.125488,0.125054,0.12462,0.124186,0.123752,0.123317,0.122883,0.122449,0.122015,0.121581,0.121146,0.120712,0.120278,0.119844,0.119409,0.118975,0.118541,0.118107,0.117673,0.117238,0.116804,0.11637,0.115936,0.115502,0.115067,0.114633,0.114199,0.113765,0.11333,0.112896,0.112462,0.112028,0.111594,0.111159,0.110725,0.110291,0.109857,0.109422,0.108988,0.108554,0.10812,0.107686,0.107251,0.106817,0.106383,0.105949,0.105515,0.10508,0.104646,0.104212,0.103778,0.103343,0.102909,0.102475,0.102041,0.101607,0.101172,0.100738,0.100304,0.0998697,0.0994355,0.0990013,0.0985671,0.0981329,0.0976987,0.0972644,0.0968302,0.096396,0.0959618,0.0955276,0.0950934,0.0946591,0.0942249,0.0937907,0.0933565,0.0929223,0.0924881,0.0920538,0.0916196,0.0911854,0.0907512,0.090317,0.0898828,0.0894485,0.0890143,0.0885801,0.0881459,0.0877117,0.0872775,0.0868432,0.086409,0.0859748,0.0855406,0.0851064,0.0846722,0.084238,0.0838037,0.0833695,0.0829353,0.0825011,0.0820669,0.0816327,0.0811984,0.0807642,0.08033,0.0798958,0.0794616,0.0790274,0.0785931,0.0781589,0.0777247,0.0772905,0.0768563,0.0764221,0.0759878,0.0755536,0.0751194,0.0746852,0.074251,0.0738168,0.0733825,0.0729483,0.0725141,0.0720799,0.0716457,0.0712115,0.0707772,0.070343,0.0699088,0.0694746,0.0690404,0.0686062,0.0681719,0.0677377,0.0673035,0.0668693,0.0664351,0.0660009,0.0655667,0.0651324,0.0646982,0.064264,0.0638298,0.0633956,0.0629614,0.0625271,0.0620929,0.0616587,0.0612245,0.0607903,0.0603561,0.0599218,0.0594876,0.0590534,0.058185,0.0577508,0.0573165,0.0568823,0.0564481,0.0560139,0.0555797,0.0551455,0.0547112,0.054277,0.0538428,0.0534086,0.0529744,0.0525402,0.0512375,0.0508033,0.0503691,0.0499349,0.0495007,0.0490664,0.048198,0.0477638,0.0473296,0.0464611,0.0460269,0.0455927,0.0451585,0.0438558,0.0434216,0.0429874,0.0425532,0.0408163,0.0403821,0.0399479,0.0390795,0.0377768,0.0373426,0.0369084,0.0364742,0.0360399,0.0351715,0.0338689,0.0334347,0.0330004,0.0325662,0.032132,0.0316978,0.0308294,0.0303951,0.0299609,0.0290925,0.0264872,0.026053,0.0256188,0.0251845,0.0247503,0.0243161,0.0238819,0.0234477,0.0225792,0.0212766,0.0195397,0.0191055,0.0186713,0.0182371,0.0178029,0.016066,0.0147634,0.0143291,0.0138949,0.0130265,0.0117238,0.0112896,0.00955276,0.00911854,0.00217108,0.00173686,0.00130265,0.000868432,0],\n",
       "type: 'scatter',\n",
       "mode: 'lines',\n",
       "line: {\n",
       "  dash: 'solid',\n",
       "  width: 1\n",
       "},\n",
       "name: '1 vs others',\n",
       "},\n",
       "{\n",
       "x: [-0.1,0,0.000499787,0.000599491,0.000616238,0.000632539,0.000637843,0.000646533,0.000657441,0.000662712,0.000666529,0.000666573,0.000679962,0.000692916,0.000693233,0.000693345,0.000695529,0.000699645,0.000707019,0.000708028,0.000711732,0.000711758,0.000711886,0.0007148,0.000720362,0.000720435,0.000720698,0.000723925,0.000726692,0.000727266,0.000727467,0.000734812,0.000735352,0.000737928,0.000740964,0.000742568,0.000743944,0.000744076,0.000745803,0.000746363,0.000749918,0.000751018,0.000751954,0.00075721,0.000758932,0.000759399,0.000762003,0.00076704,0.000767091,0.000768056,0.000768182,0.000768235,0.000768242,0.000770501,0.000775967,0.000776301,0.000777024,0.000778696,0.000778904,0.00077923,0.000781492,0.000781663,0.000785165,0.000785211,0.000786671,0.000788743,0.000791872,0.000796104,0.000797134,0.000809366,0.000812849,0.000813006,0.000813077,0.000813149,0.000813723,0.000815574,0.000816026,0.000816257,0.000821922,0.000822928,0.000827395,0.000831221,0.00083153,0.000835606,0.000836363,0.000840123,0.00084263,0.000843999,0.000858168,0.000859381,0.000863957,0.000868229,0.000871855,0.000872913,0.000873739,0.000873813,0.00087806,0.000878645,0.000878679,0.000881514,0.000883421,0.000888464,0.000896736,0.000898315,0.000899606,0.000909553,0.000909759,0.000912563,0.000916358,0.000917344,0.000918471,0.000935668,0.000938817,0.000940496,0.000944917,0.00094537,0.000946553,0.000949035,0.000952648,0.000973168,0.000977402,0.000980985,0.000991168,0.000991582,0.000995398,0.000996421,0.000999978,0.00100444,0.00100571,0.00101954,0.00102621,0.00103257,0.00103501,0.00103515,0.00103741,0.00104702,0.00104781,0.00106043,0.00106838,0.00107521,0.00107912,0.00108083,0.00108835,0.00109241,0.00109401,0.00109648,0.00110105,0.00111288,0.001121,0.00112204,0.00112218,0.0011267,0.00113268,0.00113778,0.00114705,0.00116609,0.00118481,0.00118768,0.00119836,0.00120088,0.00120598,0.00122733,0.00122766,0.00123028,0.00123125,0.00125748,0.00127746,0.00129203,0.00129519,0.00129561,0.00129876,0.00130097,0.00130611,0.00132649,0.00133159,0.00133252,0.00133503,0.00133715,0.0013437,0.00134628,0.0013589,0.00137627,0.00137728,0.00137859,0.00138316,0.00139578,0.00139667,0.00141126,0.00141504,0.00141862,0.00142698,0.00142912,0.00143788,0.00144021,0.00144282,0.00147898,0.00148448,0.00148787,0.00150114,0.00150301,0.00153197,0.00153322,0.00153324,0.00153783,0.00153955,0.00154432,0.00155107,0.00157142,0.00157296,0.00158475,0.00160652,0.00162211,0.00162494,0.00162804,0.00163232,0.00166495,0.00169526,0.00174002,0.00174508,0.00174766,0.00175341,0.00177285,0.0018,0.00182649,0.00182938,0.00184332,0.00184363,0.00185815,0.00187052,0.00187636,0.00189336,0.00190333,0.00190791,0.00193923,0.00195727,0.00195967,0.00196541,0.00197438,0.00197503,0.00197937,0.00198128,0.00199494,0.00199646,0.00202115,0.00205095,0.0020948,0.00210584,0.00210646,0.00211956,0.00212664,0.00214553,0.00217019,0.00219893,0.00220898,0.00225784,0.00227209,0.00231098,0.00232185,0.00235861,0.00237884,0.00239971,0.00240798,0.00245256,0.00247115,0.00247788,0.00249593,0.00249594,0.00254866,0.00255227,0.0025575,0.002687,0.00271567,0.00273121,0.00276091,0.00282281,0.00283169,0.0028511,0.0028647,0.00288298,0.00289949,0.00292966,0.0029418,0.00295899,0.00298312,0.00301308,0.00302078,0.00304432,0.00305261,0.00307803,0.00309377,0.00310309,0.00311896,0.00312489,0.00320613,0.00322383,0.00331998,0.00332202,0.00332403,0.00351569,0.00355699,0.0035656,0.00360632,0.00369161,0.00369891,0.0037099,0.00377977,0.00378941,0.00391997,0.00401472,0.00418588,0.00426937,0.0043319,0.00434255,0.00441865,0.00459725,0.00484902,0.0050974,0.0052942,0.0054321,0.00557053,0.00558715,0.00593159,0.00594371,0.00614051,0.0061417,0.00615314,0.00674029,0.00714976,0.0076635,0.00835019,0.00941053,0.00978395,0.0102159,0.0104211,0.0109179,0.0117361,0.0122183,0.0123947,0.0142657,0.0157607,0.019861,0.0221959,0.0227515,0.0229729,0.0251753,0.0253387,0.0265888,0.0294759,0.0297241,0.0368591,0.0376135,0.0396373,0.040658,0.0534231,0.0535683,0.0621677,0.0698336,0.091548,0.105187,0.122728,0.140958,0.14509,0.155971,0.16707,0.188715,0.191015,0.208717,0.22715,0.236274,0.264312,0.26732,0.279301,0.290204,0.292836,0.3169,0.35915,0.410193,0.416664,0.463491,0.464661,0.474451,0.521841,0.534725,0.543325,0.653543,0.682087,0.708305,0.760688,0.762194,0.774295,0.78162,0.815813,0.850744,0.85574,0.864028,0.872567,0.877614,0.903344,0.916397,0.924303,0.931243,0.932883,0.938088,0.942396,0.946253,0.946263,0.949333,0.950246,0.954116,0.956173,0.957109,0.958895,0.96161,0.965535,0.970156,0.973052,0.974919,0.975591,0.979008,0.980511,0.985696,0.98631,0.986521,0.986734,0.987556,0.987561,0.987848,0.988389,0.988981,0.990414,0.99204,0.992669,0.993457,0.99381,0.994502,0.99475,0.994777,0.996136,0.996256,0.996515,0.996633,0.996894,0.996917,0.997582,0.997661,1.09766],\n",
       "y: [1,1,0.999566,0.999132,0.998697,0.997829,0.995224,0.994355,0.987408,0.986974,0.986539,0.986105,0.985671,0.985237,0.9835,0.983066,0.982631,0.982197,0.382545,0.379071,0.378637,0.377768,0.377334,0.376031,0.375597,0.375163,0.374294,0.37386,0.367781,0.366913,0.366479,0.365176,0.364742,0.363439,0.363005,0.362136,0.361702,0.354755,0.353452,0.351715,0.351281,0.350847,0.34911,0.348676,0.348241,0.347807,0.347373,0.346939,0.346505,0.34607,0.344768,0.344333,0.343899,0.343031,0.339991,0.338689,0.336952,0.335649,0.334781,0.334347,0.333912,0.333044,0.33261,0.331741,0.331307,0.330873,0.330004,0.32957,0.329136,0.328702,0.32132,0.320886,0.320452,0.320017,0.22449,0.224056,0.223621,0.223187,0.220582,0.217977,0.217542,0.217108,0.21624,0.215805,0.214503,0.214069,0.213634,0.2132,0.212766,0.212332,0.211898,0.211463,0.211029,0.210595,0.210161,0.209726,0.209292,0.208858,0.208424,0.20799,0.207555,0.207121,0.206687,0.206253,0.205818,0.205384,0.20495,0.204516,0.204082,0.202779,0.202345,0.201911,0.201476,0.201042,0.186279,0.185845,0.184108,0.183673,0.183239,0.182805,0.182371,0.181937,0.181502,0.180634,0.1802,0.179331,0.178897,0.178463,0.178029,0.177594,0.17716,0.176726,0.176292,0.173686,0.173252,0.172818,0.172384,0.171515,0.171081,0.169779,0.169344,0.16891,0.167173,0.166739,0.166305,0.165871,0.165436,0.165002,0.164568,0.164134,0.1637,0.163265,0.162831,0.161094,0.16066,0.159357,0.158923,0.155449,0.155015,0.154581,0.154147,0.142857,0.142423,0.141989,0.141554,0.14112,0.140686,0.140252,0.139818,0.139383,0.138949,0.138515,0.138081,0.137212,0.136778,0.136344,0.13591,0.135475,0.135041,0.132002,0.131568,0.131133,0.130699,0.130265,0.129396,0.125488,0.125054,0.124186,0.123317,0.122883,0.122449,0.122015,0.121581,0.121146,0.120712,0.120278,0.119844,0.119409,0.118975,0.118541,0.118107,0.117673,0.117238,0.116804,0.11637,0.115936,0.115502,0.115067,0.114633,0.11333,0.112896,0.112462,0.112028,0.111594,0.111159,0.110725,0.110291,0.109857,0.109422,0.108988,0.108554,0.10812,0.107686,0.103778,0.103343,0.102909,0.102475,0.102041,0.101607,0.101172,0.100738,0.100304,0.0998697,0.0994355,0.0990013,0.0985671,0.0981329,0.0976987,0.0972644,0.0955276,0.0946591,0.0942249,0.0924881,0.0911854,0.0907512,0.090317,0.0894485,0.0890143,0.0885801,0.0881459,0.0877117,0.0868432,0.086409,0.0859748,0.0855406,0.0851064,0.0846722,0.084238,0.0838037,0.0833695,0.0825011,0.0816327,0.0807642,0.08033,0.0798958,0.0790274,0.0785931,0.0781589,0.0777247,0.0772905,0.0768563,0.0764221,0.0759878,0.0755536,0.0751194,0.0746852,0.074251,0.0738168,0.0733825,0.0729483,0.0725141,0.0720799,0.0712115,0.0707772,0.0699088,0.0694746,0.0690404,0.0686062,0.0681719,0.0677377,0.0673035,0.0668693,0.0664351,0.0660009,0.0655667,0.0651324,0.0646982,0.064264,0.0638298,0.0633956,0.0629614,0.0625271,0.0620929,0.0616587,0.0612245,0.0607903,0.0603561,0.0599218,0.0594876,0.0590534,0.0586192,0.058185,0.0577508,0.0573165,0.0568823,0.0564481,0.0560139,0.0555797,0.0551455,0.0547112,0.054277,0.0538428,0.0534086,0.0529744,0.0525402,0.0521059,0.0516717,0.0512375,0.0508033,0.0503691,0.0499349,0.0495007,0.0490664,0.0486322,0.048198,0.0477638,0.0473296,0.0468954,0.0464611,0.0460269,0.0455927,0.0451585,0.0447243,0.0442901,0.0438558,0.0434216,0.0429874,0.0425532,0.042119,0.0416848,0.0412505,0.0408163,0.0403821,0.0399479,0.0395137,0.0390795,0.0386452,0.038211,0.0377768,0.0373426,0.0369084,0.0364742,0.0360399,0.0356057,0.0351715,0.0347373,0.0343031,0.0338689,0.0334347,0.0330004,0.0325662,0.032132,0.0316978,0.0312636,0.0308294,0.0303951,0.0299609,0.0295267,0.0290925,0.0286583,0.0282241,0.0277898,0.0273556,0.0269214,0.0264872,0.026053,0.0256188,0.0251845,0.0247503,0.0243161,0.0238819,0.0234477,0.0230135,0.0225792,0.022145,0.0217108,0.0212766,0.0208424,0.0204082,0.0199739,0.0195397,0.0191055,0.0186713,0.0182371,0.0178029,0.0173686,0.0169344,0.0165002,0.016066,0.0156318,0.0151976,0.0147634,0.0143291,0.0138949,0.0134607,0.0130265,0.0125923,0.0121581,0.0117238,0.0112896,0.0108554,0.0104212,0.00998697,0.00955276,0.00911854,0.00868432,0.00825011,0.00781589,0.00738168,0.00694746,0.00651324,0.00607903,0.00564481,0.00521059,0.00477638,0.00434216,0.00390795,0.00347373,0.00303951,0.0026053,0.00217108,0.00173686,0.00130265,0.000868432,0.000434216,0],\n",
       "type: 'scatter',\n",
       "mode: 'lines',\n",
       "line: {\n",
       "  dash: 'solid',\n",
       "  width: 1\n",
       "},\n",
       "name: '2 vs others',\n",
       "},\n",
       "],\n",
       "    {\n",
       "      width: 500,\n",
       "      height: 400,\n",
       "      title: 'Threshold / Volume',\n",
       "      showlegend: true,\n",
       "      xaxis: {\n",
       "        ticks: 'outside',\n",
       "        showgrid: true,\n",
       "        zeroline: false,\n",
       "        showline: true,\n",
       "        title: 'Threshold',\n",
       "        },\n",
       "      font: {\n",
       "        size: 10,\n",
       "        },\n",
       "      yaxis: {\n",
       "        ticks: 'outside',\n",
       "        showgrid: true,\n",
       "        zeroline: false,\n",
       "        showline: true,\n",
       "        title: 'Volume',\n",
       "        },\n",
       "      margin: {\n",
       "        l: 50,\n",
       "        r: 50,\n",
       "        b: 50,\n",
       "        t: 50,\n",
       "      },\n",
       "    },\n",
       "    {\n",
       "      modeBarButtonsToRemove: ['sendDataToCloud'],\n",
       "      displaylogo: false,displayModeBar: false,\n",
       "    }\n",
       "  );\n",
       "</script>\n",
       "</div><div style='grid-row:2 / span 1; grid-column:2 / span 1;'>\n",
       "<div id=\"chart_1d1a_8a27_14e3_802c\" style=\"display: inline-block;\" ></div>\n",
       "<script>\n",
       "  Plotly.newPlot(\n",
       "    'chart_1d1a_8a27_14e3_802c',\n",
       "    [{\n",
       "x: [-0.1,0,0.00142907,0.00180305,0.00189387,0.00253497,0.00263925,0.002732,0.00283211,0.00291865,0.0029303,0.002965,0.00296826,0.00298327,0.00302676,0.00305587,0.00309544,0.00309557,0.00312482,0.00312602,0.00324864,0.00328843,0.00329568,0.00331531,0.00335387,0.00342401,0.00342499,0.00354724,0.00358155,0.00358225,0.00364775,0.00365104,0.00366209,0.00370775,0.00370782,0.00372398,0.00379423,0.00380698,0.00382237,0.00384454,0.00388521,0.00391055,0.00391147,0.00395587,0.00399996,0.00403216,0.00406402,0.00408939,0.00411091,0.00422176,0.00428299,0.00428399,0.00428521,0.00430831,0.00437566,0.00438089,0.00442386,0.00444608,0.00454795,0.0045524,0.00460517,0.00461263,0.00468682,0.00469318,0.00471088,0.00471776,0.00472769,0.00475909,0.00478583,0.00478675,0.00484496,0.00486926,0.00491133,0.00493124,0.00498942,0.00501956,0.00502492,0.00507626,0.0051328,0.0052412,0.00525997,0.00540917,0.00541047,0.00550548,0.00554799,0.00567314,0.00571252,0.00572724,0.00579334,0.00583219,0.00595165,0.0059782,0.005995,0.00619059,0.00639925,0.00645066,0.00649552,0.00669366,0.00674622,0.00683042,0.00689976,0.00703909,0.00704154,0.00735275,0.00743033,0.00745968,0.00746913,0.00754513,0.00761473,0.00775215,0.00792212,0.00801196,0.00802548,0.00826821,0.0084018,0.00854479,0.00863382,0.00895629,0.00913198,0.00952457,0.00953537,0.00959451,0.00967723,0.0101273,0.010149,0.0102864,0.0106038,0.010837,0.0109551,0.0110342,0.0111612,0.0113704,0.0116385,0.0119851,0.0124888,0.0126117,0.0133129,0.0135624,0.0142263,0.0147411,0.0153412,0.015755,0.0158283,0.0169432,0.0180034,0.0189465,0.0196779,0.0199275,0.0227925,0.0235687,0.0247127,0.0250639,0.025451,0.0273358,0.0277127,0.0277355,0.0279592,0.0280054,0.0286681,0.0296199,0.0299985,0.0307247,0.0307735,0.0327017,0.0340065,0.0344915,0.0355563,0.0375806,0.0389062,0.0412187,0.0421061,0.0426288,0.042839,0.0444257,0.0472096,0.0483246,0.0499674,0.0511546,0.0528451,0.0533481,0.0536584,0.0549829,0.0577046,0.0600155,0.0631283,0.0646545,0.0652362,0.0662675,0.0726545,0.0805014,0.0811884,0.0951302,0.106312,0.119246,0.120109,0.124825,0.13139,0.133503,0.138607,0.139866,0.143547,0.144394,0.144686,0.163462,0.174069,0.181077,0.187971,0.189704,0.215986,0.224071,0.229016,0.23198,0.233859,0.240932,0.246423,0.285912,0.306573,0.314818,0.344039,0.45438,0.454568,0.472284,0.532598,0.53432,0.573741,0.587023,0.676779,0.679189,0.687435,0.700935,0.704517,0.714944,0.726662,0.740769,0.752756,0.766994,0.780008,0.782906,0.806304,0.808586,0.830815,0.835297,0.857014,0.874019,0.892619,0.906368,0.911814,0.925153,0.935732,0.944512,0.945047,0.945147,0.951212,0.957036,0.958648,0.960515,0.962309,0.967328,0.972115,0.972382,0.972995,0.973152,0.97554,0.975603,0.975792,0.978776,0.979474,0.983214,0.983222,0.984489,0.98655,0.987588,0.987722,0.988409,0.988672,0.989422,0.989441,0.989515,0.990044,0.991292,0.991596,0.992128,0.992282,0.992611,0.992922,0.992991,0.993023,0.993258,0.993632,0.993787,0.993879,0.99414,0.99446,0.994497,0.994723,0.994794,0.994929,0.994931,0.994956,0.99514,0.995185,0.995295,0.995408,0.99545,0.995779,0.995787,0.995799,0.995834,0.995862,0.996025,0.996038,0.99604,0.996098,0.996139,0.996173,0.996199,0.996314,0.996356,0.996358,0.996366,0.996372,0.996381,0.996439,0.996466,0.996504,0.996523,0.996552,0.996553,0.996573,0.996614,0.996651,0.996673,0.996702,0.996745,0.996775,0.996826,0.996831,0.996883,0.996943,0.996993,0.997005,0.997069,0.997077,0.997079,0.997101,0.997131,0.997158,0.997171,0.997191,0.997215,0.997216,0.997221,0.997232,0.997287,0.99732,0.997353,0.997368,0.997371,0.997377,0.997382,0.997385,0.997389,0.997394,0.997438,0.997438,0.99748,0.997502,0.997592,0.997593,0.997604,0.997647,0.997657,0.997673,0.997708,0.997725,0.997734,0.997748,0.997759,0.997773,0.997782,0.997789,0.997801,0.997825,0.997833,0.997848,0.99785,0.997854,0.997895,0.99792,0.997928,0.997939,0.997963,0.997976,0.997978,0.997984,0.998042,0.998056,0.998099,0.998105,0.998111,0.998125,0.998126,0.998201,0.998262,0.998293,0.998307,0.998316,0.998317,0.998318,0.998321,0.998327,0.998359,0.998359,0.998385,0.998393,0.998412,0.998435,0.99844,0.998449,0.998479,0.998491,0.998498,0.998514,0.998524,0.99853,0.99853,0.998553,0.998596,0.998627,0.998637,0.99865,0.998663,0.998688,0.998723,0.998734,0.998743,0.998749,0.998815,0.99882,0.998831,0.998849,0.998852,0.998857,0.998903,0.998934,1.09893],\n",
       "y: [0.881025,0.881025,0.881459,0.881025,0.881459,0.881893,0.882327,0.883196,0.88363,0.883196,0.88363,0.884064,0.884498,0.884933,0.89188,0.892314,0.892749,0.893183,0.894485,0.896222,0.897091,0.897525,0.897959,0.899696,0.900999,0.901433,0.901867,0.903604,0.904038,0.904472,0.904907,0.905775,0.907078,0.907512,0.907946,0.90838,0.910986,0.91142,0.911854,0.912288,0.913157,0.913591,0.914025,0.914459,0.915328,0.915762,0.916196,0.91663,0.917065,0.917933,0.918367,0.918802,0.920104,0.920538,0.920973,0.921407,0.92271,0.923578,0.924012,0.924446,0.924881,0.925315,0.925749,0.927486,0.92792,0.928354,0.928789,0.929223,0.930525,0.93096,0.931828,0.932262,0.932696,0.933131,0.933999,0.934433,0.934868,0.935302,0.935736,0.937039,0.937473,0.937907,0.938341,0.938776,0.93921,0.939644,0.940078,0.940512,0.940947,0.941381,0.941815,0.942249,0.942683,0.943118,0.943552,0.94442,0.944855,0.945289,0.945723,0.946157,0.946591,0.947026,0.94746,0.947894,0.948328,0.948762,0.949197,0.949631,0.950065,0.950499,0.950934,0.951368,0.951802,0.952236,0.95267,0.953105,0.953539,0.953973,0.954407,0.954842,0.955276,0.95571,0.956144,0.956578,0.957013,0.957447,0.957881,0.958315,0.958749,0.959184,0.959618,0.960052,0.960486,0.960921,0.961355,0.961789,0.962223,0.962657,0.963092,0.962657,0.963092,0.963526,0.96396,0.964394,0.964828,0.965263,0.965697,0.966131,0.966565,0.967,0.967434,0.967,0.967434,0.967868,0.968302,0.968736,0.969171,0.969605,0.970039,0.970473,0.970908,0.970473,0.970908,0.971342,0.971776,0.97221,0.972644,0.973079,0.972644,0.973079,0.973513,0.973079,0.972644,0.973079,0.973513,0.973079,0.972644,0.973079,0.973513,0.973947,0.974381,0.974815,0.97525,0.975684,0.976118,0.976552,0.976987,0.977421,0.977855,0.978289,0.977855,0.978289,0.978723,0.979158,0.979592,0.980026,0.98046,0.980894,0.981329,0.981763,0.982197,0.982631,0.983066,0.982631,0.982197,0.982631,0.983066,0.982631,0.983066,0.9835,0.983934,0.9835,0.983934,0.984368,0.984802,0.984368,0.983934,0.984368,0.984802,0.985237,0.984802,0.984368,0.983934,0.9835,0.983934,0.9835,0.983066,0.982631,0.982197,0.982631,0.983066,0.982631,0.983066,0.982631,0.982197,0.982631,0.982197,0.981763,0.982197,0.982631,0.982197,0.981763,0.982197,0.981763,0.982197,0.981763,0.981329,0.980894,0.98046,0.980026,0.979592,0.980026,0.979592,0.979158,0.978723,0.978289,0.977855,0.977421,0.976987,0.976552,0.976118,0.975684,0.976118,0.975684,0.97525,0.974815,0.974381,0.973947,0.973513,0.973079,0.972644,0.97221,0.971776,0.971342,0.970908,0.970473,0.970039,0.969605,0.969171,0.968736,0.968302,0.967868,0.967434,0.967,0.966565,0.966131,0.965697,0.965263,0.965697,0.965263,0.964828,0.964394,0.96396,0.963526,0.963092,0.962657,0.962223,0.961789,0.961355,0.960921,0.960486,0.960052,0.959618,0.959184,0.958749,0.958315,0.957881,0.957447,0.957013,0.956144,0.95571,0.954842,0.953973,0.953539,0.953105,0.95267,0.952236,0.951368,0.950934,0.950499,0.950065,0.949631,0.949197,0.948762,0.948328,0.947894,0.947026,0.946591,0.946157,0.945289,0.944855,0.945289,0.944855,0.94442,0.943986,0.943118,0.942683,0.941815,0.941381,0.940947,0.940512,0.940078,0.939644,0.93921,0.938776,0.938341,0.937907,0.937473,0.93617,0.934433,0.933999,0.933131,0.931394,0.93096,0.930525,0.930091,0.929657,0.929223,0.928789,0.928354,0.924446,0.924012,0.923578,0.923144,0.92271,0.916196,0.915762,0.914459,0.914025,0.913591,0.913157,0.912723,0.912288,0.911854,0.910986,0.910551,0.90838,0.907946,0.907512,0.907078,0.906644,0.906209,0.905775,0.905341,0.904907,0.904038,0.90317,0.902736,0.898828,0.898393,0.897959,0.897525,0.897091,0.896657,0.896222,0.895788,0.894051,0.892749,0.892314,0.89188,0.880591,0.877117,0.875814,0.873209,0.872775,0.87234,0.871472,0.869735,0.869301,0.868867,0.867998,0.867564,0.867998,0.853235,0.851498,0.851064,0.850195,0.849761,0.848459,0.848024,0.84759,0.847156,0.846722,0.846287,0.843682,0.84238,0.746852,0.746418,0.745549,0.745115,0.744681,0.744247,0.741207,0.735128,0.731654,0.132002,0.131568,0.132002,0.131568,0.12462,0.122015,0.121146,0.120278,0.119844,0.119409,0.118975],\n",
       "type: 'scatter',\n",
       "mode: 'lines',\n",
       "line: {\n",
       "  dash: 'solid',\n",
       "  width: 1\n",
       "},\n",
       "name: '0 vs others',\n",
       "},\n",
       "{\n",
       "x: [-0.1,0,0.000384114,0.000389037,0.000466307,0.000466647,0.00048059,0.000486531,0.000499961,0.00050194,0.000508176,0.000510291,0.000510502,0.000511756,0.00051265,0.000513217,0.000516834,0.000517258,0.000517594,0.000518165,0.000518315,0.000518838,0.000519153,0.000523681,0.00053071,0.00053449,0.000535645,0.000535733,0.000536219,0.000538673,0.000547811,0.000550336,0.000550347,0.00055673,0.000558332,0.00056024,0.000566749,0.000573109,0.000577339,0.000584127,0.000585874,0.000593915,0.000595102,0.000595341,0.000595553,0.000600089,0.000600895,0.000601232,0.000602988,0.000610676,0.000611771,0.000611965,0.000612361,0.000612476,0.000622949,0.000623008,0.000629175,0.000633341,0.000633392,0.000633407,0.000639522,0.000647033,0.000647198,0.00064754,0.000648146,0.00066349,0.000664788,0.000665555,0.000669973,0.000671793,0.000672716,0.000672754,0.000673017,0.000674562,0.000674941,0.000677647,0.000677744,0.000677816,0.00067791,0.00067799,0.000684017,0.000685066,0.000685844,0.000687936,0.000690417,0.000700843,0.000702434,0.000703175,0.000706515,0.000710534,0.000714769,0.0007229,0.00072342,0.000723467,0.000723493,0.000723495,0.0007235,0.000723538,0.00073382,0.000734372,0.000734711,0.000734714,0.000734894,0.000736802,0.000738402,0.000744034,0.000753209,0.000768437,0.000779711,0.000780714,0.00078106,0.000787551,0.000788191,0.00078821,0.000788224,0.000788319,0.000788342,0.000788344,0.000796092,0.000805181,0.000805354,0.000805968,0.000806721,0.000809043,0.000809356,0.000822829,0.000822839,0.000827045,0.000831559,0.000835074,0.000849687,0.0008583,0.000863017,0.000869675,0.000870117,0.000871715,0.000881494,0.00088915,0.000889925,0.000891166,0.000891579,0.000905807,0.000906693,0.000912051,0.000918831,0.000920467,0.000931415,0.000937092,0.000948846,0.000968307,0.000969201,0.000989843,0.000990408,0.000990617,0.000991526,0.00100715,0.00101116,0.00101574,0.00101747,0.00103847,0.00104742,0.00104845,0.00105923,0.00106411,0.00107738,0.0010788,0.00109139,0.00112971,0.00113153,0.00114826,0.00115462,0.00116891,0.00117196,0.00120822,0.00120936,0.00122576,0.00123217,0.0012347,0.0012547,0.00128075,0.00128348,0.00128427,0.00128447,0.00129585,0.00130339,0.00131736,0.00133902,0.00136049,0.00136331,0.00137163,0.00138924,0.00138946,0.00140479,0.00140503,0.00142747,0.00142989,0.0014742,0.00148605,0.00149744,0.00150914,0.00151191,0.00151406,0.00152397,0.00152576,0.00155217,0.00156448,0.00161664,0.00163333,0.0016458,0.00167266,0.00170712,0.0017073,0.00171485,0.00172064,0.00172299,0.00172379,0.0017635,0.0018302,0.00183862,0.00187162,0.00189612,0.00198564,0.00202837,0.00206503,0.00208362,0.00210055,0.00211494,0.00219389,0.0021963,0.0021985,0.00226454,0.00229426,0.00230588,0.00239359,0.00241796,0.00246822,0.00258224,0.0026083,0.00262131,0.00264661,0.00268152,0.00269954,0.00278354,0.00283373,0.00294817,0.00304228,0.0030455,0.00309525,0.00310177,0.00311025,0.00311958,0.00314007,0.00325257,0.00332899,0.00345692,0.00352058,0.00377938,0.00391069,0.00391113,0.00394689,0.00439445,0.0045704,0.00501295,0.00575464,0.00578303,0.00585607,0.00587491,0.00601798,0.00683765,0.00807528,0.00830558,0.00873283,0.00875785,0.00886097,0.00956756,0.009595,0.0102965,0.010707,0.0109697,0.0112748,0.0145281,0.0177651,0.0193116,0.0223241,0.047289,0.0589087,0.0720044,0.0866467,0.256301,0.304214,0.345635,0.394159,0.40887,0.464642,0.681691,0.746673,0.752581,0.810034,0.824958,0.833435,0.851896,0.853375,0.857701,0.877027,0.888591,0.917116,0.922606,0.933137,0.939984,0.944759,0.944912,0.94553,0.953375,0.953582,0.960576,0.963844,0.96409,0.966544,0.967693,0.968801,0.968809,0.97017,0.970285,0.970553,0.970725,0.970736,0.973092,0.973743,0.977278,0.979516,0.981525,0.982472,0.98267,0.982859,0.983819,0.984958,0.985019,0.987625,0.98772,0.988107,0.988187,0.988831,0.98911,0.989133,0.989218,0.989404,0.989755,0.989816,0.990111,0.990478,0.990509,0.990598,0.991026,0.991036,0.991052,0.991312,0.991334,0.991525,0.991549,0.991555,0.991589,0.99187,0.991913,0.991921,0.991926,0.99218,0.992223,0.99232,0.992857,0.992883,0.992943,0.992962,0.993013,0.993138,0.993349,0.993389,0.99343,0.993497,0.993636,0.993737,0.99398,0.994036,0.994046,0.994108,0.994263,0.994263,0.994268,0.994284,0.994302,0.994385,0.994401,0.994404,0.994463,0.994468,0.994495,0.994517,0.994538,0.994561,0.994571,0.994675,0.994722,0.994838,0.994852,0.99486,0.994901,0.994996,0.994997,0.995,0.995077,0.995084,0.9951,0.995144,0.995261,0.995273,0.995276,0.995308,0.99533,0.995383,0.995404,0.995414,0.995456,0.995466,0.995533,0.995549,0.995551,0.995557,0.995562,0.995701,0.995719,0.995725,0.995778,0.995852,0.995908,0.995911,0.995937,0.995943,0.99604,0.996107,0.996176,0.996181,0.996184,0.996229,0.996288,0.996342,0.996349,1.09635],\n",
       "y: [0.0885801,0.0885801,0.0890143,0.0894485,0.0898828,0.090317,0.0907512,0.0911854,0.0916196,0.0924881,0.0929223,0.0933565,0.0942249,0.101172,0.103778,0.104212,0.104646,0.10508,0.105515,0.105949,0.107686,0.107251,0.107686,0.10812,0.108554,0.108988,0.109422,0.112462,0.112896,0.11333,0.113765,0.119844,0.719496,0.719931,0.723404,0.723838,0.724273,0.725141,0.725575,0.72601,0.726444,0.727312,0.727746,0.728181,0.728615,0.729049,0.729483,0.729917,0.730352,0.730786,0.73122,0.731654,0.732523,0.732957,0.733391,0.733825,0.73426,0.735562,0.736865,0.832393,0.832827,0.833261,0.833695,0.844985,0.84759,0.848024,0.848893,0.849327,0.86409,0.864525,0.864959,0.865393,0.866261,0.866696,0.86713,0.867564,0.867998,0.868432,0.869301,0.869735,0.873643,0.874077,0.877551,0.878419,0.878854,0.879288,0.879722,0.882327,0.882762,0.883196,0.88363,0.884064,0.885367,0.885801,0.886235,0.88667,0.887104,0.887538,0.887972,0.888406,0.889275,0.890143,0.891446,0.893183,0.893617,0.894051,0.894485,0.89492,0.895354,0.895788,0.896222,0.896657,0.897959,0.899696,0.901433,0.901867,0.902301,0.906209,0.906644,0.906209,0.906644,0.907078,0.908815,0.909249,0.909683,0.910986,0.91142,0.911854,0.912288,0.912723,0.913157,0.913591,0.914025,0.914459,0.914894,0.915328,0.915762,0.91663,0.917065,0.917499,0.918367,0.921407,0.921841,0.922275,0.92271,0.923144,0.923578,0.924012,0.924446,0.924881,0.925315,0.925749,0.926183,0.926617,0.927052,0.927486,0.92792,0.928789,0.929223,0.929657,0.930091,0.93096,0.931394,0.931828,0.932262,0.932696,0.933131,0.933565,0.933999,0.934433,0.934868,0.935302,0.935736,0.93617,0.936604,0.937039,0.937473,0.937907,0.938341,0.938776,0.93921,0.939644,0.940078,0.940512,0.940947,0.941381,0.941815,0.942249,0.942683,0.943118,0.943552,0.943986,0.944855,0.945289,0.945723,0.946157,0.947026,0.94746,0.947894,0.948328,0.948762,0.949197,0.949631,0.950065,0.950934,0.951368,0.951802,0.952236,0.95267,0.953105,0.953539,0.960052,0.960486,0.960921,0.961355,0.961789,0.962223,0.962657,0.963092,0.963526,0.96396,0.964394,0.964828,0.965263,0.965697,0.966131,0.966565,0.967,0.967434,0.967868,0.968302,0.968736,0.969171,0.969605,0.970039,0.970473,0.970908,0.971342,0.971776,0.97221,0.972644,0.973079,0.973513,0.973947,0.974381,0.974815,0.97525,0.975684,0.976118,0.976552,0.976987,0.977421,0.977855,0.978289,0.978723,0.979158,0.979592,0.980026,0.98046,0.980894,0.981329,0.981763,0.982197,0.982631,0.983066,0.9835,0.983934,0.984368,0.984802,0.985237,0.985671,0.986105,0.986539,0.986974,0.987408,0.987842,0.988276,0.98871,0.989145,0.989579,0.990013,0.990447,0.990881,0.991316,0.99175,0.992184,0.992618,0.993053,0.993487,0.993921,0.994355,0.993921,0.994355,0.994789,0.995224,0.994789,0.994355,0.993921,0.994355,0.994789,0.994355,0.993921,0.993487,0.993053,0.992618,0.993053,0.992618,0.992184,0.99175,0.991316,0.990881,0.990447,0.990013,0.990447,0.990013,0.989579,0.989145,0.989579,0.989145,0.98871,0.988276,0.987842,0.987408,0.986974,0.986539,0.986105,0.986539,0.986105,0.985671,0.985237,0.984802,0.984368,0.983934,0.9835,0.983934,0.9835,0.983066,0.982631,0.982197,0.981763,0.981329,0.980894,0.98046,0.980026,0.979592,0.979158,0.978723,0.978289,0.977855,0.977421,0.976987,0.976552,0.976118,0.975684,0.97525,0.974815,0.974381,0.973947,0.973513,0.973079,0.972644,0.97221,0.971776,0.971342,0.970908,0.970473,0.969605,0.969171,0.968736,0.968302,0.967868,0.967434,0.967,0.966565,0.966131,0.965697,0.965263,0.964828,0.964394,0.96396,0.962657,0.962223,0.961789,0.961355,0.960921,0.960486,0.959618,0.959184,0.958749,0.957881,0.957447,0.957013,0.956578,0.955276,0.954842,0.954407,0.953973,0.952236,0.951802,0.951368,0.950499,0.949197,0.948762,0.948328,0.947894,0.94746,0.946591,0.945289,0.944855,0.94442,0.943986,0.943552,0.943118,0.942249,0.941815,0.941381,0.940512,0.937907,0.937473,0.937039,0.936604,0.93617,0.935736,0.935302,0.934868,0.933999,0.932696,0.93096,0.930525,0.930091,0.929657,0.929223,0.927486,0.926183,0.925749,0.925315,0.924446,0.923144,0.92271,0.920973,0.920538,0.913591,0.913157,0.912723,0.912288,0.91142],\n",
       "type: 'scatter',\n",
       "mode: 'lines',\n",
       "line: {\n",
       "  dash: 'solid',\n",
       "  width: 1\n",
       "},\n",
       "name: '1 vs others',\n",
       "},\n",
       "{\n",
       "x: [-0.1,0,0.000499787,0.000599491,0.000616238,0.000632539,0.000637843,0.000646533,0.000657441,0.000662712,0.000666529,0.000666573,0.000679962,0.000692916,0.000693233,0.000693345,0.000695529,0.000699645,0.000707019,0.000708028,0.000711732,0.000711758,0.000711886,0.0007148,0.000720362,0.000720435,0.000720698,0.000723925,0.000726692,0.000727266,0.000727467,0.000734812,0.000735352,0.000737928,0.000740964,0.000742568,0.000743944,0.000744076,0.000745803,0.000746363,0.000749918,0.000751018,0.000751954,0.00075721,0.000758932,0.000759399,0.000762003,0.00076704,0.000767091,0.000768056,0.000768182,0.000768235,0.000768242,0.000770501,0.000775967,0.000776301,0.000777024,0.000778696,0.000778904,0.00077923,0.000781492,0.000781663,0.000785165,0.000785211,0.000786671,0.000788743,0.000791872,0.000796104,0.000797134,0.000809366,0.000812849,0.000813006,0.000813077,0.000813149,0.000813723,0.000815574,0.000816026,0.000816257,0.000821922,0.000822928,0.000827395,0.000831221,0.00083153,0.000835606,0.000836363,0.000840123,0.00084263,0.000843999,0.000858168,0.000859381,0.000863957,0.000868229,0.000871855,0.000872913,0.000873739,0.000873813,0.00087806,0.000878645,0.000878679,0.000881514,0.000883421,0.000888464,0.000896736,0.000898315,0.000899606,0.000909553,0.000909759,0.000912563,0.000916358,0.000917344,0.000918471,0.000935668,0.000938817,0.000940496,0.000944917,0.00094537,0.000946553,0.000949035,0.000952648,0.000973168,0.000977402,0.000980985,0.000991168,0.000991582,0.000995398,0.000996421,0.000999978,0.00100444,0.00100571,0.00101954,0.00102621,0.00103257,0.00103501,0.00103515,0.00103741,0.00104702,0.00104781,0.00106043,0.00106838,0.00107521,0.00107912,0.00108083,0.00108835,0.00109241,0.00109401,0.00109648,0.00110105,0.00111288,0.001121,0.00112204,0.00112218,0.0011267,0.00113268,0.00113778,0.00114705,0.00116609,0.00118481,0.00118768,0.00119836,0.00120088,0.00120598,0.00122733,0.00122766,0.00123028,0.00123125,0.00125748,0.00127746,0.00129203,0.00129519,0.00129561,0.00129876,0.00130097,0.00130611,0.00132649,0.00133159,0.00133252,0.00133503,0.00133715,0.0013437,0.00134628,0.0013589,0.00137627,0.00137728,0.00137859,0.00138316,0.00139578,0.00139667,0.00141126,0.00141504,0.00141862,0.00142698,0.00142912,0.00143788,0.00144021,0.00144282,0.00147898,0.00148448,0.00148787,0.00150114,0.00150301,0.00153197,0.00153322,0.00153324,0.00153783,0.00153955,0.00154432,0.00155107,0.00157142,0.00157296,0.00158475,0.00160652,0.00162211,0.00162494,0.00162804,0.00163232,0.00166495,0.00169526,0.00174002,0.00174508,0.00174766,0.00175341,0.00177285,0.0018,0.00182649,0.00182938,0.00184332,0.00184363,0.00185815,0.00187052,0.00187636,0.00189336,0.00190333,0.00190791,0.00193923,0.00195727,0.00195967,0.00196541,0.00197438,0.00197503,0.00197937,0.00198128,0.00199494,0.00199646,0.00202115,0.00205095,0.0020948,0.00210584,0.00210646,0.00211956,0.00212664,0.00214553,0.00217019,0.00219893,0.00220898,0.00225784,0.00227209,0.00231098,0.00232185,0.00235861,0.00237884,0.00239971,0.00240798,0.00245256,0.00247115,0.00247788,0.00249593,0.00249594,0.00254866,0.00255227,0.0025575,0.002687,0.00271567,0.00273121,0.00276091,0.00282281,0.00283169,0.0028511,0.0028647,0.00288298,0.00289949,0.00292966,0.0029418,0.00295899,0.00298312,0.00301308,0.00302078,0.00304432,0.00305261,0.00307803,0.00309377,0.00310309,0.00311896,0.00312489,0.00320613,0.00322383,0.00331998,0.00332202,0.00332403,0.00351569,0.00355699,0.0035656,0.00360632,0.00369161,0.00369891,0.0037099,0.00377977,0.00378941,0.00391997,0.00401472,0.00418588,0.00426937,0.0043319,0.00434255,0.00441865,0.00459725,0.00484902,0.0050974,0.0052942,0.0054321,0.00557053,0.00558715,0.00593159,0.00594371,0.00614051,0.0061417,0.00615314,0.00674029,0.00714976,0.0076635,0.00835019,0.00941053,0.00978395,0.0102159,0.0104211,0.0109179,0.0117361,0.0122183,0.0123947,0.0142657,0.0157607,0.019861,0.0221959,0.0227515,0.0229729,0.0251753,0.0253387,0.0265888,0.0294759,0.0297241,0.0368591,0.0376135,0.0396373,0.040658,0.0534231,0.0535683,0.0621677,0.0698336,0.091548,0.105187,0.122728,0.140958,0.14509,0.155971,0.16707,0.188715,0.191015,0.208717,0.22715,0.236274,0.264312,0.26732,0.279301,0.290204,0.292836,0.3169,0.35915,0.410193,0.416664,0.463491,0.464661,0.474451,0.521841,0.534725,0.543325,0.653543,0.682087,0.708305,0.760688,0.762194,0.774295,0.78162,0.815813,0.850744,0.85574,0.864028,0.872567,0.877614,0.903344,0.916397,0.924303,0.931243,0.932883,0.938088,0.942396,0.946253,0.946263,0.949333,0.950246,0.954116,0.956173,0.957109,0.958895,0.96161,0.965535,0.970156,0.973052,0.974919,0.975591,0.979008,0.980511,0.985696,0.98631,0.986521,0.986734,0.987556,0.987561,0.987848,0.988389,0.988981,0.990414,0.99204,0.992669,0.993457,0.99381,0.994502,0.99475,0.994777,0.996136,0.996256,0.996515,0.996633,0.996894,0.996917,0.997582,0.997661,1.09766],\n",
       "y: [0.0303951,0.0303951,0.0308294,0.0312636,0.0316978,0.0325662,0.0351715,0.0360399,0.0429874,0.0434216,0.0438558,0.0442901,0.0447243,0.0451585,0.0468954,0.0473296,0.0477638,0.048198,0.647851,0.651324,0.651759,0.652627,0.653061,0.654364,0.654798,0.655232,0.656101,0.656535,0.662614,0.663482,0.663917,0.665219,0.665653,0.666956,0.66739,0.668259,0.668693,0.67564,0.676943,0.67868,0.679114,0.679548,0.681285,0.681719,0.682154,0.682588,0.683022,0.683456,0.683891,0.684325,0.685627,0.686062,0.686496,0.687364,0.690404,0.691706,0.693443,0.694746,0.695614,0.696049,0.696483,0.697351,0.697785,0.698654,0.699088,0.699522,0.700391,0.700825,0.701259,0.701693,0.709075,0.709509,0.709944,0.710378,0.805905,0.80634,0.806774,0.807208,0.809813,0.812419,0.812853,0.813287,0.814155,0.81459,0.815892,0.816327,0.816761,0.817195,0.817629,0.818063,0.818498,0.818932,0.819366,0.8198,0.820234,0.820669,0.821103,0.821537,0.821971,0.822406,0.82284,0.823274,0.823708,0.824142,0.824577,0.825011,0.825445,0.825879,0.826314,0.827616,0.82805,0.828485,0.828919,0.829353,0.844116,0.844551,0.846287,0.846722,0.847156,0.84759,0.848024,0.848459,0.848893,0.849761,0.850195,0.851064,0.851498,0.851932,0.852366,0.852801,0.853235,0.853669,0.854103,0.856709,0.857143,0.857577,0.858011,0.85888,0.859314,0.860617,0.861051,0.861485,0.863222,0.863656,0.86409,0.864525,0.864959,0.865393,0.865827,0.866261,0.866696,0.86713,0.867564,0.869301,0.869735,0.871038,0.871472,0.874946,0.87538,0.875814,0.876248,0.887538,0.887972,0.888406,0.888841,0.889275,0.889709,0.890143,0.890578,0.891012,0.891446,0.89188,0.892314,0.893183,0.893617,0.894051,0.894485,0.89492,0.895354,0.897525,0.897959,0.898393,0.898828,0.899262,0.90013,0.904038,0.904472,0.905341,0.906209,0.906644,0.907078,0.907512,0.907946,0.90838,0.908815,0.909249,0.909683,0.910117,0.910551,0.910986,0.91142,0.911854,0.912288,0.912723,0.913157,0.913591,0.914025,0.914459,0.914894,0.916196,0.91663,0.917065,0.917499,0.917933,0.918367,0.918802,0.919236,0.91967,0.920104,0.920538,0.920973,0.921407,0.921841,0.925749,0.926183,0.926617,0.927052,0.927486,0.92792,0.928354,0.928789,0.929223,0.929657,0.930091,0.930525,0.93096,0.931394,0.931828,0.932262,0.933999,0.934868,0.935302,0.937039,0.938341,0.938776,0.93921,0.940078,0.940512,0.940947,0.941381,0.941815,0.942683,0.943118,0.943552,0.943986,0.94442,0.944855,0.945289,0.944855,0.945289,0.946157,0.947026,0.947894,0.948328,0.948762,0.949631,0.950065,0.950499,0.950934,0.951368,0.951802,0.952236,0.95267,0.953105,0.953539,0.953973,0.954407,0.954842,0.955276,0.95571,0.956144,0.956578,0.957447,0.957881,0.958749,0.959184,0.959618,0.960052,0.960486,0.960921,0.961355,0.961789,0.962223,0.962657,0.963092,0.963526,0.96396,0.964394,0.964828,0.965263,0.965697,0.966131,0.966565,0.967,0.967434,0.967868,0.968302,0.968736,0.969171,0.969605,0.970039,0.970473,0.970908,0.971342,0.971776,0.97221,0.972644,0.973079,0.973513,0.973947,0.973513,0.973947,0.974381,0.974815,0.97525,0.975684,0.976118,0.976552,0.976987,0.977421,0.977855,0.978289,0.978723,0.979158,0.979592,0.980026,0.98046,0.980894,0.981329,0.981763,0.982197,0.981763,0.982197,0.982631,0.983066,0.9835,0.983934,0.984368,0.984802,0.985237,0.985671,0.986105,0.986539,0.986974,0.986539,0.986974,0.987408,0.987842,0.987408,0.987842,0.987408,0.987842,0.988276,0.98871,0.988276,0.987842,0.988276,0.987842,0.988276,0.98871,0.988276,0.98871,0.988276,0.987842,0.988276,0.98871,0.989145,0.98871,0.989145,0.989579,0.990013,0.990447,0.990881,0.990447,0.990013,0.989579,0.990013,0.989579,0.989145,0.98871,0.988276,0.987842,0.987408,0.986974,0.986539,0.986105,0.985671,0.985237,0.984802,0.984368,0.983934,0.9835,0.983066,0.982631,0.983066,0.982631,0.982197,0.982631,0.983066,0.982631,0.982197,0.982631,0.982197,0.981763,0.981329,0.980894,0.98046,0.980026,0.979592,0.979158,0.978723,0.978289,0.977855,0.977421,0.976987,0.976552,0.976118,0.975684,0.97525,0.974815,0.974381,0.973947,0.973513,0.973079,0.972644,0.97221,0.971776,0.971342,0.970908,0.971342,0.970908,0.970473,0.970039,0.969605,0.970039,0.969605],\n",
       "type: 'scatter',\n",
       "mode: 'lines',\n",
       "line: {\n",
       "  dash: 'solid',\n",
       "  width: 1\n",
       "},\n",
       "name: '2 vs others',\n",
       "},\n",
       "],\n",
       "    {\n",
       "      width: 500,\n",
       "      height: 400,\n",
       "      title: 'Threshold / Accuracy',\n",
       "      showlegend: true,\n",
       "      xaxis: {\n",
       "        ticks: 'outside',\n",
       "        showgrid: true,\n",
       "        zeroline: false,\n",
       "        showline: true,\n",
       "        title: 'Threshold',\n",
       "        },\n",
       "      font: {\n",
       "        size: 10,\n",
       "        },\n",
       "      yaxis: {\n",
       "        ticks: 'outside',\n",
       "        showgrid: true,\n",
       "        zeroline: false,\n",
       "        showline: true,\n",
       "        title: 'Accuracy',\n",
       "        },\n",
       "      margin: {\n",
       "        l: 50,\n",
       "        r: 50,\n",
       "        b: 50,\n",
       "        t: 50,\n",
       "      },\n",
       "    },\n",
       "    {\n",
       "      modeBarButtonsToRemove: ['sendDataToCloud'],\n",
       "      displaylogo: false,displayModeBar: false,\n",
       "    }\n",
       "  );\n",
       "</script>\n",
       "</div></div>      </div>\n",
       "    </div>\n",
       "  </div>\n",
       "</div>\n"
      ],
      "text/plain": [
       "Evaluation()"
      ]
     },
     "execution_count": 113,
     "metadata": {},
     "output_type": "execute_result"
    }
   ],
   "source": [
    "model.evaluate(test_df)"
   ]
  },
  {
   "cell_type": "code",
   "execution_count": 116,
   "metadata": {},
   "outputs": [],
   "source": [
    "model.analyze(test_df).to_file(\"analysis.html\")"
   ]
  },
  {
   "cell_type": "markdown",
   "metadata": {},
   "source": [
    "### **Yggdrasil Decision Forests (YDF) offered the best accuracy with very minimal preprocessing and that will be used for modular coding**"
   ]
  }
 ],
 "metadata": {
  "kernelspec": {
   "display_name": "Python 3.9.13 ('base')",
   "language": "python",
   "name": "python3"
  },
  "language_info": {
   "codemirror_mode": {
    "name": "ipython",
    "version": 3
   },
   "file_extension": ".py",
   "mimetype": "text/x-python",
   "name": "python",
   "nbconvert_exporter": "python",
   "pygments_lexer": "ipython3",
   "version": "3.10.0"
  },
  "orig_nbformat": 4,
  "vscode": {
   "interpreter": {
    "hash": "ba7d6a92d9c7295bfdcfceb88786d0d9300abf0a1802f116b1f16ab64cdf39a0"
   }
  }
 },
 "nbformat": 4,
 "nbformat_minor": 2
}
