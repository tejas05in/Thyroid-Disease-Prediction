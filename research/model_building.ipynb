{
 "cells": [
  {
   "cell_type": "code",
   "execution_count": 55,
   "metadata": {},
   "outputs": [],
   "source": [
    "import pandas as pd\n",
    "import numpy as np\n",
    "import warnings\n",
    "warnings.filterwarnings(\"ignore\")\n",
    "from sklearn.experimental import enable_iterative_imputer\n",
    "from sklearn.impute import IterativeImputer ,SimpleImputer\n",
    "from scipy.stats import zscore\n",
    "from imblearn.combine import SMOTETomek\n",
    "from sklearn.compose import ColumnTransformer\n",
    "from imblearn.combine import SMOTETomek\n",
    "from sklearn.model_selection import train_test_split\n",
    "from sklearn.pipeline import Pipeline\n",
    "from sklearn.preprocessing import StandardScaler , OneHotEncoder\n",
    "from xgboost import XGBClassifier\n",
    "from sklearn.metrics import classification_report ,accuracy_score\n",
    "from sklearn.ensemble import RandomForestClassifier\n",
    "# from sklearn.ensemble import ExtraTreesRegressor"
   ]
  },
  {
   "cell_type": "code",
   "execution_count": 29,
   "metadata": {},
   "outputs": [
    {
     "data": {
      "text/html": [
       "<div>\n",
       "<style scoped>\n",
       "    .dataframe tbody tr th:only-of-type {\n",
       "        vertical-align: middle;\n",
       "    }\n",
       "\n",
       "    .dataframe tbody tr th {\n",
       "        vertical-align: top;\n",
       "    }\n",
       "\n",
       "    .dataframe thead th {\n",
       "        text-align: right;\n",
       "    }\n",
       "</style>\n",
       "<table border=\"1\" class=\"dataframe\">\n",
       "  <thead>\n",
       "    <tr style=\"text-align: right;\">\n",
       "      <th></th>\n",
       "      <th>age</th>\n",
       "      <th>sex</th>\n",
       "      <th>on_thyroxine</th>\n",
       "      <th>query_on_thyroxine</th>\n",
       "      <th>on_antihyroid_meds</th>\n",
       "      <th>sick</th>\n",
       "      <th>pregnant</th>\n",
       "      <th>thyroid_surgery</th>\n",
       "      <th>I131_treatment</th>\n",
       "      <th>query_hypothyroid</th>\n",
       "      <th>...</th>\n",
       "      <th>TT4_measured</th>\n",
       "      <th>TT4</th>\n",
       "      <th>T4U_measured</th>\n",
       "      <th>T4U</th>\n",
       "      <th>FTI_measured</th>\n",
       "      <th>FTI</th>\n",
       "      <th>TBG_measured</th>\n",
       "      <th>TBG</th>\n",
       "      <th>referral_source</th>\n",
       "      <th>target</th>\n",
       "    </tr>\n",
       "  </thead>\n",
       "  <tbody>\n",
       "    <tr>\n",
       "      <th>0</th>\n",
       "      <td>29</td>\n",
       "      <td>F</td>\n",
       "      <td>f</td>\n",
       "      <td>f</td>\n",
       "      <td>f</td>\n",
       "      <td>f</td>\n",
       "      <td>f</td>\n",
       "      <td>f</td>\n",
       "      <td>f</td>\n",
       "      <td>t</td>\n",
       "      <td>...</td>\n",
       "      <td>f</td>\n",
       "      <td>?</td>\n",
       "      <td>f</td>\n",
       "      <td>?</td>\n",
       "      <td>f</td>\n",
       "      <td>?</td>\n",
       "      <td>f</td>\n",
       "      <td>?</td>\n",
       "      <td>other</td>\n",
       "      <td>-[840801013]</td>\n",
       "    </tr>\n",
       "    <tr>\n",
       "      <th>1</th>\n",
       "      <td>29</td>\n",
       "      <td>F</td>\n",
       "      <td>f</td>\n",
       "      <td>f</td>\n",
       "      <td>f</td>\n",
       "      <td>f</td>\n",
       "      <td>f</td>\n",
       "      <td>f</td>\n",
       "      <td>f</td>\n",
       "      <td>f</td>\n",
       "      <td>...</td>\n",
       "      <td>t</td>\n",
       "      <td>128</td>\n",
       "      <td>f</td>\n",
       "      <td>?</td>\n",
       "      <td>f</td>\n",
       "      <td>?</td>\n",
       "      <td>f</td>\n",
       "      <td>?</td>\n",
       "      <td>other</td>\n",
       "      <td>-[840801014]</td>\n",
       "    </tr>\n",
       "    <tr>\n",
       "      <th>2</th>\n",
       "      <td>41</td>\n",
       "      <td>F</td>\n",
       "      <td>f</td>\n",
       "      <td>f</td>\n",
       "      <td>f</td>\n",
       "      <td>f</td>\n",
       "      <td>f</td>\n",
       "      <td>f</td>\n",
       "      <td>f</td>\n",
       "      <td>f</td>\n",
       "      <td>...</td>\n",
       "      <td>f</td>\n",
       "      <td>?</td>\n",
       "      <td>f</td>\n",
       "      <td>?</td>\n",
       "      <td>f</td>\n",
       "      <td>?</td>\n",
       "      <td>t</td>\n",
       "      <td>11</td>\n",
       "      <td>other</td>\n",
       "      <td>-[840801042]</td>\n",
       "    </tr>\n",
       "    <tr>\n",
       "      <th>3</th>\n",
       "      <td>36</td>\n",
       "      <td>F</td>\n",
       "      <td>f</td>\n",
       "      <td>f</td>\n",
       "      <td>f</td>\n",
       "      <td>f</td>\n",
       "      <td>f</td>\n",
       "      <td>f</td>\n",
       "      <td>f</td>\n",
       "      <td>f</td>\n",
       "      <td>...</td>\n",
       "      <td>f</td>\n",
       "      <td>?</td>\n",
       "      <td>f</td>\n",
       "      <td>?</td>\n",
       "      <td>f</td>\n",
       "      <td>?</td>\n",
       "      <td>t</td>\n",
       "      <td>26</td>\n",
       "      <td>other</td>\n",
       "      <td>-[840803046]</td>\n",
       "    </tr>\n",
       "    <tr>\n",
       "      <th>4</th>\n",
       "      <td>32</td>\n",
       "      <td>F</td>\n",
       "      <td>f</td>\n",
       "      <td>f</td>\n",
       "      <td>f</td>\n",
       "      <td>f</td>\n",
       "      <td>f</td>\n",
       "      <td>f</td>\n",
       "      <td>f</td>\n",
       "      <td>f</td>\n",
       "      <td>...</td>\n",
       "      <td>f</td>\n",
       "      <td>?</td>\n",
       "      <td>f</td>\n",
       "      <td>?</td>\n",
       "      <td>f</td>\n",
       "      <td>?</td>\n",
       "      <td>t</td>\n",
       "      <td>36</td>\n",
       "      <td>other</td>\n",
       "      <td>S[840803047]</td>\n",
       "    </tr>\n",
       "  </tbody>\n",
       "</table>\n",
       "<p>5 rows × 30 columns</p>\n",
       "</div>"
      ],
      "text/plain": [
       "   age sex on_thyroxine query_on_thyroxine on_antihyroid_meds sick pregnant  \\\n",
       "0   29   F            f                  f                  f    f        f   \n",
       "1   29   F            f                  f                  f    f        f   \n",
       "2   41   F            f                  f                  f    f        f   \n",
       "3   36   F            f                  f                  f    f        f   \n",
       "4   32   F            f                  f                  f    f        f   \n",
       "\n",
       "  thyroid_surgery I131_treatment query_hypothyroid  ... TT4_measured  TT4  \\\n",
       "0               f              f                 t  ...            f    ?   \n",
       "1               f              f                 f  ...            t  128   \n",
       "2               f              f                 f  ...            f    ?   \n",
       "3               f              f                 f  ...            f    ?   \n",
       "4               f              f                 f  ...            f    ?   \n",
       "\n",
       "  T4U_measured T4U FTI_measured FTI TBG_measured TBG referral_source  \\\n",
       "0            f   ?            f   ?            f   ?           other   \n",
       "1            f   ?            f   ?            f   ?           other   \n",
       "2            f   ?            f   ?            t  11           other   \n",
       "3            f   ?            f   ?            t  26           other   \n",
       "4            f   ?            f   ?            t  36           other   \n",
       "\n",
       "         target  \n",
       "0  -[840801013]  \n",
       "1  -[840801014]  \n",
       "2  -[840801042]  \n",
       "3  -[840803046]  \n",
       "4  S[840803047]  \n",
       "\n",
       "[5 rows x 30 columns]"
      ]
     },
     "execution_count": 29,
     "metadata": {},
     "output_type": "execute_result"
    }
   ],
   "source": [
    "names = [\"age\",\"sex\",\"on_thyroxine\",\"query_on_thyroxine\",\"on_antihyroid_meds\",\"sick\",\"pregnant\",\"thyroid_surgery\",\"I131_treatment\",\"query_hypothyroid\",\"query hyperthyroid\",\"lithium\",\"goitre\",\"tumor\",\"hypopituitary\",\"psych\",\"TSH_measured\",\"TSH\",\"T3_measured\",\"T3\",\"TT4_measured\",\"TT4\",\"T4U_measured\",\"T4U\",\"FTI_measured\",\"FTI\",\"TBG_measured\",\"TBG\",\"referral_source\",\"target\"]\n",
    "df = pd.read_csv(\"data/thyroid0387.data\",names=names)\n",
    "df.head()"
   ]
  },
  {
   "cell_type": "code",
   "execution_count": 30,
   "metadata": {},
   "outputs": [],
   "source": [
    "# tidy the target column\n",
    "df['patient_id'] = df[\"target\"].apply(lambda x: x.split(\"[\")[1].strip(']'))\n",
    "df['target'] = df[\"target\"].apply(lambda x: x.split(\"[\")[0])"
   ]
  },
  {
   "cell_type": "code",
   "execution_count": 31,
   "metadata": {},
   "outputs": [],
   "source": [
    "# replacing ? with np.nan\n",
    "df.replace({\"?\":np.nan},inplace=True)"
   ]
  },
  {
   "cell_type": "code",
   "execution_count": 32,
   "metadata": {},
   "outputs": [],
   "source": [
    "# converting object to float\n",
    "num_cols = [\"TSH\",\"T3\",\"TT4\",\"T4U\",\"FTI\",\"TBG\"]\n",
    "for i in num_cols:\n",
    "    df[i] = df[i].astype(float)"
   ]
  },
  {
   "cell_type": "code",
   "execution_count": 33,
   "metadata": {},
   "outputs": [],
   "source": [
    "# age cannot be 65526 \n",
    "# capping age to 100 years\n",
    "df = df[df[\"age\"] <= 100]"
   ]
  },
  {
   "cell_type": "code",
   "execution_count": 34,
   "metadata": {},
   "outputs": [],
   "source": [
    "# Remove reduntant columns\n",
    "df.drop(['TSH_measured','T3_measured','TT4_measured','T4U_measured','FTI_measured','TBG_measured','referral_source','patient_id',\"TBG\"],axis=1, inplace=True)"
   ]
  },
  {
   "cell_type": "code",
   "execution_count": 35,
   "metadata": {},
   "outputs": [],
   "source": [
    "# Selecting a subset of target which can be classified as Hyper , hypo or Euthyroid (Negative) state\n",
    "df = df[df['target'].isin(['A', 'B', 'C', 'D', 'E', 'F', 'G', 'H', 'AK', 'C|I', 'H|K', 'GK', 'FK', 'GI', 'GKJ', 'D|R', '-'])]\n",
    "# mapping the target column\n",
    "mapping = {'-':\"Negative\",\n",
    "           'A':'Hyperthyroid','AK':\"Hyperthyroid\",'B':\"Hyperthyroid\", 'C':\"Hyperthyroid\", 'C|I': 'Hyperthyroid', 'D':\"Hyperthyroid\", 'D|R':\"Hyperthyroid\",\n",
    "           'E': \"Hypothyroid\", 'F': \"Hypothyroid\", 'FK': \"Hypothyroid\", \"G\": \"Hypothyroid\", \"GK\": \"Hypothyroid\", \"GI\": \"Hypothyroid\", 'GKJ': 'Hypothyroid', 'H|K': 'Hypothyroid',\n",
    "          }\n",
    "df['target'] = df['target'].map(mapping)"
   ]
  },
  {
   "cell_type": "code",
   "execution_count": 36,
   "metadata": {},
   "outputs": [],
   "source": [
    "# impute some missing values of sex (total = 254 missing) using pregnancy\n",
    "df[\"sex\"] = np.where((df[\"sex\"].isnull()) & (df[\"pregnant\"]==\"t\"),'F',df[\"sex\"])"
   ]
  },
  {
   "cell_type": "code",
   "execution_count": 37,
   "metadata": {},
   "outputs": [
    {
     "name": "stdout",
     "output_type": "stream",
     "text": [
      "Index(['sex', 'on_thyroxine', 'query_on_thyroxine', 'on_antihyroid_meds',\n",
      "       'sick', 'pregnant', 'thyroid_surgery', 'I131_treatment',\n",
      "       'query_hypothyroid', 'query hyperthyroid', 'lithium', 'goitre', 'tumor',\n",
      "       'hypopituitary', 'psych'],\n",
      "      dtype='object')\n",
      "Index(['age', 'TSH', 'T3', 'TT4', 'T4U', 'FTI'], dtype='object')\n"
     ]
    }
   ],
   "source": [
    "# EDA \n",
    "cat_cols = df.select_dtypes(include=\"object\").columns\n",
    "cat_cols =  cat_cols.drop(\"target\")\n",
    "num_cols = df.select_dtypes(exclude=\"object\").columns\n",
    "print(cat_cols)\n",
    "print(num_cols)"
   ]
  },
  {
   "cell_type": "markdown",
   "metadata": {},
   "source": [
    "## **Outliers are not removed as they may be important for the model**"
   ]
  },
  {
   "cell_type": "code",
   "execution_count": 38,
   "metadata": {},
   "outputs": [],
   "source": [
    "df = df.replace({\"t\":1,\"f\":0})\n"
   ]
  },
  {
   "cell_type": "code",
   "execution_count": 39,
   "metadata": {},
   "outputs": [],
   "source": [
    "# Mapping sex to 0 for female and 1 for male\n",
    "df[\"sex\"] = df[\"sex\"].map({\"F\":0,\"M\":1})"
   ]
  },
  {
   "cell_type": "code",
   "execution_count": 40,
   "metadata": {},
   "outputs": [],
   "source": [
    "df[\"target\"] = df.target.map({ 'Negative': 0, 'Hypothyroid': 1,'Hyperthyroid': 2})"
   ]
  },
  {
   "cell_type": "code",
   "execution_count": 41,
   "metadata": {},
   "outputs": [
    {
     "data": {
      "text/plain": [
       "age                      0\n",
       "sex                    252\n",
       "on_thyroxine             0\n",
       "query_on_thyroxine       0\n",
       "on_antihyroid_meds       0\n",
       "sick                     0\n",
       "pregnant                 0\n",
       "thyroid_surgery          0\n",
       "I131_treatment           0\n",
       "query_hypothyroid        0\n",
       "query hyperthyroid       0\n",
       "lithium                  0\n",
       "goitre                   0\n",
       "tumor                    0\n",
       "hypopituitary            0\n",
       "psych                    0\n",
       "TSH                    724\n",
       "T3                    2208\n",
       "TT4                    354\n",
       "T4U                    681\n",
       "FTI                    674\n",
       "target                   0\n",
       "dtype: int64"
      ]
     },
     "execution_count": 41,
     "metadata": {},
     "output_type": "execute_result"
    }
   ],
   "source": [
    "df.isnull().sum()"
   ]
  },
  {
   "cell_type": "code",
   "execution_count": 42,
   "metadata": {},
   "outputs": [],
   "source": [
    "# # imputer\n",
    "# imputer = IterativeImputer()\n",
    "# impute_df = imputer.fit_transform(df)\n",
    "# impute_df = pd.DataFrame(impute_df, index=df.index, columns=df.columns)\n",
    "# df.update(impute_df)"
   ]
  },
  {
   "cell_type": "code",
   "execution_count": 43,
   "metadata": {},
   "outputs": [],
   "source": [
    "X = df.drop(\"target\",axis=1)\n",
    "y = df[\"target\"]"
   ]
  },
  {
   "cell_type": "code",
   "execution_count": 44,
   "metadata": {},
   "outputs": [],
   "source": [
    "## Numerical Pipeline\n",
    "num_pipeline=Pipeline(\n",
    "steps=[\n",
    "    ('imputer',IterativeImputer(random_state=42)),\n",
    "    ('scaler', StandardScaler()),\n",
    "    ]\n",
    ")\n",
    "\n",
    "# Categorigal Pipeline\n",
    "cat_pipeline=Pipeline(\n",
    "steps=[\n",
    "    # ('imputer', SimpleImputer(strategy='most_frequent')),\n",
    "    ('imputer', IterativeImputer(random_state=42)),\n",
    "    # ('ordinalencoder',OneHotEncoder(drop='first',handle_unknown='ignore')),\n",
    "    # ('scaler',StandardScaler(with_mean=False))\n",
    "    ]\n",
    "\n",
    ")\n",
    "\n",
    "preprocessor=ColumnTransformer([\n",
    "    ('num_pipeline',num_pipeline,num_cols),\n",
    "    ('cat_pipeline',cat_pipeline,cat_cols)\n",
    "])"
   ]
  },
  {
   "cell_type": "code",
   "execution_count": 45,
   "metadata": {},
   "outputs": [],
   "source": [
    "X_train, X_test, y_train, y_test = train_test_split(X, y, test_size=0.2, random_state=42)"
   ]
  },
  {
   "cell_type": "code",
   "execution_count": 46,
   "metadata": {},
   "outputs": [
    {
     "data": {
      "text/plain": [
       "((6140, 21), (1535, 21), (6140,), (1535,))"
      ]
     },
     "execution_count": 46,
     "metadata": {},
     "output_type": "execute_result"
    }
   ],
   "source": [
    "X_train.shape , X_test.shape , y_train.shape , y_test.shape"
   ]
  },
  {
   "cell_type": "code",
   "execution_count": 47,
   "metadata": {},
   "outputs": [],
   "source": [
    "X_train = preprocessor.fit_transform(X_train)\n",
    "X_test = preprocessor.transform(X_test)"
   ]
  },
  {
   "cell_type": "code",
   "execution_count": 48,
   "metadata": {},
   "outputs": [
    {
     "data": {
      "text/plain": [
       "((6140, 21), (1535, 21))"
      ]
     },
     "execution_count": 48,
     "metadata": {},
     "output_type": "execute_result"
    }
   ],
   "source": [
    "X_train.shape , X_test.shape"
   ]
  },
  {
   "cell_type": "code",
   "execution_count": 49,
   "metadata": {},
   "outputs": [
    {
     "data": {
      "text/plain": [
       "target\n",
       "0    5415\n",
       "1     534\n",
       "2     191\n",
       "Name: count, dtype: int64"
      ]
     },
     "execution_count": 49,
     "metadata": {},
     "output_type": "execute_result"
    }
   ],
   "source": [
    "y_train.value_counts()"
   ]
  },
  {
   "cell_type": "code",
   "execution_count": 50,
   "metadata": {},
   "outputs": [],
   "source": [
    "resampler = SMOTETomek(random_state=42)\n",
    "X_train , y_train = resampler.fit_resample(X_train,y_train)\n",
    "X_test , y_test = resampler.fit_resample(X_test , y_test)"
   ]
  },
  {
   "cell_type": "code",
   "execution_count": 51,
   "metadata": {},
   "outputs": [
    {
     "data": {
      "text/plain": [
       "target\n",
       "2    1352\n",
       "0    1348\n",
       "1    1348\n",
       "Name: count, dtype: int64"
      ]
     },
     "execution_count": 51,
     "metadata": {},
     "output_type": "execute_result"
    }
   ],
   "source": [
    "y_test.value_counts()"
   ]
  },
  {
   "cell_type": "code",
   "execution_count": 52,
   "metadata": {},
   "outputs": [],
   "source": [
    "model = XGBClassifier(objective = \"mulit:softmax\",\n",
    "                      num_class = 3,\n",
    "                      early_stopping_rounds = 10,\n",
    "                      eval_metric = [\"merror\",\"mlogloss\"],\n",
    "                      seed = 42)\n",
    "model.fit(X_train , y_train,verbose=0 ,eval_set=[(X_test,y_test)])\n",
    "y_pred = model.predict(X_test)"
   ]
  },
  {
   "cell_type": "code",
   "execution_count": 53,
   "metadata": {},
   "outputs": [
    {
     "name": "stdout",
     "output_type": "stream",
     "text": [
      "              precision    recall  f1-score   support\n",
      "\n",
      "           0       0.96      0.96      0.96      1348\n",
      "           1       0.97      0.98      0.98      1348\n",
      "           2       0.99      0.98      0.99      1352\n",
      "\n",
      "    accuracy                           0.98      4048\n",
      "   macro avg       0.98      0.98      0.98      4048\n",
      "weighted avg       0.98      0.98      0.98      4048\n",
      "\n"
     ]
    }
   ],
   "source": [
    "print(classification_report(y_test,y_pred))"
   ]
  },
  {
   "cell_type": "code",
   "execution_count": 54,
   "metadata": {},
   "outputs": [
    {
     "name": "stdout",
     "output_type": "stream",
     "text": [
      "0.9755434782608695\n"
     ]
    }
   ],
   "source": [
    "print(accuracy_score(y_test,y_pred))"
   ]
  },
  {
   "cell_type": "code",
   "execution_count": 56,
   "metadata": {},
   "outputs": [
    {
     "name": "stdout",
     "output_type": "stream",
     "text": [
      "0.9666501976284585\n"
     ]
    }
   ],
   "source": [
    "model_1 = RandomForestClassifier(random_state=42)\n",
    "model_1.fit(X_train, y_train)\n",
    "y_pred = model_1.predict(X_test)\n",
    "print(accuracy_score(y_test, y_pred))"
   ]
  },
  {
   "cell_type": "code",
   "execution_count": null,
   "metadata": {},
   "outputs": [],
   "source": []
  }
 ],
 "metadata": {
  "kernelspec": {
   "display_name": "Python 3.9.13 ('base')",
   "language": "python",
   "name": "python3"
  },
  "language_info": {
   "codemirror_mode": {
    "name": "ipython",
    "version": 3
   },
   "file_extension": ".py",
   "mimetype": "text/x-python",
   "name": "python",
   "nbconvert_exporter": "python",
   "pygments_lexer": "ipython3",
   "version": "3.10.0"
  },
  "orig_nbformat": 4,
  "vscode": {
   "interpreter": {
    "hash": "ba7d6a92d9c7295bfdcfceb88786d0d9300abf0a1802f116b1f16ab64cdf39a0"
   }
  }
 },
 "nbformat": 4,
 "nbformat_minor": 2
}
