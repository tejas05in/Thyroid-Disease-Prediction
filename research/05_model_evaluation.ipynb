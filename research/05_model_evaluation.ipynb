{
 "cells": [
  {
   "cell_type": "code",
   "execution_count": 2,
   "metadata": {},
   "outputs": [],
   "source": [
    "import os"
   ]
  },
  {
   "cell_type": "code",
   "execution_count": 3,
   "metadata": {},
   "outputs": [
    {
     "data": {
      "text/plain": [
       "'/home/tejas/MLProj/Thyroid-Disease-Prediction/research'"
      ]
     },
     "execution_count": 3,
     "metadata": {},
     "output_type": "execute_result"
    }
   ],
   "source": [
    "%pwd"
   ]
  },
  {
   "cell_type": "code",
   "execution_count": 4,
   "metadata": {},
   "outputs": [],
   "source": [
    "os.chdir('../')"
   ]
  },
  {
   "cell_type": "code",
   "execution_count": 5,
   "metadata": {},
   "outputs": [
    {
     "data": {
      "text/plain": [
       "'/home/tejas/MLProj/Thyroid-Disease-Prediction'"
      ]
     },
     "execution_count": 5,
     "metadata": {},
     "output_type": "execute_result"
    }
   ],
   "source": [
    "%pwd"
   ]
  },
  {
   "cell_type": "code",
   "execution_count": 6,
   "metadata": {},
   "outputs": [],
   "source": [
    "os.environ[\"MLFLOW_TRACKING_URI\"] = \"https://dagshub.com/tejas05in/Thyroid-Disease-Prediction.mlflow\"\n",
    "os.environ[\"MLFLOW_TRACKING_USERNAME\"] = \"tejas05in\"\n",
    "os.environ[\"MLFLOW_TRACKING_PASSWORD\"] = \"9efcb5c7b79d0e949378459b922b1462a80fa413\""
   ]
  },
  {
   "cell_type": "code",
   "execution_count": 7,
   "metadata": {},
   "outputs": [],
   "source": [
    "from dataclasses import dataclass\n",
    "from pathlib import Path\n",
    "\n",
    "\n",
    "@dataclass(frozen=True)\n",
    "class ModelEvaluationConfig:\n",
    "    root_dir: Path\n",
    "    test_data_path: Path\n",
    "    model_path: Path\n",
    "    all_params: dict\n",
    "    metric_file_name: Path\n",
    "    target_column: str\n",
    "    mlflow_uri: str"
   ]
  },
  {
   "cell_type": "code",
   "execution_count": 8,
   "metadata": {},
   "outputs": [],
   "source": [
    "from ThyroidProject.constants import *\n",
    "from ThyroidProject.utils.common import read_yaml , create_directories"
   ]
  },
  {
   "cell_type": "code",
   "execution_count": 9,
   "metadata": {},
   "outputs": [],
   "source": [
    "class ConfigurationManager:\n",
    "    def __init__(self,\n",
    "                 config_filepath=CONFIG_FILE_PATH,\n",
    "                 params_filepath=PARAMS_FILE_PATH,\n",
    "                 schema_filepath=SCHEMA_FILE_PATH):\n",
    "\n",
    "        self.config = read_yaml(config_filepath)\n",
    "        self.params = read_yaml(params_filepath)\n",
    "        self.schema = read_yaml(schema_filepath)\n",
    "\n",
    "        create_directories([self.config.artifacts_root])\n",
    "\n",
    "    def get_model_evaluation_config(self) -> ModelEvaluationConfig:\n",
    "        \"\"\"\n",
    "        This function returns the ModelEvaluationConfig object that contains all the configuration parameters required for model evaluation.\n",
    "\n",
    "        Args:\n",
    "            None\n",
    "\n",
    "        Returns:\n",
    "            ModelEvaluationConfig: The ModelEvaluationConfig object containing all the configuration parameters\n",
    "\n",
    "        \"\"\"\n",
    "        config = self.config.model_evaluation\n",
    "        params = self.params.GradientBoostedTreesLearner\n",
    "        schema = self.schema.TARGET_COLUMN\n",
    "\n",
    "        create_directories([config.root_dir])\n",
    "\n",
    "        model_evaluation_config = ModelEvaluationConfig(\n",
    "            root_dir=config.root_dir,\n",
    "            test_data_path=config.test_data_path,\n",
    "            model_path=config.model_path,\n",
    "            all_params=params,\n",
    "            metric_file_name=config.metric_file_name,\n",
    "            target_column=schema.name,\n",
    "            mlflow_uri=\"https://dagshub.com/tejas05in/Thyroid-Disease-Prediction.mlflow\"\n",
    "        )\n",
    "\n",
    "        return model_evaluation_config"
   ]
  },
  {
   "cell_type": "code",
   "execution_count": 24,
   "metadata": {},
   "outputs": [],
   "source": [
    "import os\n",
    "import pandas as pd\n",
    "from urllib.parse import urlparse\n",
    "import mlflow\n",
    "import numpy as np\n",
    "import tensorflow as tf\n",
    "import tensorflow_decision_forests as tfdf\n",
    "from ThyroidProject.utils.common import save_json\n",
    "from mlflow.data.pandas_dataset import PandasDataset"
   ]
  },
  {
   "cell_type": "code",
   "execution_count": 25,
   "metadata": {},
   "outputs": [],
   "source": [
    "class ModelEvaluation:\n",
    "    def __init__(self, config: ModelEvaluationConfig):\n",
    "        self.config = config\n",
    "    \n",
    "\n",
    "    def log_into_mlflow(self):\n",
    "        \"\"\"\n",
    "        This function logs the metrics and model into mlflow.\n",
    "\n",
    "        Args:\n",
    "            None\n",
    "\n",
    "        Returns:\n",
    "            None\n",
    "\n",
    "        \"\"\"\n",
    "        mlflow.tensorflow.autolog()\n",
    "\n",
    "        # Load the test data\n",
    "        test_data = pd.read_csv(self.config.test_data_path)\n",
    "\n",
    "        # Convert the pandas dataframe to a tf.data.Dataset\n",
    "        test_ds = tfdf.keras.pd_dataframe_to_tf_dataset(\n",
    "            test_data, label=self.config.target_column)\n",
    "\n",
    "        # Load the model\n",
    "        model = tf.keras.models.load_model(self.config.model_path)\n",
    "\n",
    "        # Compile the model\n",
    "        model.compile(metrics=[\"accuracy\"])\n",
    "\n",
    "        # Evaluate the model on the test data\n",
    "        evaluation = model.evaluate(test_ds, return_dict=True)\n",
    "        \n",
    "        # Save the metrics as a local file\n",
    "        # scores = {\"accuray\": evaluation[\"accuracy\"], \"loss\": evaluation[\"loss\"]}\n",
    "        save_json(path=Path(self.config.metric_file_name), data=evaluation)\n",
    "\n",
    "        # Set the mlflow tracking uri\n",
    "        mlflow.set_registry_uri(self.config.mlflow_uri)\n",
    "\n",
    "        # Get the type of the tracking uri\n",
    "        tracking_uri_type_store = urlparse(mlflow.get_tracking_uri()).scheme\n",
    "        \n",
    "        dataset: PandasDataset = mlflow.data.from_pandas(\n",
    "            test_data)\n",
    "        \n",
    "        # Start a mlflow run\n",
    "        with mlflow.start_run():\n",
    "            \n",
    "            #log data\n",
    "            mlflow.log_input(dataset, context=\"testing\")\n",
    "\n",
    "            # Log the parameters\n",
    "            mlflow.log_params(self.config.all_params)\n",
    "\n",
    "            # Log the metrics\n",
    "            mlflow.log_metric(\"loss\", evaluation[\"loss\"])\n",
    "            mlflow.log_metric(\"accuray\", evaluation[\"accuracy\"])\n",
    "\n",
    "            # Register the model\n",
    "            # There are other ways to use the model registry , which depends on the use case\n",
    "            # Please refer to the documentation for more information\n",
    "            # https://mlflow.org/docs/latest/model-registry.html #api-workflow\n",
    "            if tracking_uri_type_store != 'file':\n",
    "                mlflow.tensorflow.log_model(\n",
    "                    model, 'model', registered_model_name=\"GradientBoostedTreesModel\", conda_env=\"conda.yaml\")\n",
    "            else:\n",
    "                mlflow.tensorflow.log_model(model, 'model')"
   ]
  },
  {
   "cell_type": "code",
   "execution_count": 26,
   "metadata": {},
   "outputs": [
    {
     "name": "stdout",
     "output_type": "stream",
     "text": [
      "[2024-01-27 21:01:29,164:INFO:common:yaml file: config/config.yaml loaded successfully]\n",
      "[2024-01-27 21:01:29,165:INFO:common:yaml file: params.yaml loaded successfully]\n",
      "[2024-01-27 21:01:29,166:INFO:common:yaml file: schema.yaml loaded successfully]\n",
      "[2024-01-27 21:01:29,167:INFO:common:created directory at :artifacts]\n",
      "[2024-01-27 21:01:29,167:INFO:common:created directory at :artifacts/model_evaluation]\n",
      "Warning: Some of the feature names have been changed automatically to be compatible with SavedModels because fix_feature_names=True.\n",
      "[2024-01-27 21:01:29,172:WARNING:tf_logging:Some of the feature names have been changed automatically to be compatible with SavedModels because fix_feature_names=True.]\n"
     ]
    },
    {
     "name": "stderr",
     "output_type": "stream",
     "text": [
      "[INFO 24-01-27 21:01:29.4168 IST kernel.cc:1233] Loading model from path artifacts/model_trainer/model/assets/ with prefix 30989f3147be440e\n",
      "[INFO 24-01-27 21:01:29.4215 IST decision_forest.cc:660] Model loaded with 111 root(s), 4117 node(s), and 14 input feature(s).\n",
      "[INFO 24-01-27 21:01:29.4215 IST abstract_model.cc:1344] Engine \"GradientBoostedTreesGeneric\" built\n",
      "[INFO 24-01-27 21:01:29.4215 IST kernel.cc:1061] Use fast generic engine\n"
     ]
    },
    {
     "name": "stdout",
     "output_type": "stream",
     "text": [
      "2/2 [==============================] - 0s 9ms/step - loss: 0.0000e+00 - accuracy: 0.9865\n"
     ]
    },
    {
     "name": "stderr",
     "output_type": "stream",
     "text": [
      "/home/tejas/MLProj/Thyroid-Disease-Prediction/env/lib/python3.11/site-packages/mlflow/data/digest_utils.py:29: FutureWarning: DataFrame.applymap has been deprecated. Use DataFrame.map instead.\n",
      "  string_columns = trimmed_df.columns[(df.applymap(type) == str).all(0)]\n"
     ]
    },
    {
     "name": "stdout",
     "output_type": "stream",
     "text": [
      "[2024-01-27 21:03:29,796:DEBUG:retry:Incremented Retry for (url='/tejas05in/Thyroid-Disease-Prediction.mlflow/api/2.0/mlflow/runs/create'): Retry(total=4, connect=5, read=4, redirect=5, status=5)]\n",
      "[2024-01-27 21:03:29,799:WARNING:connectionpool:Retrying (Retry(total=4, connect=5, read=4, redirect=5, status=5)) after connection broken by 'ReadTimeoutError(\"HTTPSConnectionPool(host='dagshub.com', port=443): Read timed out. (read timeout=120)\")': /tejas05in/Thyroid-Disease-Prediction.mlflow/api/2.0/mlflow/runs/create]\n",
      "[2024-01-27 21:03:29,801:DEBUG:connectionpool:Starting new HTTPS connection (4): dagshub.com:443]\n",
      "[2024-01-27 21:03:30,440:DEBUG:connectionpool:https://dagshub.com:443 \"POST /tejas05in/Thyroid-Disease-Prediction.mlflow/api/2.0/mlflow/runs/create HTTP/1.1\" 200 None]\n",
      "[2024-01-27 21:03:30,443:INFO:common:json file saved at:artifacts/model_evaluation/metrics.json]\n"
     ]
    },
    {
     "name": "stderr",
     "output_type": "stream",
     "text": [
      "/home/tejas/MLProj/Thyroid-Disease-Prediction/env/lib/python3.11/site-packages/mlflow/types/utils.py:393: UserWarning: Hint: Inferred schema contains integer column(s). Integer columns in Python cannot represent missing values. If your input data contains missing values at inference time, it will be encoded as floats and will cause a schema enforcement error. The best way to avoid this problem is to infer the model schema based on a realistic data sample (training dataset) that includes missing values. Alternatively, you can declare integer columns as doubles (float64) whenever these columns may have missing values. See `Handling Integers With Missing Values <https://www.mlflow.org/docs/latest/models.html#handling-integers-with-missing-values>`_ for more details.\n",
      "  warnings.warn(\n"
     ]
    },
    {
     "name": "stdout",
     "output_type": "stream",
     "text": [
      "[2024-01-27 21:03:40,677:DEBUG:connectionpool:https://dagshub.com:443 \"POST /tejas05in/Thyroid-Disease-Prediction.mlflow/api/2.0/mlflow/runs/log-inputs HTTP/1.1\" 200 None]\n",
      "[2024-01-27 21:03:41,188:DEBUG:connectionpool:https://dagshub.com:443 \"POST /tejas05in/Thyroid-Disease-Prediction.mlflow/api/2.0/mlflow/runs/log-batch HTTP/1.1\" 200 None]\n",
      "[2024-01-27 21:03:41,597:DEBUG:connectionpool:https://dagshub.com:443 \"POST /tejas05in/Thyroid-Disease-Prediction.mlflow/api/2.0/mlflow/runs/log-metric HTTP/1.1\" 200 None]\n",
      "[2024-01-27 21:03:42,006:DEBUG:connectionpool:https://dagshub.com:443 \"POST /tejas05in/Thyroid-Disease-Prediction.mlflow/api/2.0/mlflow/runs/log-metric HTTP/1.1\" 200 None]\n"
     ]
    },
    {
     "name": "stderr",
     "output_type": "stream",
     "text": [
      "2024/01/27 21:03:42 WARNING mlflow.tensorflow: You are saving a TensorFlow Core model or Keras model without a signature. Inference with mlflow.pyfunc.spark_udf() will not work unless the model's pyfunc representation accepts pandas DataFrames as inference inputs.\n"
     ]
    },
    {
     "name": "stdout",
     "output_type": "stream",
     "text": [
      "[2024-01-27 21:03:42,438:INFO:builder_impl:Assets written to: /tmp/tmpmv74r39p/model/data/model/assets]\n",
      "[2024-01-27 21:03:42,929:DEBUG:connectionpool:https://dagshub.com:443 \"GET /tejas05in/Thyroid-Disease-Prediction.mlflow/api/2.0/mlflow/runs/get?run_uuid=0f0305a6fb454424a88bd4a456476cfd&run_id=0f0305a6fb454424a88bd4a456476cfd HTTP/1.1\" 200 None]\n",
      "[2024-01-27 21:03:43,543:DEBUG:connectionpool:https://dagshub.com:443 \"PUT /tejas05in/Thyroid-Disease-Prediction.mlflow/api/2.0/mlflow-artifacts/artifacts/dbd409d79d1546fdbfc410acf1df7960/0f0305a6fb454424a88bd4a456476cfd/artifacts/model/MLmodel HTTP/1.1\" 200 None]\n",
      "[2024-01-27 21:03:44,041:DEBUG:connectionpool:https://dagshub.com:443 \"PUT /tejas05in/Thyroid-Disease-Prediction.mlflow/api/2.0/mlflow-artifacts/artifacts/dbd409d79d1546fdbfc410acf1df7960/0f0305a6fb454424a88bd4a456476cfd/artifacts/model/conda.yaml HTTP/1.1\" 200 None]\n",
      "[2024-01-27 21:03:44,568:DEBUG:connectionpool:https://dagshub.com:443 \"PUT /tejas05in/Thyroid-Disease-Prediction.mlflow/api/2.0/mlflow-artifacts/artifacts/dbd409d79d1546fdbfc410acf1df7960/0f0305a6fb454424a88bd4a456476cfd/artifacts/model/python_env.yaml HTTP/1.1\" 200 None]\n",
      "[2024-01-27 21:03:45,080:DEBUG:connectionpool:https://dagshub.com:443 \"PUT /tejas05in/Thyroid-Disease-Prediction.mlflow/api/2.0/mlflow-artifacts/artifacts/dbd409d79d1546fdbfc410acf1df7960/0f0305a6fb454424a88bd4a456476cfd/artifacts/model/requirements.txt HTTP/1.1\" 200 None]\n",
      "[2024-01-27 21:03:45,592:DEBUG:connectionpool:https://dagshub.com:443 \"PUT /tejas05in/Thyroid-Disease-Prediction.mlflow/api/2.0/mlflow-artifacts/artifacts/dbd409d79d1546fdbfc410acf1df7960/0f0305a6fb454424a88bd4a456476cfd/artifacts/model/data/save_format.txt HTTP/1.1\" 200 None]\n",
      "[2024-01-27 21:03:46,410:DEBUG:connectionpool:https://dagshub.com:443 \"PUT /tejas05in/Thyroid-Disease-Prediction.mlflow/api/2.0/mlflow-artifacts/artifacts/dbd409d79d1546fdbfc410acf1df7960/0f0305a6fb454424a88bd4a456476cfd/artifacts/model/data/keras_module.txt HTTP/1.1\" 200 None]\n",
      "[2024-01-27 21:03:47,434:DEBUG:connectionpool:https://dagshub.com:443 \"PUT /tejas05in/Thyroid-Disease-Prediction.mlflow/api/2.0/mlflow-artifacts/artifacts/dbd409d79d1546fdbfc410acf1df7960/0f0305a6fb454424a88bd4a456476cfd/artifacts/model/data/global_custom_objects.cloudpickle HTTP/1.1\" 200 None]\n",
      "[2024-01-27 21:03:48,458:DEBUG:connectionpool:https://dagshub.com:443 \"PUT /tejas05in/Thyroid-Disease-Prediction.mlflow/api/2.0/mlflow-artifacts/artifacts/dbd409d79d1546fdbfc410acf1df7960/0f0305a6fb454424a88bd4a456476cfd/artifacts/model/data/model/fingerprint.pb HTTP/1.1\" 200 None]\n",
      "[2024-01-27 21:03:49,483:DEBUG:connectionpool:https://dagshub.com:443 \"PUT /tejas05in/Thyroid-Disease-Prediction.mlflow/api/2.0/mlflow-artifacts/artifacts/dbd409d79d1546fdbfc410acf1df7960/0f0305a6fb454424a88bd4a456476cfd/artifacts/model/data/model/keras_metadata.pb HTTP/1.1\" 200 None]\n",
      "[2024-01-27 21:03:50,814:DEBUG:connectionpool:https://dagshub.com:443 \"PUT /tejas05in/Thyroid-Disease-Prediction.mlflow/api/2.0/mlflow-artifacts/artifacts/dbd409d79d1546fdbfc410acf1df7960/0f0305a6fb454424a88bd4a456476cfd/artifacts/model/data/model/saved_model.pb HTTP/1.1\" 200 None]\n",
      "[2024-01-27 21:03:51,428:DEBUG:connectionpool:https://dagshub.com:443 \"PUT /tejas05in/Thyroid-Disease-Prediction.mlflow/api/2.0/mlflow-artifacts/artifacts/dbd409d79d1546fdbfc410acf1df7960/0f0305a6fb454424a88bd4a456476cfd/artifacts/model/data/model/assets/30989f3147be440edone HTTP/1.1\" 200 None]\n",
      "[2024-01-27 21:03:52,452:DEBUG:connectionpool:https://dagshub.com:443 \"PUT /tejas05in/Thyroid-Disease-Prediction.mlflow/api/2.0/mlflow-artifacts/artifacts/dbd409d79d1546fdbfc410acf1df7960/0f0305a6fb454424a88bd4a456476cfd/artifacts/model/data/model/assets/30989f3147be440enodes-00000-of-00001 HTTP/1.1\" 200 None]\n",
      "[2024-01-27 21:03:53,422:DEBUG:connectionpool:https://dagshub.com:443 \"PUT /tejas05in/Thyroid-Disease-Prediction.mlflow/api/2.0/mlflow-artifacts/artifacts/dbd409d79d1546fdbfc410acf1df7960/0f0305a6fb454424a88bd4a456476cfd/artifacts/model/data/model/assets/30989f3147be440edata_spec.pb HTTP/1.1\" 200 None]\n",
      "[2024-01-27 21:03:54,499:DEBUG:connectionpool:https://dagshub.com:443 \"PUT /tejas05in/Thyroid-Disease-Prediction.mlflow/api/2.0/mlflow-artifacts/artifacts/dbd409d79d1546fdbfc410acf1df7960/0f0305a6fb454424a88bd4a456476cfd/artifacts/model/data/model/assets/30989f3147be440eheader.pb HTTP/1.1\" 200 None]\n",
      "[2024-01-27 21:03:55,524:DEBUG:connectionpool:https://dagshub.com:443 \"PUT /tejas05in/Thyroid-Disease-Prediction.mlflow/api/2.0/mlflow-artifacts/artifacts/dbd409d79d1546fdbfc410acf1df7960/0f0305a6fb454424a88bd4a456476cfd/artifacts/model/data/model/assets/30989f3147be440egradient_boosted_trees_header.pb HTTP/1.1\" 200 None]\n",
      "[2024-01-27 21:03:56,446:DEBUG:connectionpool:https://dagshub.com:443 \"PUT /tejas05in/Thyroid-Disease-Prediction.mlflow/api/2.0/mlflow-artifacts/artifacts/dbd409d79d1546fdbfc410acf1df7960/0f0305a6fb454424a88bd4a456476cfd/artifacts/model/data/model/variables/variables.data-00000-of-00001 HTTP/1.1\" 200 None]\n",
      "[2024-01-27 21:03:57,470:DEBUG:connectionpool:https://dagshub.com:443 \"PUT /tejas05in/Thyroid-Disease-Prediction.mlflow/api/2.0/mlflow-artifacts/artifacts/dbd409d79d1546fdbfc410acf1df7960/0f0305a6fb454424a88bd4a456476cfd/artifacts/model/data/model/variables/variables.index HTTP/1.1\" 200 None]\n",
      "[2024-01-27 21:03:57,879:DEBUG:connectionpool:https://dagshub.com:443 \"POST /tejas05in/Thyroid-Disease-Prediction.mlflow/api/2.0/mlflow/runs/log-model HTTP/1.1\" 200 None]\n",
      "[2024-01-27 21:03:58,289:DEBUG:connectionpool:https://dagshub.com:443 \"POST /tejas05in/Thyroid-Disease-Prediction.mlflow/api/2.0/mlflow/registered-models/create HTTP/1.1\" 200 None]\n"
     ]
    },
    {
     "name": "stderr",
     "output_type": "stream",
     "text": [
      "Successfully registered model 'GradientBoostedTreesModel'.\n"
     ]
    },
    {
     "name": "stdout",
     "output_type": "stream",
     "text": [
      "[2024-01-27 21:03:58,699:DEBUG:connectionpool:https://dagshub.com:443 \"GET /tejas05in/Thyroid-Disease-Prediction.mlflow/api/2.0/mlflow/runs/get?run_uuid=0f0305a6fb454424a88bd4a456476cfd&run_id=0f0305a6fb454424a88bd4a456476cfd HTTP/1.1\" 200 None]\n",
      "[2024-01-27 21:03:59,109:DEBUG:connectionpool:https://dagshub.com:443 \"POST /tejas05in/Thyroid-Disease-Prediction.mlflow/api/2.0/mlflow/model-versions/create HTTP/1.1\" 200 None]\n"
     ]
    },
    {
     "name": "stderr",
     "output_type": "stream",
     "text": [
      "2024/01/27 21:03:59 INFO mlflow.store.model_registry.abstract_store: Waiting up to 300 seconds for model version to finish creation. Model name: GradientBoostedTreesModel, version 1\n",
      "Created version '1' of model 'GradientBoostedTreesModel'.\n"
     ]
    },
    {
     "name": "stdout",
     "output_type": "stream",
     "text": [
      "[2024-01-27 21:03:59,620:DEBUG:connectionpool:https://dagshub.com:443 \"POST /tejas05in/Thyroid-Disease-Prediction.mlflow/api/2.0/mlflow/runs/update HTTP/1.1\" 200 None]\n"
     ]
    }
   ],
   "source": [
    "try:\n",
    "    config = ConfigurationManager()\n",
    "    model_evaluation_config = config.get_model_evaluation_config()\n",
    "    model_evaluation = ModelEvaluation(config=model_evaluation_config)\n",
    "    model_evaluation.log_into_mlflow()\n",
    "except Exception as e:\n",
    "    raise e"
   ]
  },
  {
   "cell_type": "code",
   "execution_count": null,
   "metadata": {},
   "outputs": [],
   "source": []
  }
 ],
 "metadata": {
  "kernelspec": {
   "display_name": "Python 3",
   "language": "python",
   "name": "python3"
  },
  "language_info": {
   "codemirror_mode": {
    "name": "ipython",
    "version": 3
   },
   "file_extension": ".py",
   "mimetype": "text/x-python",
   "name": "python",
   "nbconvert_exporter": "python",
   "pygments_lexer": "ipython3",
   "version": "3.11.4"
  }
 },
 "nbformat": 4,
 "nbformat_minor": 2
}
