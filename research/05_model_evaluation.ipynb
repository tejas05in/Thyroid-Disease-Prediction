{
 "cells": [
  {
   "cell_type": "code",
   "execution_count": 2,
   "metadata": {},
   "outputs": [],
   "source": [
    "import os"
   ]
  },
  {
   "cell_type": "code",
   "execution_count": 3,
   "metadata": {},
   "outputs": [
    {
     "data": {
      "text/plain": [
       "'/home/tejas/MLProj/Thyroid-Disease-Prediction/research'"
      ]
     },
     "execution_count": 3,
     "metadata": {},
     "output_type": "execute_result"
    }
   ],
   "source": [
    "%pwd"
   ]
  },
  {
   "cell_type": "code",
   "execution_count": 4,
   "metadata": {},
   "outputs": [],
   "source": [
    "os.chdir('../')"
   ]
  },
  {
   "cell_type": "code",
   "execution_count": 99,
   "metadata": {},
   "outputs": [
    {
     "data": {
      "text/plain": [
       "'/home/tejas/MLProj/Thyroid-Disease-Prediction'"
      ]
     },
     "execution_count": 99,
     "metadata": {},
     "output_type": "execute_result"
    }
   ],
   "source": [
    "%pwd"
   ]
  },
  {
   "cell_type": "code",
   "execution_count": 100,
   "metadata": {},
   "outputs": [],
   "source": [
    "os.environ[\"MLFLOW_TRACKING_URI\"] = \"https://dagshub.com/tejas05in/Thyroid-Disease-Prediction.mlflow\"\n",
    "os.environ[\"MLFLOW_TRACKING_USERNAME\"] = \"tejas05in\"\n",
    "os.environ[\"MLFLOW_TRACKING_PASSWORD\"] = \"9efcb5c7b79d0e949378459b922b1462a80fa413\""
   ]
  },
  {
   "cell_type": "code",
   "execution_count": 101,
   "metadata": {},
   "outputs": [],
   "source": [
    "from dataclasses import dataclass\n",
    "from pathlib import Path\n",
    "\n",
    "\n",
    "@dataclass(frozen=True)\n",
    "class ModelEvaluationConfig:\n",
    "    root_dir: Path\n",
    "    test_data_path: Path\n",
    "    model_path: Path\n",
    "    all_params: dict\n",
    "    metric_file_name: Path\n",
    "    target_column: str\n",
    "    mlflow_uri: str"
   ]
  },
  {
   "cell_type": "code",
   "execution_count": 102,
   "metadata": {},
   "outputs": [],
   "source": [
    "from ThyroidProject.constants import *\n",
    "from ThyroidProject.utils.common import read_yaml , create_directories"
   ]
  },
  {
   "cell_type": "code",
   "execution_count": 103,
   "metadata": {},
   "outputs": [],
   "source": [
    "class ConfigurationManager:\n",
    "    def __init__(self,\n",
    "                 config_filepath=CONFIG_FILE_PATH,\n",
    "                 params_filepath=PARAMS_FILE_PATH,\n",
    "                 schema_filepath=SCHEMA_FILE_PATH):\n",
    "\n",
    "        self.config = read_yaml(config_filepath)\n",
    "        self.params = read_yaml(params_filepath)\n",
    "        self.schema = read_yaml(schema_filepath)\n",
    "\n",
    "        create_directories([self.config.artifacts_root])\n",
    "\n",
    "    def get_model_evaluation_config(self) -> ModelEvaluationConfig:\n",
    "        \"\"\"\n",
    "        This function returns the ModelEvaluationConfig object that contains all the configuration parameters required for model evaluation.\n",
    "\n",
    "        Args:\n",
    "            None\n",
    "\n",
    "        Returns:\n",
    "            ModelEvaluationConfig: The ModelEvaluationConfig object containing all the configuration parameters\n",
    "\n",
    "        \"\"\"\n",
    "        config = self.config.model_evaluation\n",
    "        params = self.params.GradientBoostedTreesLearner\n",
    "        schema = self.schema.TARGET_COLUMN\n",
    "\n",
    "        create_directories([config.root_dir])\n",
    "\n",
    "        model_evaluation_config = ModelEvaluationConfig(\n",
    "            root_dir=config.root_dir,\n",
    "            test_data_path=config.test_data_path,\n",
    "            model_path=config.model_path,\n",
    "            all_params=params,\n",
    "            metric_file_name=config.metric_file_name,\n",
    "            target_column=schema.name,\n",
    "            mlflow_uri=\"https://dagshub.com/tejas05in/Thyroid-Disease-Prediction.mlflow\"\n",
    "        )\n",
    "\n",
    "        return model_evaluation_config"
   ]
  },
  {
   "cell_type": "code",
   "execution_count": 104,
   "metadata": {},
   "outputs": [],
   "source": [
    "import os\n",
    "import pandas as pd\n",
    "from urllib.parse import urlparse\n",
    "import mlflow\n",
    "import numpy as np\n",
    "import ydf\n",
    "from mlflow.data.pandas_dataset import PandasDataset"
   ]
  },
  {
   "cell_type": "code",
   "execution_count": 105,
   "metadata": {},
   "outputs": [],
   "source": [
    "class CustomModelWrapper(mlflow.pyfunc.PythonModel):\n",
    "   def load_context(self, context):\n",
    "       import ydf\n",
    "       self.model = ydf.load_model(\n",
    "           context.artifacts[\"model\"])\n",
    "       return self.model\n",
    "\n",
    "   def predict(self, model_input):\n",
    "       return self.model.predict(model_input)\n",
    "\n",
    "\n",
    "\n",
    "\n",
    "\n",
    "class ModelEvaluation:\n",
    "    def __init__(self, config: ModelEvaluationConfig):\n",
    "        self.config = config\n",
    "    \n",
    "\n",
    "    def log_into_mlflow(self):\n",
    "        \"\"\"\n",
    "        This function logs the metrics and model into mlflow.\n",
    "\n",
    "        Args:\n",
    "            None\n",
    "\n",
    "        Returns:\n",
    "            None\n",
    "\n",
    "        \"\"\"\n",
    "\n",
    "        # Load the test data\n",
    "        test_data = pd.read_csv(self.config.test_data_path)\n",
    "\n",
    "        # Load the model\n",
    "        model = ydf.load_model(self.config.model_path)\n",
    "\n",
    "        # Evaluate the model on the test data\n",
    "        evaluation = model.evaluate(test_data)\n",
    "        \n",
    "\n",
    "        with open(self.config.metric_file_name, \"w\") as f:\n",
    "            # storing the training description in a html file\n",
    "            f.write(evaluation.html())\n",
    "        \n",
    "        # print(evaluation.to_dict())\n",
    "        # print(evaluation.confusion_matrix)\n",
    "        # Set the mlflow tracking uri\n",
    "        mlflow.set_registry_uri(self.config.mlflow_uri)\n",
    "\n",
    "        # Get the type of the tracking uri\n",
    "        tracking_uri_type_store = urlparse(mlflow.get_tracking_uri()).scheme\n",
    "        \n",
    "        dataset: PandasDataset = mlflow.data.from_pandas(\n",
    "            test_data)\n",
    "    \n",
    "        # # Start a mlflow run\n",
    "        with mlflow.start_run():\n",
    "            \n",
    "            #log data\n",
    "            mlflow.log_input(dataset, context=\"testing\")\n",
    "\n",
    "            # Log the parameters\n",
    "            mlflow.log_params(self.config.all_params)\n",
    "\n",
    "            # Log the metrics\n",
    "            mlflow.log_metric(\"loss\", evaluation.loss)\n",
    "            mlflow.log_metric(\"accuray\", evaluation.accuracy)\n",
    "            \n",
    "            # Register the model\n",
    "            # There are other ways to use the model registry , which depends on the use case\n",
    "            # Please refer to the documentation for more information\n",
    "            # https://mlflow.org/docs/latest/model-registry.html #api-workflow\n",
    "            if tracking_uri_type_store != 'file':\n",
    "                mlflow.pyfunc.log_model(\n",
    "                    \"model\", python_model=CustomModelWrapper(), artifacts={\"model\": self.config.model_path}, registered_model_name=\"GradientBoostedTreesModel\", pip_requirements='requirements.txt')\n",
    "            else:\n",
    "                mlflow.pyfunc.log_model(\"model\", python_model=CustomModelWrapper(), artifacts={\n",
    "                                        \"model\": self.config.model_path}, registered_model_name=\"GradientBoostedTreesModel\")"
   ]
  },
  {
   "cell_type": "code",
   "execution_count": 106,
   "metadata": {},
   "outputs": [
    {
     "name": "stdout",
     "output_type": "stream",
     "text": [
      "[2024-02-03 21:06:11,629:INFO:common:yaml file: config/config.yaml loaded successfully]\n",
      "[2024-02-03 21:06:11,631:INFO:common:yaml file: params.yaml loaded successfully]\n",
      "[2024-02-03 21:06:11,634:INFO:common:yaml file: schema.yaml loaded successfully]\n",
      "[2024-02-03 21:06:11,634:INFO:common:created directory at :artifacts]\n",
      "[2024-02-03 21:06:11,635:INFO:common:created directory at :artifacts/model_evaluation]\n",
      "[2024-02-03 21:06:11,641:INFO:model_lib:Loading model from artifacts/model_trainer/model]\n"
     ]
    },
    {
     "name": "stderr",
     "output_type": "stream",
     "text": [
      "/home/tejas/MLProj/Thyroid-Disease-Prediction/env/lib/python3.11/site-packages/mlflow/data/digest_utils.py:29: FutureWarning: DataFrame.applymap has been deprecated. Use DataFrame.map instead.\n",
      "  string_columns = trimmed_df.columns[(df.applymap(type) == str).all(0)]\n"
     ]
    },
    {
     "name": "stdout",
     "output_type": "stream",
     "text": [
      "[2024-02-03 21:08:11,796:WARNING:connectionpool:Retrying (Retry(total=4, connect=5, read=4, redirect=5, status=5)) after connection broken by 'ReadTimeoutError(\"HTTPSConnectionPool(host='dagshub.com', port=443): Read timed out. (read timeout=120)\")': /tejas05in/Thyroid-Disease-Prediction.mlflow/api/2.0/mlflow/runs/create]\n"
     ]
    },
    {
     "name": "stderr",
     "output_type": "stream",
     "text": [
      "/home/tejas/MLProj/Thyroid-Disease-Prediction/env/lib/python3.11/site-packages/mlflow/types/utils.py:393: UserWarning: Hint: Inferred schema contains integer column(s). Integer columns in Python cannot represent missing values. If your input data contains missing values at inference time, it will be encoded as floats and will cause a schema enforcement error. The best way to avoid this problem is to infer the model schema based on a realistic data sample (training dataset) that includes missing values. Alternatively, you can declare integer columns as doubles (float64) whenever these columns may have missing values. See `Handling Integers With Missing Values <https://www.mlflow.org/docs/latest/models.html#handling-integers-with-missing-values>`_ for more details.\n",
      "  warnings.warn(\n",
      "Downloading artifacts: 100%|██████████| 5/5 [00:00<00:00, 2134.07it/s] \n",
      "/home/tejas/MLProj/Thyroid-Disease-Prediction/env/lib/python3.11/site-packages/_distutils_hack/__init__.py:18: UserWarning: Distutils was imported before Setuptools, but importing Setuptools also replaces the `distutils` module in `sys.modules`. This may lead to undesirable behaviors or errors. To avoid these issues, avoid using distutils directly, ensure that setuptools is installed in the traditional way (e.g. not an editable install), and/or make sure that setuptools is always imported before distutils.\n",
      "  warnings.warn(\n",
      "/home/tejas/MLProj/Thyroid-Disease-Prediction/env/lib/python3.11/site-packages/_distutils_hack/__init__.py:33: UserWarning: Setuptools is replacing distutils.\n",
      "  warnings.warn(\"Setuptools is replacing distutils.\")\n",
      "Successfully registered model 'GradientBoostedTreesModel'.\n",
      "2024/02/03 21:08:29 INFO mlflow.store.model_registry.abstract_store: Waiting up to 300 seconds for model version to finish creation. Model name: GradientBoostedTreesModel, version 1\n",
      "Created version '1' of model 'GradientBoostedTreesModel'.\n"
     ]
    }
   ],
   "source": [
    "try:\n",
    "    config = ConfigurationManager()\n",
    "    model_evaluation_config = config.get_model_evaluation_config()\n",
    "    model_evaluation = ModelEvaluation(config=model_evaluation_config)\n",
    "    model_evaluation.log_into_mlflow()\n",
    "except Exception as e:\n",
    "    raise e"
   ]
  },
  {
   "cell_type": "code",
   "execution_count": null,
   "metadata": {},
   "outputs": [],
   "source": []
  },
  {
   "cell_type": "code",
   "execution_count": null,
   "metadata": {},
   "outputs": [],
   "source": []
  }
 ],
 "metadata": {
  "kernelspec": {
   "display_name": "Python 3",
   "language": "python",
   "name": "python3"
  },
  "language_info": {
   "codemirror_mode": {
    "name": "ipython",
    "version": 3
   },
   "file_extension": ".py",
   "mimetype": "text/x-python",
   "name": "python",
   "nbconvert_exporter": "python",
   "pygments_lexer": "ipython3",
   "version": "3.11.4"
  }
 },
 "nbformat": 4,
 "nbformat_minor": 2
}
