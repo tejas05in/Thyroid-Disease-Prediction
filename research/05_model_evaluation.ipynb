{
 "cells": [
  {
   "cell_type": "code",
   "execution_count": 1,
   "metadata": {},
   "outputs": [],
   "source": [
    "import os"
   ]
  },
  {
   "cell_type": "code",
   "execution_count": 2,
   "metadata": {},
   "outputs": [
    {
     "data": {
      "text/plain": [
       "'/home/tejas/MLProj/Thyroid-Disease-Prediction/research'"
      ]
     },
     "execution_count": 2,
     "metadata": {},
     "output_type": "execute_result"
    }
   ],
   "source": [
    "%pwd"
   ]
  },
  {
   "cell_type": "code",
   "execution_count": 3,
   "metadata": {},
   "outputs": [],
   "source": [
    "os.chdir('../')"
   ]
  },
  {
   "cell_type": "code",
   "execution_count": 4,
   "metadata": {},
   "outputs": [
    {
     "data": {
      "text/plain": [
       "'/home/tejas/MLProj/Thyroid-Disease-Prediction'"
      ]
     },
     "execution_count": 4,
     "metadata": {},
     "output_type": "execute_result"
    }
   ],
   "source": [
    "%pwd"
   ]
  },
  {
   "cell_type": "code",
   "execution_count": 5,
   "metadata": {},
   "outputs": [],
   "source": [
    "os.environ[\"MLFLOW_TRACKING_URI\"] = \"https://dagshub.com/tejas05in/Thyroid-Disease-Prediction.mlflow\"\n",
    "os.environ[\"MLFLOW_TRACKING_USERNAME\"] = \"tejas05in\"\n",
    "os.environ[\"MLFLOW_TRACKING_PASSWORD\"] = \"9efcb5c7b79d0e949378459b922b1462a80fa413\""
   ]
  },
  {
   "cell_type": "code",
   "execution_count": 6,
   "metadata": {},
   "outputs": [],
   "source": [
    "from dataclasses import dataclass\n",
    "from pathlib import Path\n",
    "\n",
    "\n",
    "@dataclass(frozen=True)\n",
    "class ModelEvaluationConfig:\n",
    "    root_dir: Path\n",
    "    test_data_path: Path\n",
    "    model_path: Path\n",
    "    all_params: dict\n",
    "    metric_file_name: Path\n",
    "    target_column: str\n",
    "    mlflow_uri: str"
   ]
  },
  {
   "cell_type": "code",
   "execution_count": 7,
   "metadata": {},
   "outputs": [],
   "source": [
    "from ThyroidProject.constants import *\n",
    "from ThyroidProject.utils.common import read_yaml , create_directories"
   ]
  },
  {
   "cell_type": "code",
   "execution_count": 8,
   "metadata": {},
   "outputs": [],
   "source": [
    "class ConfigurationManager:\n",
    "    def __init__(self,\n",
    "                 config_filepath=CONFIG_FILE_PATH,\n",
    "                 params_filepath=PARAMS_FILE_PATH,\n",
    "                 schema_filepath=SCHEMA_FILE_PATH):\n",
    "\n",
    "        self.config = read_yaml(config_filepath)\n",
    "        self.params = read_yaml(params_filepath)\n",
    "        self.schema = read_yaml(schema_filepath)\n",
    "\n",
    "        create_directories([self.config.artifacts_root])\n",
    "\n",
    "    def get_model_evaluation_config(self) -> ModelEvaluationConfig:\n",
    "        config = self.config.model_evaluation\n",
    "        params = self.params.GradientBoostedTreesLearner\n",
    "        schema = self.schema.TARGET_COLUMN\n",
    "\n",
    "        create_directories([config.root_dir])\n",
    "\n",
    "        model_evaluation_config = ModelEvaluationConfig(\n",
    "            root_dir=config.root_dir,\n",
    "            test_data_path=config.test_data_path,\n",
    "            model_path=config.model_path,\n",
    "            all_params=params,\n",
    "            metric_file_name=config.metric_file_name,\n",
    "            target_column=schema.name,\n",
    "            mlflow_uri=\"https://dagshub.com/tejas05in/Thyroid-Disease-Prediction.mlflow\"\n",
    "        )\n",
    "\n",
    "        return model_evaluation_config"
   ]
  },
  {
   "cell_type": "code",
   "execution_count": 15,
   "metadata": {},
   "outputs": [],
   "source": [
    "import os\n",
    "import pandas as pd\n",
    "from urllib.parse import urlparse\n",
    "import mlflow\n",
    "from mlflow.models import infer_signature\n",
    "import numpy as np\n",
    "import tensorflow as tf\n",
    "import tensorflow_decision_forests as tfdf\n",
    "from ThyroidProject.utils.common import save_json"
   ]
  },
  {
   "cell_type": "code",
   "execution_count": 30,
   "metadata": {},
   "outputs": [],
   "source": [
    "class ModelEvaluation:\n",
    "    def __init__(self, config: ModelEvaluationConfig):\n",
    "        self.config = config\n",
    "        \n",
    "    \n",
    "\n",
    "    def log_into_mlflow(self):\n",
    "        mlflow.tensorflow.autolog()\n",
    "        \n",
    "        test_data = pd.read_csv(self.config.test_data_path)\n",
    "        test_ds = tfdf.keras.pd_dataframe_to_tf_dataset(\n",
    "            test_data, label=self.config.target_column)\n",
    "        model = tf.keras.models.load_model(self.config.model_path)\n",
    "        model.compile(metrics=[\"accuracy\"])\n",
    "        evaluation = model.evaluate(test_ds, return_dict=True)\n",
    "\n",
    "        mlflow.set_registry_uri(self.config.mlflow_uri)\n",
    "        tracking_uri_type_store = urlparse(mlflow.get_tracking_uri()).scheme\n",
    "\n",
    "        with mlflow.start_run():\n",
    "\n",
    "            # Saving metrics as local\n",
    "            # scores = {\"accuray\": evaluation[\"accuracy\"], \"loss\": evaluation[\"loss\"]}\n",
    "            save_json(path=Path(self.config.metric_file_name), data=evaluation)\n",
    "\n",
    "            mlflow.log_params(self.config.all_params)\n",
    "\n",
    "            mlflow.log_metric(\"loss\", evaluation[\"loss\"])\n",
    "            mlflow.log_metric(\"accuray\",evaluation[\"accuracy\"])\n",
    "            \n",
    "            # Model registry does not work with file store\n",
    "            if tracking_uri_type_store != 'file':\n",
    "\n",
    "                # Register the model\n",
    "                # There are other ways to use the model registry , which depends on the use case\n",
    "                # Please refer to the documentation for more information\n",
    "                # https://mlflow.org/docs/latest/model-registry.html #api-workflow\n",
    "                mlflow.tensorflow.log_model(\n",
    "                    model, 'model', registered_model_name=\"GradientBoostedTreesModel\", conda_env=\"conda.yaml\")\n",
    "\n",
    "            else:\n",
    "                mlflow.tensorflow.log_model(model, 'model')"
   ]
  },
  {
   "cell_type": "code",
   "execution_count": 31,
   "metadata": {},
   "outputs": [
    {
     "name": "stdout",
     "output_type": "stream",
     "text": [
      "[2024-01-27 19:41:31,653:INFO:common:yaml file: config/config.yaml loaded successfully]\n",
      "[2024-01-27 19:41:31,654:INFO:common:yaml file: params.yaml loaded successfully]\n",
      "[2024-01-27 19:41:31,655:INFO:common:yaml file: schema.yaml loaded successfully]\n",
      "[2024-01-27 19:41:31,656:INFO:common:created directory at :artifacts]\n",
      "[2024-01-27 19:41:31,656:INFO:common:created directory at :artifacts/model_evaluation]\n",
      "Warning: Some of the feature names have been changed automatically to be compatible with SavedModels because fix_feature_names=True.\n",
      "[2024-01-27 19:41:31,660:WARNING:tf_logging:Some of the feature names have been changed automatically to be compatible with SavedModels because fix_feature_names=True.]\n"
     ]
    },
    {
     "name": "stderr",
     "output_type": "stream",
     "text": [
      "[INFO 24-01-27 19:41:31.9027 IST kernel.cc:1233] Loading model from path artifacts/model_trainer/model/assets/ with prefix 30989f3147be440e\n",
      "[INFO 24-01-27 19:41:31.9083 IST decision_forest.cc:660] Model loaded with 111 root(s), 4117 node(s), and 14 input feature(s).\n",
      "[INFO 24-01-27 19:41:31.9083 IST abstract_model.cc:1344] Engine \"GradientBoostedTreesGeneric\" built\n",
      "[INFO 24-01-27 19:41:31.9083 IST kernel.cc:1061] Use fast generic engine\n"
     ]
    },
    {
     "name": "stdout",
     "output_type": "stream",
     "text": [
      "[2024-01-27 19:41:32,147:WARNING:polymorphic_function:5 out of the last 9 calls to <function Model.make_test_function.<locals>.test_function at 0x7f57c0643920> triggered tf.function retracing. Tracing is expensive and the excessive number of tracings could be due to (1) creating @tf.function repeatedly in a loop, (2) passing tensors with different shapes, (3) passing Python objects instead of tensors. For (1), please define your @tf.function outside of the loop. For (2), @tf.function has reduce_retracing=True option that can avoid unnecessary retracing. For (3), please refer to https://www.tensorflow.org/guide/function#controlling_retracing and https://www.tensorflow.org/api_docs/python/tf/function for  more details.]\n",
      "2/2 [==============================] - 0s 7ms/step - loss: 0.0000e+00 - accuracy: 0.9865\n",
      "[2024-01-27 19:41:32,635:DEBUG:connectionpool:https://dagshub.com:443 \"POST /tejas05in/Thyroid-Disease-Prediction.mlflow/api/2.0/mlflow/runs/create HTTP/1.1\" 200 None]\n",
      "[2024-01-27 19:41:32,639:INFO:common:json file saved at:artifacts/model_evaluation/metrics.json]\n",
      "[2024-01-27 19:41:33,043:DEBUG:connectionpool:https://dagshub.com:443 \"POST /tejas05in/Thyroid-Disease-Prediction.mlflow/api/2.0/mlflow/runs/log-batch HTTP/1.1\" 200 None]\n",
      "[2024-01-27 19:41:33,546:DEBUG:connectionpool:https://dagshub.com:443 \"POST /tejas05in/Thyroid-Disease-Prediction.mlflow/api/2.0/mlflow/runs/log-metric HTTP/1.1\" 200 None]\n",
      "[2024-01-27 19:41:33,918:DEBUG:connectionpool:https://dagshub.com:443 \"POST /tejas05in/Thyroid-Disease-Prediction.mlflow/api/2.0/mlflow/runs/log-metric HTTP/1.1\" 200 None]\n"
     ]
    },
    {
     "name": "stderr",
     "output_type": "stream",
     "text": [
      "2024/01/27 19:41:33 WARNING mlflow.tensorflow: You are saving a TensorFlow Core model or Keras model without a signature. Inference with mlflow.pyfunc.spark_udf() will not work unless the model's pyfunc representation accepts pandas DataFrames as inference inputs.\n"
     ]
    },
    {
     "name": "stdout",
     "output_type": "stream",
     "text": [
      "[2024-01-27 19:41:34,367:INFO:builder_impl:Assets written to: /tmp/tmp80iqeeya/model/data/model/assets]\n",
      "[2024-01-27 19:41:34,979:DEBUG:connectionpool:https://dagshub.com:443 \"GET /tejas05in/Thyroid-Disease-Prediction.mlflow/api/2.0/mlflow/runs/get?run_uuid=2d297254accf4d9bb68c9333afb18624&run_id=2d297254accf4d9bb68c9333afb18624 HTTP/1.1\" 200 None]\n",
      "[2024-01-27 19:41:35,595:DEBUG:connectionpool:https://dagshub.com:443 \"PUT /tejas05in/Thyroid-Disease-Prediction.mlflow/api/2.0/mlflow-artifacts/artifacts/dbd409d79d1546fdbfc410acf1df7960/2d297254accf4d9bb68c9333afb18624/artifacts/model/MLmodel HTTP/1.1\" 200 None]\n",
      "[2024-01-27 19:41:36,106:DEBUG:connectionpool:https://dagshub.com:443 \"PUT /tejas05in/Thyroid-Disease-Prediction.mlflow/api/2.0/mlflow-artifacts/artifacts/dbd409d79d1546fdbfc410acf1df7960/2d297254accf4d9bb68c9333afb18624/artifacts/model/conda.yaml HTTP/1.1\" 200 None]\n",
      "[2024-01-27 19:41:36,822:DEBUG:connectionpool:https://dagshub.com:443 \"PUT /tejas05in/Thyroid-Disease-Prediction.mlflow/api/2.0/mlflow-artifacts/artifacts/dbd409d79d1546fdbfc410acf1df7960/2d297254accf4d9bb68c9333afb18624/artifacts/model/python_env.yaml HTTP/1.1\" 200 None]\n",
      "[2024-01-27 19:41:37,539:DEBUG:connectionpool:https://dagshub.com:443 \"PUT /tejas05in/Thyroid-Disease-Prediction.mlflow/api/2.0/mlflow-artifacts/artifacts/dbd409d79d1546fdbfc410acf1df7960/2d297254accf4d9bb68c9333afb18624/artifacts/model/requirements.txt HTTP/1.1\" 200 None]\n",
      "[2024-01-27 19:41:38,154:DEBUG:connectionpool:https://dagshub.com:443 \"PUT /tejas05in/Thyroid-Disease-Prediction.mlflow/api/2.0/mlflow-artifacts/artifacts/dbd409d79d1546fdbfc410acf1df7960/2d297254accf4d9bb68c9333afb18624/artifacts/model/data/save_format.txt HTTP/1.1\" 200 None]\n",
      "[2024-01-27 19:41:38,770:DEBUG:connectionpool:https://dagshub.com:443 \"PUT /tejas05in/Thyroid-Disease-Prediction.mlflow/api/2.0/mlflow-artifacts/artifacts/dbd409d79d1546fdbfc410acf1df7960/2d297254accf4d9bb68c9333afb18624/artifacts/model/data/keras_module.txt HTTP/1.1\" 200 None]\n",
      "[2024-01-27 19:41:39,588:DEBUG:connectionpool:https://dagshub.com:443 \"PUT /tejas05in/Thyroid-Disease-Prediction.mlflow/api/2.0/mlflow-artifacts/artifacts/dbd409d79d1546fdbfc410acf1df7960/2d297254accf4d9bb68c9333afb18624/artifacts/model/data/global_custom_objects.cloudpickle HTTP/1.1\" 200 None]\n",
      "[2024-01-27 19:41:40,714:DEBUG:connectionpool:https://dagshub.com:443 \"PUT /tejas05in/Thyroid-Disease-Prediction.mlflow/api/2.0/mlflow-artifacts/artifacts/dbd409d79d1546fdbfc410acf1df7960/2d297254accf4d9bb68c9333afb18624/artifacts/model/data/model/fingerprint.pb HTTP/1.1\" 200 None]\n",
      "[2024-01-27 19:41:41,636:DEBUG:connectionpool:https://dagshub.com:443 \"PUT /tejas05in/Thyroid-Disease-Prediction.mlflow/api/2.0/mlflow-artifacts/artifacts/dbd409d79d1546fdbfc410acf1df7960/2d297254accf4d9bb68c9333afb18624/artifacts/model/data/model/keras_metadata.pb HTTP/1.1\" 200 None]\n",
      "[2024-01-27 19:41:42,557:DEBUG:connectionpool:https://dagshub.com:443 \"PUT /tejas05in/Thyroid-Disease-Prediction.mlflow/api/2.0/mlflow-artifacts/artifacts/dbd409d79d1546fdbfc410acf1df7960/2d297254accf4d9bb68c9333afb18624/artifacts/model/data/model/saved_model.pb HTTP/1.1\" 200 None]\n",
      "[2024-01-27 19:41:43,478:DEBUG:connectionpool:https://dagshub.com:443 \"PUT /tejas05in/Thyroid-Disease-Prediction.mlflow/api/2.0/mlflow-artifacts/artifacts/dbd409d79d1546fdbfc410acf1df7960/2d297254accf4d9bb68c9333afb18624/artifacts/model/data/model/assets/30989f3147be440edone HTTP/1.1\" 200 None]\n",
      "[2024-01-27 19:41:44,605:DEBUG:connectionpool:https://dagshub.com:443 \"PUT /tejas05in/Thyroid-Disease-Prediction.mlflow/api/2.0/mlflow-artifacts/artifacts/dbd409d79d1546fdbfc410acf1df7960/2d297254accf4d9bb68c9333afb18624/artifacts/model/data/model/assets/30989f3147be440enodes-00000-of-00001 HTTP/1.1\" 200 None]\n",
      "[2024-01-27 19:41:45,731:DEBUG:connectionpool:https://dagshub.com:443 \"PUT /tejas05in/Thyroid-Disease-Prediction.mlflow/api/2.0/mlflow-artifacts/artifacts/dbd409d79d1546fdbfc410acf1df7960/2d297254accf4d9bb68c9333afb18624/artifacts/model/data/model/assets/30989f3147be440edata_spec.pb HTTP/1.1\" 200 None]\n",
      "[2024-01-27 19:41:46,550:DEBUG:connectionpool:https://dagshub.com:443 \"PUT /tejas05in/Thyroid-Disease-Prediction.mlflow/api/2.0/mlflow-artifacts/artifacts/dbd409d79d1546fdbfc410acf1df7960/2d297254accf4d9bb68c9333afb18624/artifacts/model/data/model/assets/30989f3147be440eheader.pb HTTP/1.1\" 200 None]\n",
      "[2024-01-27 19:41:47,677:DEBUG:connectionpool:https://dagshub.com:443 \"PUT /tejas05in/Thyroid-Disease-Prediction.mlflow/api/2.0/mlflow-artifacts/artifacts/dbd409d79d1546fdbfc410acf1df7960/2d297254accf4d9bb68c9333afb18624/artifacts/model/data/model/assets/30989f3147be440egradient_boosted_trees_header.pb HTTP/1.1\" 200 None]\n",
      "[2024-01-27 19:41:48,496:DEBUG:connectionpool:https://dagshub.com:443 \"PUT /tejas05in/Thyroid-Disease-Prediction.mlflow/api/2.0/mlflow-artifacts/artifacts/dbd409d79d1546fdbfc410acf1df7960/2d297254accf4d9bb68c9333afb18624/artifacts/model/data/model/variables/variables.data-00000-of-00001 HTTP/1.1\" 200 None]\n",
      "[2024-01-27 19:41:49,624:DEBUG:connectionpool:https://dagshub.com:443 \"PUT /tejas05in/Thyroid-Disease-Prediction.mlflow/api/2.0/mlflow-artifacts/artifacts/dbd409d79d1546fdbfc410acf1df7960/2d297254accf4d9bb68c9333afb18624/artifacts/model/data/model/variables/variables.index HTTP/1.1\" 200 None]\n",
      "[2024-01-27 19:41:49,989:DEBUG:connectionpool:https://dagshub.com:443 \"POST /tejas05in/Thyroid-Disease-Prediction.mlflow/api/2.0/mlflow/runs/log-model HTTP/1.1\" 200 None]\n",
      "[2024-01-27 19:41:50,544:DEBUG:connectionpool:https://dagshub.com:443 \"POST /tejas05in/Thyroid-Disease-Prediction.mlflow/api/2.0/mlflow/registered-models/create HTTP/1.1\" 400 None]\n"
     ]
    },
    {
     "name": "stderr",
     "output_type": "stream",
     "text": [
      "Registered model 'GradientBoostedTreesModel' already exists. Creating a new version of this model...\n"
     ]
    },
    {
     "name": "stdout",
     "output_type": "stream",
     "text": [
      "[2024-01-27 19:41:51,160:DEBUG:connectionpool:https://dagshub.com:443 \"GET /tejas05in/Thyroid-Disease-Prediction.mlflow/api/2.0/mlflow/runs/get?run_uuid=2d297254accf4d9bb68c9333afb18624&run_id=2d297254accf4d9bb68c9333afb18624 HTTP/1.1\" 200 None]\n",
      "[2024-01-27 19:41:51,569:DEBUG:connectionpool:https://dagshub.com:443 \"POST /tejas05in/Thyroid-Disease-Prediction.mlflow/api/2.0/mlflow/model-versions/create HTTP/1.1\" 200 None]\n"
     ]
    },
    {
     "name": "stderr",
     "output_type": "stream",
     "text": [
      "2024/01/27 19:41:51 INFO mlflow.store.model_registry.abstract_store: Waiting up to 300 seconds for model version to finish creation. Model name: GradientBoostedTreesModel, version 2\n",
      "Created version '2' of model 'GradientBoostedTreesModel'.\n"
     ]
    },
    {
     "name": "stdout",
     "output_type": "stream",
     "text": [
      "[2024-01-27 19:41:51,977:DEBUG:connectionpool:https://dagshub.com:443 \"POST /tejas05in/Thyroid-Disease-Prediction.mlflow/api/2.0/mlflow/runs/update HTTP/1.1\" 200 None]\n"
     ]
    }
   ],
   "source": [
    "try:\n",
    "    config = ConfigurationManager()\n",
    "    model_evaluation_config = config.get_model_evaluation_config()\n",
    "    model_evaluation = ModelEvaluation(config=model_evaluation_config)\n",
    "    model_evaluation.log_into_mlflow()\n",
    "except Exception as e:\n",
    "    raise e"
   ]
  }
 ],
 "metadata": {
  "kernelspec": {
   "display_name": "Python 3",
   "language": "python",
   "name": "python3"
  },
  "language_info": {
   "codemirror_mode": {
    "name": "ipython",
    "version": 3
   },
   "file_extension": ".py",
   "mimetype": "text/x-python",
   "name": "python",
   "nbconvert_exporter": "python",
   "pygments_lexer": "ipython3",
   "version": "3.11.4"
  }
 },
 "nbformat": 4,
 "nbformat_minor": 2
}
