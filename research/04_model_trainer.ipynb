{
 "cells": [
  {
   "cell_type": "code",
   "execution_count": 1,
   "metadata": {},
   "outputs": [],
   "source": [
    "import os"
   ]
  },
  {
   "cell_type": "code",
   "execution_count": 2,
   "metadata": {},
   "outputs": [
    {
     "data": {
      "text/plain": [
       "'/home/tejas/MLProj/Thyroid-Disease-Prediction/research'"
      ]
     },
     "execution_count": 2,
     "metadata": {},
     "output_type": "execute_result"
    }
   ],
   "source": [
    "%pwd"
   ]
  },
  {
   "cell_type": "code",
   "execution_count": 3,
   "metadata": {},
   "outputs": [],
   "source": [
    "os.chdir(\"../\")"
   ]
  },
  {
   "cell_type": "code",
   "execution_count": 25,
   "metadata": {},
   "outputs": [
    {
     "data": {
      "text/plain": [
       "'/home/tejas/MLProj/Thyroid-Disease-Prediction'"
      ]
     },
     "execution_count": 25,
     "metadata": {},
     "output_type": "execute_result"
    }
   ],
   "source": [
    "%pwd"
   ]
  },
  {
   "cell_type": "code",
   "execution_count": 26,
   "metadata": {},
   "outputs": [],
   "source": [
    "from dataclasses import dataclass\n",
    "from pathlib import Path\n",
    "\n",
    "\n",
    "@dataclass(frozen=True)\n",
    "class ModelTrainerConfig:\n",
    "    root_dir: Path\n",
    "    train_data_path: Path\n",
    "    test_data_path: Path\n",
    "    model_name: str\n",
    "    categorical_algorithm: str\n",
    "    l1_regularization: float\n",
    "    l2_categorical_regularization: float\n",
    "    l2_regularization: float\n",
    "    max_depth: int\n",
    "    num_trees: int\n",
    "    target_column: str"
   ]
  },
  {
   "cell_type": "code",
   "execution_count": 27,
   "metadata": {},
   "outputs": [],
   "source": [
    "\n",
    "from ThyroidProject.constants import *\n",
    "from ThyroidProject.utils.common import read_yaml, create_directories"
   ]
  },
  {
   "cell_type": "code",
   "execution_count": 28,
   "metadata": {},
   "outputs": [],
   "source": [
    "class ConfigurationManager:\n",
    "    def __init__(self,\n",
    "                 config_filepath=CONFIG_FILE_PATH,\n",
    "                 params_filepath=PARAMS_FILE_PATH,\n",
    "                 schema_filepath=SCHEMA_FILE_PATH):\n",
    "\n",
    "        self.config = read_yaml(config_filepath)\n",
    "        self.params = read_yaml(params_filepath)\n",
    "        self.schema = read_yaml(schema_filepath)\n",
    "\n",
    "        create_directories([self.config.artifacts_root])\n",
    "\n",
    "    def get_model_trainer_config(self) -> ModelTrainerConfig:\n",
    "        \"\"\"\n",
    "        This function returns the ModelTrainerConfig object that contains the configuration for the model training process.\n",
    "\n",
    "        Args:\n",
    "            None\n",
    "\n",
    "        Returns:\n",
    "            ModelTrainerConfig: The ModelTrainerConfig object containing the configuration for the model training process\n",
    "\n",
    "        \"\"\"\n",
    "        config = self.config.model_trainer\n",
    "        params = self.params.GradientBoostedTreesLearner\n",
    "        schema = self.schema.TARGET_COLUMN\n",
    "\n",
    "        create_directories([config.root_dir])\n",
    "\n",
    "        model_trainer_config = ModelTrainerConfig(\n",
    "            root_dir=config.root_dir,\n",
    "            train_data_path=config.train_data_path,\n",
    "            test_data_path=config.test_data_path,\n",
    "            model_name=config.model_name,\n",
    "            categorical_algorithm=params.categorical_algorithm,\n",
    "            l1_regularization=params.l1_regularization,\n",
    "            l2_categorical_regularization=params.l2_categorical_regularization,\n",
    "            l2_regularization=params.l2_regularization,\n",
    "            max_depth=params.max_depth,\n",
    "            num_trees=params.num_trees,\n",
    "            target_column=schema.name,\n",
    "        )\n",
    "        return model_trainer_config"
   ]
  },
  {
   "cell_type": "code",
   "execution_count": 29,
   "metadata": {},
   "outputs": [],
   "source": [
    "import pandas as pd\n",
    "import os\n",
    "from ThyroidProject import logger\n",
    "import tensorflow_decision_forests as tfdf"
   ]
  },
  {
   "cell_type": "code",
   "execution_count": 52,
   "metadata": {},
   "outputs": [],
   "source": [
    "class ModelTrainer:\n",
    "    def __init__(self, config: ModelTrainerConfig):\n",
    "        self.config = config\n",
    "\n",
    "    def train(self):\n",
    "        \"\"\"\n",
    "        trains the model using the training data and saves it to the artifacts directory\n",
    "        \"\"\"\n",
    "        train_data = pd.read_csv(self.config.train_data_path)\n",
    "        test_data = pd.read_csv(self.config.test_data_path)\n",
    "        \n",
    "        tf_dataset = tfdf.keras.pd_dataframe_to_tf_dataset(\n",
    "            train_data,label=self.config.target_column , max_num_classes=3)\n",
    "        print(tf_dataset)\n",
    "\n",
    "        model = tfdf.keras.GradientBoostedTreesModel(\n",
    "            categorical_algorithm=self.config.categorical_algorithm,\n",
    "            l1_regularization=self.config.l1_regularization,\n",
    "            l2_categorical_regularization=self.config.l2_categorical_regularization,\n",
    "            l2_regularization=self.config.l2_regularization,\n",
    "            max_depth=self.config.max_depth,\n",
    "            num_trees=self.config.num_trees\n",
    "        )\n",
    "        model.fit(tf_dataset)\n",
    "        inspector = model.make_inspector()\n",
    "        logger.info(\n",
    "            f\"The results of the model building are: {inspector.training_logs()}\")\n",
    "        inspector.export_to_tensorboard(os.path.join(self.config.root_dir,\"tensorboard_logs\"))\n",
    "        model.save(os.path.join(self.config.root_dir, self.config.model_name))"
   ]
  },
  {
   "cell_type": "code",
   "execution_count": 53,
   "metadata": {},
   "outputs": [
    {
     "name": "stdout",
     "output_type": "stream",
     "text": [
      "[2024-01-27 18:11:49,457:INFO:common:yaml file: config/config.yaml loaded successfully]\n",
      "[2024-01-27 18:11:49,459:INFO:common:yaml file: params.yaml loaded successfully]\n",
      "[2024-01-27 18:11:49,461:INFO:common:yaml file: schema.yaml loaded successfully]\n",
      "[2024-01-27 18:11:49,462:INFO:common:created directory at :artifacts]\n",
      "[2024-01-27 18:11:49,463:INFO:common:created directory at :artifacts/model_trainer]\n",
      "Warning: Some of the feature names have been changed automatically to be compatible with SavedModels because fix_feature_names=True.\n",
      "[2024-01-27 18:11:49,477:WARNING:tf_logging:Some of the feature names have been changed automatically to be compatible with SavedModels because fix_feature_names=True.]\n",
      "<_PrefetchDataset element_spec=({'age': TensorSpec(shape=(None,), dtype=tf.int64, name=None), 'sex': TensorSpec(shape=(None,), dtype=tf.string, name=None), 'on_thyroxine': TensorSpec(shape=(None,), dtype=tf.string, name=None), 'query_on_thyroxine': TensorSpec(shape=(None,), dtype=tf.string, name=None), 'on_antihyroid_meds': TensorSpec(shape=(None,), dtype=tf.string, name=None), 'sick': TensorSpec(shape=(None,), dtype=tf.string, name=None), 'pregnant': TensorSpec(shape=(None,), dtype=tf.string, name=None), 'thyroid_surgery': TensorSpec(shape=(None,), dtype=tf.string, name=None), 'I131_treatment': TensorSpec(shape=(None,), dtype=tf.string, name=None), 'query_hypothyroid': TensorSpec(shape=(None,), dtype=tf.string, name=None), 'query_hyperthyroid': TensorSpec(shape=(None,), dtype=tf.string, name=None), 'lithium': TensorSpec(shape=(None,), dtype=tf.string, name=None), 'goitre': TensorSpec(shape=(None,), dtype=tf.string, name=None), 'tumor': TensorSpec(shape=(None,), dtype=tf.string, name=None), 'hypopituitary': TensorSpec(shape=(None,), dtype=tf.string, name=None), 'psych': TensorSpec(shape=(None,), dtype=tf.string, name=None), 'TSH': TensorSpec(shape=(None,), dtype=tf.float64, name=None), 'T3': TensorSpec(shape=(None,), dtype=tf.float64, name=None), 'TT4': TensorSpec(shape=(None,), dtype=tf.float64, name=None), 'T4U': TensorSpec(shape=(None,), dtype=tf.float64, name=None), 'FTI': TensorSpec(shape=(None,), dtype=tf.float64, name=None)}, TensorSpec(shape=(None,), dtype=tf.int64, name=None))>\n",
      "Use /tmp/tmpirqqe2zc as temporary training directory\n",
      "Reading training dataset...\n",
      "Training dataset read in 0:00:00.177805. Found 5756 examples.\n",
      "Training model...\n"
     ]
    },
    {
     "name": "stderr",
     "output_type": "stream",
     "text": [
      "[WARNING 24-01-27 18:11:49.5054 IST gradient_boosted_trees.cc:1886] \"goss_alpha\" set but \"sampling_method\" not equal to \"GOSS\".\n",
      "[WARNING 24-01-27 18:11:49.5054 IST gradient_boosted_trees.cc:1897] \"goss_beta\" set but \"sampling_method\" not equal to \"GOSS\".\n",
      "[WARNING 24-01-27 18:11:49.5054 IST gradient_boosted_trees.cc:1911] \"selective_gradient_boosting_ratio\" set but \"sampling_method\" not equal to \"SELGB\".\n"
     ]
    },
    {
     "name": "stdout",
     "output_type": "stream",
     "text": [
      "Model trained in 0:00:00.579805\n",
      "Compiling model...\n",
      "Model compiled.\n",
      "[2024-01-27 18:11:50,384:INFO:423033297:The results of the model building are: [TrainLog(num_trees=1, evaluation=Evaluation(num_examples=None, accuracy=0.9787610769271851, loss=0.8328334093093872, rmse=None, ndcg=None, aucs=None, auuc=None, qini=None)), TrainLog(num_trees=2, evaluation=Evaluation(num_examples=None, accuracy=0.9787610769271851, loss=0.6510120034217834, rmse=None, ndcg=None, aucs=None, auuc=None, qini=None)), TrainLog(num_trees=3, evaluation=Evaluation(num_examples=None, accuracy=0.9787610769271851, loss=0.5196457505226135, rmse=None, ndcg=None, aucs=None, auuc=None, qini=None)), TrainLog(num_trees=4, evaluation=Evaluation(num_examples=None, accuracy=0.9805309772491455, loss=0.4200752377510071, rmse=None, ndcg=None, aucs=None, auuc=None, qini=None)), TrainLog(num_trees=5, evaluation=Evaluation(num_examples=None, accuracy=0.9805309772491455, loss=0.3441726565361023, rmse=None, ndcg=None, aucs=None, auuc=None, qini=None)), TrainLog(num_trees=6, evaluation=Evaluation(num_examples=None, accuracy=0.982300877571106, loss=0.2848087549209595, rmse=None, ndcg=None, aucs=None, auuc=None, qini=None)), TrainLog(num_trees=7, evaluation=Evaluation(num_examples=None, accuracy=0.982300877571106, loss=0.23811116814613342, rmse=None, ndcg=None, aucs=None, auuc=None, qini=None)), TrainLog(num_trees=8, evaluation=Evaluation(num_examples=None, accuracy=0.982300877571106, loss=0.20135217905044556, rmse=None, ndcg=None, aucs=None, auuc=None, qini=None)), TrainLog(num_trees=9, evaluation=Evaluation(num_examples=None, accuracy=0.982300877571106, loss=0.17200841009616852, rmse=None, ndcg=None, aucs=None, auuc=None, qini=None)), TrainLog(num_trees=10, evaluation=Evaluation(num_examples=None, accuracy=0.9840707778930664, loss=0.148274764418602, rmse=None, ndcg=None, aucs=None, auuc=None, qini=None)), TrainLog(num_trees=11, evaluation=Evaluation(num_examples=None, accuracy=0.982300877571106, loss=0.12948249280452728, rmse=None, ndcg=None, aucs=None, auuc=None, qini=None)), TrainLog(num_trees=12, evaluation=Evaluation(num_examples=None, accuracy=0.9840707778930664, loss=0.11429429054260254, rmse=None, ndcg=None, aucs=None, auuc=None, qini=None)), TrainLog(num_trees=13, evaluation=Evaluation(num_examples=None, accuracy=0.982300877571106, loss=0.1013394296169281, rmse=None, ndcg=None, aucs=None, auuc=None, qini=None)), TrainLog(num_trees=14, evaluation=Evaluation(num_examples=None, accuracy=0.982300877571106, loss=0.09124214947223663, rmse=None, ndcg=None, aucs=None, auuc=None, qini=None)), TrainLog(num_trees=15, evaluation=Evaluation(num_examples=None, accuracy=0.982300877571106, loss=0.082896389067173, rmse=None, ndcg=None, aucs=None, auuc=None, qini=None)), TrainLog(num_trees=16, evaluation=Evaluation(num_examples=None, accuracy=0.9840707778930664, loss=0.07655613869428635, rmse=None, ndcg=None, aucs=None, auuc=None, qini=None)), TrainLog(num_trees=17, evaluation=Evaluation(num_examples=None, accuracy=0.982300877571106, loss=0.0709819570183754, rmse=None, ndcg=None, aucs=None, auuc=None, qini=None)), TrainLog(num_trees=18, evaluation=Evaluation(num_examples=None, accuracy=0.9840707778930664, loss=0.06633159518241882, rmse=None, ndcg=None, aucs=None, auuc=None, qini=None)), TrainLog(num_trees=19, evaluation=Evaluation(num_examples=None, accuracy=0.9840707778930664, loss=0.06304074078798294, rmse=None, ndcg=None, aucs=None, auuc=None, qini=None)), TrainLog(num_trees=20, evaluation=Evaluation(num_examples=None, accuracy=0.9840707778930664, loss=0.06028316169977188, rmse=None, ndcg=None, aucs=None, auuc=None, qini=None)), TrainLog(num_trees=21, evaluation=Evaluation(num_examples=None, accuracy=0.9840707778930664, loss=0.0574042946100235, rmse=None, ndcg=None, aucs=None, auuc=None, qini=None)), TrainLog(num_trees=22, evaluation=Evaluation(num_examples=None, accuracy=0.9840707778930664, loss=0.05460376664996147, rmse=None, ndcg=None, aucs=None, auuc=None, qini=None)), TrainLog(num_trees=23, evaluation=Evaluation(num_examples=None, accuracy=0.9858406782150269, loss=0.05293766036629677, rmse=None, ndcg=None, aucs=None, auuc=None, qini=None)), TrainLog(num_trees=24, evaluation=Evaluation(num_examples=None, accuracy=0.9858406782150269, loss=0.04959563910961151, rmse=None, ndcg=None, aucs=None, auuc=None, qini=None)), TrainLog(num_trees=25, evaluation=Evaluation(num_examples=None, accuracy=0.9876106381416321, loss=0.04886123538017273, rmse=None, ndcg=None, aucs=None, auuc=None, qini=None)), TrainLog(num_trees=26, evaluation=Evaluation(num_examples=None, accuracy=0.9876106381416321, loss=0.047716040164232254, rmse=None, ndcg=None, aucs=None, auuc=None, qini=None)), TrainLog(num_trees=27, evaluation=Evaluation(num_examples=None, accuracy=0.9876106381416321, loss=0.046266090124845505, rmse=None, ndcg=None, aucs=None, auuc=None, qini=None)), TrainLog(num_trees=28, evaluation=Evaluation(num_examples=None, accuracy=0.9876106381416321, loss=0.04579054191708565, rmse=None, ndcg=None, aucs=None, auuc=None, qini=None)), TrainLog(num_trees=29, evaluation=Evaluation(num_examples=None, accuracy=0.9876106381416321, loss=0.045672934502363205, rmse=None, ndcg=None, aucs=None, auuc=None, qini=None)), TrainLog(num_trees=30, evaluation=Evaluation(num_examples=None, accuracy=0.9876106381416321, loss=0.04545929655432701, rmse=None, ndcg=None, aucs=None, auuc=None, qini=None)), TrainLog(num_trees=31, evaluation=Evaluation(num_examples=None, accuracy=0.9876106381416321, loss=0.04492654278874397, rmse=None, ndcg=None, aucs=None, auuc=None, qini=None)), TrainLog(num_trees=32, evaluation=Evaluation(num_examples=None, accuracy=0.9876106381416321, loss=0.04437591880559921, rmse=None, ndcg=None, aucs=None, auuc=None, qini=None)), TrainLog(num_trees=33, evaluation=Evaluation(num_examples=None, accuracy=0.9876106381416321, loss=0.044184476137161255, rmse=None, ndcg=None, aucs=None, auuc=None, qini=None)), TrainLog(num_trees=34, evaluation=Evaluation(num_examples=None, accuracy=0.9876106381416321, loss=0.04421991482377052, rmse=None, ndcg=None, aucs=None, auuc=None, qini=None)), TrainLog(num_trees=35, evaluation=Evaluation(num_examples=None, accuracy=0.9876106381416321, loss=0.04401771351695061, rmse=None, ndcg=None, aucs=None, auuc=None, qini=None)), TrainLog(num_trees=36, evaluation=Evaluation(num_examples=None, accuracy=0.9876106381416321, loss=0.04395226016640663, rmse=None, ndcg=None, aucs=None, auuc=None, qini=None)), TrainLog(num_trees=37, evaluation=Evaluation(num_examples=None, accuracy=0.9876106381416321, loss=0.043951306492090225, rmse=None, ndcg=None, aucs=None, auuc=None, qini=None)), TrainLog(num_trees=38, evaluation=Evaluation(num_examples=None, accuracy=0.9876106381416321, loss=0.044610556215047836, rmse=None, ndcg=None, aucs=None, auuc=None, qini=None)), TrainLog(num_trees=39, evaluation=Evaluation(num_examples=None, accuracy=0.9876106381416321, loss=0.0451708547770977, rmse=None, ndcg=None, aucs=None, auuc=None, qini=None)), TrainLog(num_trees=40, evaluation=Evaluation(num_examples=None, accuracy=0.9876106381416321, loss=0.045570168644189835, rmse=None, ndcg=None, aucs=None, auuc=None, qini=None)), TrainLog(num_trees=41, evaluation=Evaluation(num_examples=None, accuracy=0.9876106381416321, loss=0.04534854367375374, rmse=None, ndcg=None, aucs=None, auuc=None, qini=None)), TrainLog(num_trees=42, evaluation=Evaluation(num_examples=None, accuracy=0.9876106381416321, loss=0.04578506201505661, rmse=None, ndcg=None, aucs=None, auuc=None, qini=None)), TrainLog(num_trees=43, evaluation=Evaluation(num_examples=None, accuracy=0.9876106381416321, loss=0.04585009068250656, rmse=None, ndcg=None, aucs=None, auuc=None, qini=None)), TrainLog(num_trees=44, evaluation=Evaluation(num_examples=None, accuracy=0.9858406782150269, loss=0.047049518674612045, rmse=None, ndcg=None, aucs=None, auuc=None, qini=None)), TrainLog(num_trees=45, evaluation=Evaluation(num_examples=None, accuracy=0.9858406782150269, loss=0.04700151085853577, rmse=None, ndcg=None, aucs=None, auuc=None, qini=None)), TrainLog(num_trees=46, evaluation=Evaluation(num_examples=None, accuracy=0.9858406782150269, loss=0.04731011763215065, rmse=None, ndcg=None, aucs=None, auuc=None, qini=None)), TrainLog(num_trees=47, evaluation=Evaluation(num_examples=None, accuracy=0.9858406782150269, loss=0.047435011714696884, rmse=None, ndcg=None, aucs=None, auuc=None, qini=None))]]\n"
     ]
    },
    {
     "name": "stderr",
     "output_type": "stream",
     "text": [
      "[INFO 24-01-27 18:11:50.2621 IST kernel.cc:1233] Loading model from path /tmp/tmpirqqe2zc/model/ with prefix 56a81e0e45754deb\n",
      "[INFO 24-01-27 18:11:50.2664 IST decision_forest.cc:660] Model loaded with 111 root(s), 4117 node(s), and 14 input feature(s).\n",
      "[INFO 24-01-27 18:11:50.2664 IST kernel.cc:1061] Use fast generic engine\n"
     ]
    },
    {
     "name": "stdout",
     "output_type": "stream",
     "text": [
      "[2024-01-27 18:11:51,090:INFO:builder_impl:Assets written to: artifacts/model_trainer/model/assets]\n"
     ]
    }
   ],
   "source": [
    "try:\n",
    "    config = ConfigurationManager()\n",
    "    model_trainer_config = config.get_model_trainer_config()\n",
    "    model_trainer_config = ModelTrainer(config=model_trainer_config)\n",
    "    model_trainer_config.train()\n",
    "except Exception as e:\n",
    "    raise e"
   ]
  },
  {
   "cell_type": "code",
   "execution_count": null,
   "metadata": {},
   "outputs": [],
   "source": []
  }
 ],
 "metadata": {
  "kernelspec": {
   "display_name": "Python 3",
   "language": "python",
   "name": "python3"
  },
  "language_info": {
   "codemirror_mode": {
    "name": "ipython",
    "version": 3
   },
   "file_extension": ".py",
   "mimetype": "text/x-python",
   "name": "python",
   "nbconvert_exporter": "python",
   "pygments_lexer": "ipython3",
   "version": "3.11.4"
  }
 },
 "nbformat": 4,
 "nbformat_minor": 2
}
