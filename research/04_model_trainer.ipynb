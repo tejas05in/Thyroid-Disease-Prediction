{
 "cells": [
  {
   "cell_type": "code",
   "execution_count": 1,
   "metadata": {},
   "outputs": [],
   "source": [
    "import os"
   ]
  },
  {
   "cell_type": "code",
   "execution_count": 2,
   "metadata": {},
   "outputs": [
    {
     "data": {
      "text/plain": [
       "'/home/tejas/MLProject/Thyroid-Disease-Prediction/research'"
      ]
     },
     "execution_count": 2,
     "metadata": {},
     "output_type": "execute_result"
    }
   ],
   "source": [
    "%pwd"
   ]
  },
  {
   "cell_type": "code",
   "execution_count": 3,
   "metadata": {},
   "outputs": [],
   "source": [
    "os.chdir(\"../\")"
   ]
  },
  {
   "cell_type": "code",
   "execution_count": 4,
   "metadata": {},
   "outputs": [
    {
     "data": {
      "text/plain": [
       "'/home/tejas/MLProject/Thyroid-Disease-Prediction'"
      ]
     },
     "execution_count": 4,
     "metadata": {},
     "output_type": "execute_result"
    }
   ],
   "source": [
    "%pwd"
   ]
  },
  {
   "cell_type": "code",
   "execution_count": 5,
   "metadata": {},
   "outputs": [],
   "source": [
    "from dataclasses import dataclass\n",
    "from pathlib import Path\n",
    "\n",
    "\n",
    "@dataclass(frozen=True)\n",
    "class ModelTrainerConfig:\n",
    "    root_dir: Path\n",
    "    train_data_path: Path\n",
    "    model_name: str\n",
    "    parameters: dict\n",
    "    target_column: str"
   ]
  },
  {
   "cell_type": "code",
   "execution_count": 6,
   "metadata": {},
   "outputs": [],
   "source": [
    "\n",
    "from ThyroidProject.constants import *\n",
    "from ThyroidProject.utils.common import read_yaml, create_directories"
   ]
  },
  {
   "cell_type": "code",
   "execution_count": 7,
   "metadata": {},
   "outputs": [],
   "source": [
    "class ConfigurationManager:\n",
    "    def __init__(self,\n",
    "                 config_filepath=CONFIG_FILE_PATH,\n",
    "                 params_filepath=PARAMS_FILE_PATH,\n",
    "                 schema_filepath=SCHEMA_FILE_PATH):\n",
    "\n",
    "        self.config = read_yaml(config_filepath)\n",
    "        self.params = read_yaml(params_filepath)\n",
    "        self.schema = read_yaml(schema_filepath)\n",
    "\n",
    "        create_directories([self.config.artifacts_root])\n",
    "\n",
    "    def get_model_trainer_config(self) -> ModelTrainerConfig:\n",
    "        \"\"\"\n",
    "        This function returns the ModelTrainerConfig object that contains the configuration for the model training process.\n",
    "\n",
    "        Args:\n",
    "            None\n",
    "\n",
    "        Returns:\n",
    "            ModelTrainerConfig: The ModelTrainerConfig object containing the configuration for the model training process\n",
    "\n",
    "        \"\"\"\n",
    "        config = self.config.model_trainer\n",
    "        params = self.params.GradientBoostedTreesLearner\n",
    "        schema = self.schema.TARGET_COLUMN\n",
    "\n",
    "        create_directories([config.root_dir])\n",
    "\n",
    "        model_trainer_config = ModelTrainerConfig(\n",
    "            root_dir=config.root_dir,\n",
    "            train_data_path=config.train_data_path,\n",
    "            model_name=config.model_name,\n",
    "            parameters=params,\n",
    "            target_column=schema.name,\n",
    "        )\n",
    "        return model_trainer_config"
   ]
  },
  {
   "cell_type": "code",
   "execution_count": 8,
   "metadata": {},
   "outputs": [
    {
     "name": "stderr",
     "output_type": "stream",
     "text": [
      "2024-01-29 15:47:15.782972: I tensorflow/core/util/port.cc:113] oneDNN custom operations are on. You may see slightly different numerical results due to floating-point round-off errors from different computation orders. To turn them off, set the environment variable `TF_ENABLE_ONEDNN_OPTS=0`.\n",
      "2024-01-29 15:47:15.784676: I external/local_tsl/tsl/cuda/cudart_stub.cc:31] Could not find cuda drivers on your machine, GPU will not be used.\n",
      "2024-01-29 15:47:15.811587: E external/local_xla/xla/stream_executor/cuda/cuda_dnn.cc:9261] Unable to register cuDNN factory: Attempting to register factory for plugin cuDNN when one has already been registered\n",
      "2024-01-29 15:47:15.811644: E external/local_xla/xla/stream_executor/cuda/cuda_fft.cc:607] Unable to register cuFFT factory: Attempting to register factory for plugin cuFFT when one has already been registered\n",
      "2024-01-29 15:47:15.812456: E external/local_xla/xla/stream_executor/cuda/cuda_blas.cc:1515] Unable to register cuBLAS factory: Attempting to register factory for plugin cuBLAS when one has already been registered\n",
      "2024-01-29 15:47:15.816310: I external/local_tsl/tsl/cuda/cudart_stub.cc:31] Could not find cuda drivers on your machine, GPU will not be used.\n",
      "2024-01-29 15:47:15.816760: I tensorflow/core/platform/cpu_feature_guard.cc:182] This TensorFlow binary is optimized to use available CPU instructions in performance-critical operations.\n",
      "To enable the following instructions: AVX2 AVX_VNNI FMA, in other operations, rebuild TensorFlow with the appropriate compiler flags.\n",
      "2024-01-29 15:47:16.627520: W tensorflow/compiler/tf2tensorrt/utils/py_utils.cc:38] TF-TRT Warning: Could not find TensorRT\n"
     ]
    }
   ],
   "source": [
    "import pandas as pd\n",
    "import os\n",
    "from ThyroidProject import logger\n",
    "import tensorflow_decision_forests as tfdf"
   ]
  },
  {
   "cell_type": "code",
   "execution_count": 9,
   "metadata": {},
   "outputs": [],
   "source": [
    "class ModelTrainer:\n",
    "    def __init__(self, config: ModelTrainerConfig):\n",
    "        self.config = config\n",
    "\n",
    "    def train(self):\n",
    "        \"\"\"\n",
    "        trains the model using the training data and saves it to the artifacts directory\n",
    "        \"\"\"\n",
    "        train_data = pd.read_csv(self.config.train_data_path)\n",
    "        \n",
    "        tf_dataset = tfdf.keras.pd_dataframe_to_tf_dataset(\n",
    "            train_data,label=self.config.target_column , max_num_classes=3)\n",
    "        print(tf_dataset)\n",
    "\n",
    "        model = tfdf.keras.GradientBoostedTreesModel(\n",
    "            **self.config.parameters\n",
    "        )\n",
    "        model.fit(tf_dataset)\n",
    "        inspector = model.make_inspector()\n",
    "        logger.info(\n",
    "            f\"The results of the model building are: {inspector.training_logs()}\")\n",
    "        inspector.export_to_tensorboard(os.path.join(self.config.root_dir,\"tensorboard_logs\"))\n",
    "        model.save(os.path.join(self.config.root_dir, self.config.model_name)) # saving the trained model for serving"
   ]
  },
  {
   "cell_type": "code",
   "execution_count": 10,
   "metadata": {},
   "outputs": [
    {
     "name": "stdout",
     "output_type": "stream",
     "text": [
      "[2024-01-29 15:47:17,575:INFO:common:yaml file: config/config.yaml loaded successfully]\n",
      "[2024-01-29 15:47:17,577:INFO:common:yaml file: params.yaml loaded successfully]\n",
      "[2024-01-29 15:47:17,579:INFO:common:yaml file: schema.yaml loaded successfully]\n",
      "[2024-01-29 15:47:17,580:INFO:common:created directory at :artifacts]\n",
      "[2024-01-29 15:47:17,580:INFO:common:created directory at :artifacts/model_trainer]\n",
      "Warning: Some of the feature names have been changed automatically to be compatible with SavedModels because fix_feature_names=True.\n",
      "[2024-01-29 15:47:17,597:WARNING:tf_logging:Some of the feature names have been changed automatically to be compatible with SavedModels because fix_feature_names=True.]\n"
     ]
    },
    {
     "name": "stdout",
     "output_type": "stream",
     "text": [
      "<_PrefetchDataset element_spec=({'age': TensorSpec(shape=(None,), dtype=tf.int64, name=None), 'sex': TensorSpec(shape=(None,), dtype=tf.string, name=None), 'on_thyroxine': TensorSpec(shape=(None,), dtype=tf.string, name=None), 'query_on_thyroxine': TensorSpec(shape=(None,), dtype=tf.string, name=None), 'on_antihyroid_meds': TensorSpec(shape=(None,), dtype=tf.string, name=None), 'sick': TensorSpec(shape=(None,), dtype=tf.string, name=None), 'pregnant': TensorSpec(shape=(None,), dtype=tf.string, name=None), 'thyroid_surgery': TensorSpec(shape=(None,), dtype=tf.string, name=None), 'I131_treatment': TensorSpec(shape=(None,), dtype=tf.string, name=None), 'query_hypothyroid': TensorSpec(shape=(None,), dtype=tf.string, name=None), 'query_hyperthyroid': TensorSpec(shape=(None,), dtype=tf.string, name=None), 'lithium': TensorSpec(shape=(None,), dtype=tf.string, name=None), 'goitre': TensorSpec(shape=(None,), dtype=tf.string, name=None), 'tumor': TensorSpec(shape=(None,), dtype=tf.string, name=None), 'hypopituitary': TensorSpec(shape=(None,), dtype=tf.string, name=None), 'psych': TensorSpec(shape=(None,), dtype=tf.string, name=None), 'TSH': TensorSpec(shape=(None,), dtype=tf.float64, name=None), 'T3': TensorSpec(shape=(None,), dtype=tf.float64, name=None), 'TT4': TensorSpec(shape=(None,), dtype=tf.float64, name=None), 'T4U': TensorSpec(shape=(None,), dtype=tf.float64, name=None), 'FTI': TensorSpec(shape=(None,), dtype=tf.float64, name=None)}, TensorSpec(shape=(None,), dtype=tf.int64, name=None))>\n",
      "Use /tmp/tmp5s066u49 as temporary training directory\n",
      "[2024-01-29 15:47:19,333:INFO:tf_logging:Use /tmp/tmp5s066u49 as temporary training directory]\n",
      "Reading training dataset...\n",
      "[2024-01-29 15:47:19,380:INFO:tf_logging:Reading training dataset...]\n"
     ]
    },
    {
     "name": "stderr",
     "output_type": "stream",
     "text": [
      "2024-01-29 15:47:19.244084: I external/local_xla/xla/stream_executor/cuda/cuda_executor.cc:901] successful NUMA node read from SysFS had negative value (-1), but there must be at least one NUMA node, so returning NUMA node zero. See more at https://github.com/torvalds/linux/blob/v6.0/Documentation/ABI/testing/sysfs-bus-pci#L344-L355\n",
      "2024-01-29 15:47:19.244518: W tensorflow/core/common_runtime/gpu/gpu_device.cc:2256] Cannot dlopen some GPU libraries. Please make sure the missing libraries mentioned above are installed properly if you would like to use GPU. Follow the guide at https://www.tensorflow.org/install/gpu for how to download and setup the required libraries for your platform.\n",
      "Skipping registering GPU devices...\n",
      "[WARNING 24-01-29 15:47:19.3351 IST gradient_boosted_trees.cc:1886] \"goss_alpha\" set but \"sampling_method\" not equal to \"GOSS\".\n",
      "[WARNING 24-01-29 15:47:19.3352 IST gradient_boosted_trees.cc:1897] \"goss_beta\" set but \"sampling_method\" not equal to \"GOSS\".\n",
      "[WARNING 24-01-29 15:47:19.3352 IST gradient_boosted_trees.cc:1911] \"selective_gradient_boosting_ratio\" set but \"sampling_method\" not equal to \"SELGB\".\n"
     ]
    },
    {
     "name": "stdout",
     "output_type": "stream",
     "text": [
      "Training dataset read in 0:00:02.399096. Found 5756 examples.\n",
      "[2024-01-29 15:47:21,779:INFO:tf_logging:Training dataset read in 0:00:02.399096. Found 5756 examples.]\n",
      "Training model...\n",
      "[2024-01-29 15:47:21,779:INFO:tf_logging:Training model...]\n",
      "Model trained in 0:00:00.712851\n",
      "[2024-01-29 15:47:22,493:INFO:tf_logging:Model trained in 0:00:00.712851]\n",
      "Compiling model...\n",
      "[2024-01-29 15:47:22,494:INFO:tf_logging:Compiling model...]\n"
     ]
    },
    {
     "name": "stderr",
     "output_type": "stream",
     "text": [
      "[INFO 24-01-29 15:47:22.4845 IST kernel.cc:1233] Loading model from path /tmp/tmp5s066u49/model/ with prefix d0dcd81170ef4e9e\n",
      "[INFO 24-01-29 15:47:22.4895 IST decision_forest.cc:660] Model loaded with 111 root(s), 4117 node(s), and 14 input feature(s).\n",
      "[INFO 24-01-29 15:47:22.4896 IST abstract_model.cc:1344] Engine \"GradientBoostedTreesGeneric\" built\n",
      "[INFO 24-01-29 15:47:22.4896 IST kernel.cc:1061] Use fast generic engine\n"
     ]
    },
    {
     "name": "stdout",
     "output_type": "stream",
     "text": [
      "Model compiled.\n",
      "[2024-01-29 15:47:23,071:INFO:tf_logging:Model compiled.]\n",
      "[2024-01-29 15:47:23,115:INFO:523508393:The results of the model building are: [TrainLog(num_trees=1, evaluation=Evaluation(num_examples=None, accuracy=0.9787610769271851, loss=0.8328334093093872, rmse=None, ndcg=None, aucs=None, auuc=None, qini=None)), TrainLog(num_trees=2, evaluation=Evaluation(num_examples=None, accuracy=0.9787610769271851, loss=0.6510120034217834, rmse=None, ndcg=None, aucs=None, auuc=None, qini=None)), TrainLog(num_trees=3, evaluation=Evaluation(num_examples=None, accuracy=0.9787610769271851, loss=0.5196457505226135, rmse=None, ndcg=None, aucs=None, auuc=None, qini=None)), TrainLog(num_trees=4, evaluation=Evaluation(num_examples=None, accuracy=0.9805309772491455, loss=0.4200752377510071, rmse=None, ndcg=None, aucs=None, auuc=None, qini=None)), TrainLog(num_trees=5, evaluation=Evaluation(num_examples=None, accuracy=0.9805309772491455, loss=0.3441726565361023, rmse=None, ndcg=None, aucs=None, auuc=None, qini=None)), TrainLog(num_trees=6, evaluation=Evaluation(num_examples=None, accuracy=0.982300877571106, loss=0.2848087549209595, rmse=None, ndcg=None, aucs=None, auuc=None, qini=None)), TrainLog(num_trees=7, evaluation=Evaluation(num_examples=None, accuracy=0.982300877571106, loss=0.23811116814613342, rmse=None, ndcg=None, aucs=None, auuc=None, qini=None)), TrainLog(num_trees=8, evaluation=Evaluation(num_examples=None, accuracy=0.982300877571106, loss=0.20135217905044556, rmse=None, ndcg=None, aucs=None, auuc=None, qini=None)), TrainLog(num_trees=9, evaluation=Evaluation(num_examples=None, accuracy=0.982300877571106, loss=0.17200841009616852, rmse=None, ndcg=None, aucs=None, auuc=None, qini=None)), TrainLog(num_trees=10, evaluation=Evaluation(num_examples=None, accuracy=0.9840707778930664, loss=0.148274764418602, rmse=None, ndcg=None, aucs=None, auuc=None, qini=None)), TrainLog(num_trees=11, evaluation=Evaluation(num_examples=None, accuracy=0.982300877571106, loss=0.12948249280452728, rmse=None, ndcg=None, aucs=None, auuc=None, qini=None)), TrainLog(num_trees=12, evaluation=Evaluation(num_examples=None, accuracy=0.9840707778930664, loss=0.11429429054260254, rmse=None, ndcg=None, aucs=None, auuc=None, qini=None)), TrainLog(num_trees=13, evaluation=Evaluation(num_examples=None, accuracy=0.982300877571106, loss=0.1013394296169281, rmse=None, ndcg=None, aucs=None, auuc=None, qini=None)), TrainLog(num_trees=14, evaluation=Evaluation(num_examples=None, accuracy=0.982300877571106, loss=0.09124214947223663, rmse=None, ndcg=None, aucs=None, auuc=None, qini=None)), TrainLog(num_trees=15, evaluation=Evaluation(num_examples=None, accuracy=0.982300877571106, loss=0.082896389067173, rmse=None, ndcg=None, aucs=None, auuc=None, qini=None)), TrainLog(num_trees=16, evaluation=Evaluation(num_examples=None, accuracy=0.9840707778930664, loss=0.07655613869428635, rmse=None, ndcg=None, aucs=None, auuc=None, qini=None)), TrainLog(num_trees=17, evaluation=Evaluation(num_examples=None, accuracy=0.982300877571106, loss=0.0709819570183754, rmse=None, ndcg=None, aucs=None, auuc=None, qini=None)), TrainLog(num_trees=18, evaluation=Evaluation(num_examples=None, accuracy=0.9840707778930664, loss=0.06633159518241882, rmse=None, ndcg=None, aucs=None, auuc=None, qini=None)), TrainLog(num_trees=19, evaluation=Evaluation(num_examples=None, accuracy=0.9840707778930664, loss=0.06304074078798294, rmse=None, ndcg=None, aucs=None, auuc=None, qini=None)), TrainLog(num_trees=20, evaluation=Evaluation(num_examples=None, accuracy=0.9840707778930664, loss=0.06028316169977188, rmse=None, ndcg=None, aucs=None, auuc=None, qini=None)), TrainLog(num_trees=21, evaluation=Evaluation(num_examples=None, accuracy=0.9840707778930664, loss=0.0574042946100235, rmse=None, ndcg=None, aucs=None, auuc=None, qini=None)), TrainLog(num_trees=22, evaluation=Evaluation(num_examples=None, accuracy=0.9840707778930664, loss=0.05460376664996147, rmse=None, ndcg=None, aucs=None, auuc=None, qini=None)), TrainLog(num_trees=23, evaluation=Evaluation(num_examples=None, accuracy=0.9858406782150269, loss=0.05293766036629677, rmse=None, ndcg=None, aucs=None, auuc=None, qini=None)), TrainLog(num_trees=24, evaluation=Evaluation(num_examples=None, accuracy=0.9858406782150269, loss=0.04959563910961151, rmse=None, ndcg=None, aucs=None, auuc=None, qini=None)), TrainLog(num_trees=25, evaluation=Evaluation(num_examples=None, accuracy=0.9876106381416321, loss=0.04886123538017273, rmse=None, ndcg=None, aucs=None, auuc=None, qini=None)), TrainLog(num_trees=26, evaluation=Evaluation(num_examples=None, accuracy=0.9876106381416321, loss=0.047716040164232254, rmse=None, ndcg=None, aucs=None, auuc=None, qini=None)), TrainLog(num_trees=27, evaluation=Evaluation(num_examples=None, accuracy=0.9876106381416321, loss=0.046266090124845505, rmse=None, ndcg=None, aucs=None, auuc=None, qini=None)), TrainLog(num_trees=28, evaluation=Evaluation(num_examples=None, accuracy=0.9876106381416321, loss=0.04579054191708565, rmse=None, ndcg=None, aucs=None, auuc=None, qini=None)), TrainLog(num_trees=29, evaluation=Evaluation(num_examples=None, accuracy=0.9876106381416321, loss=0.045672934502363205, rmse=None, ndcg=None, aucs=None, auuc=None, qini=None)), TrainLog(num_trees=30, evaluation=Evaluation(num_examples=None, accuracy=0.9876106381416321, loss=0.04545929655432701, rmse=None, ndcg=None, aucs=None, auuc=None, qini=None)), TrainLog(num_trees=31, evaluation=Evaluation(num_examples=None, accuracy=0.9876106381416321, loss=0.04492654278874397, rmse=None, ndcg=None, aucs=None, auuc=None, qini=None)), TrainLog(num_trees=32, evaluation=Evaluation(num_examples=None, accuracy=0.9876106381416321, loss=0.04437591880559921, rmse=None, ndcg=None, aucs=None, auuc=None, qini=None)), TrainLog(num_trees=33, evaluation=Evaluation(num_examples=None, accuracy=0.9876106381416321, loss=0.044184476137161255, rmse=None, ndcg=None, aucs=None, auuc=None, qini=None)), TrainLog(num_trees=34, evaluation=Evaluation(num_examples=None, accuracy=0.9876106381416321, loss=0.04421991482377052, rmse=None, ndcg=None, aucs=None, auuc=None, qini=None)), TrainLog(num_trees=35, evaluation=Evaluation(num_examples=None, accuracy=0.9876106381416321, loss=0.04401771351695061, rmse=None, ndcg=None, aucs=None, auuc=None, qini=None)), TrainLog(num_trees=36, evaluation=Evaluation(num_examples=None, accuracy=0.9876106381416321, loss=0.04395226016640663, rmse=None, ndcg=None, aucs=None, auuc=None, qini=None)), TrainLog(num_trees=37, evaluation=Evaluation(num_examples=None, accuracy=0.9876106381416321, loss=0.043951306492090225, rmse=None, ndcg=None, aucs=None, auuc=None, qini=None)), TrainLog(num_trees=38, evaluation=Evaluation(num_examples=None, accuracy=0.9876106381416321, loss=0.044610556215047836, rmse=None, ndcg=None, aucs=None, auuc=None, qini=None)), TrainLog(num_trees=39, evaluation=Evaluation(num_examples=None, accuracy=0.9876106381416321, loss=0.0451708547770977, rmse=None, ndcg=None, aucs=None, auuc=None, qini=None)), TrainLog(num_trees=40, evaluation=Evaluation(num_examples=None, accuracy=0.9876106381416321, loss=0.045570168644189835, rmse=None, ndcg=None, aucs=None, auuc=None, qini=None)), TrainLog(num_trees=41, evaluation=Evaluation(num_examples=None, accuracy=0.9876106381416321, loss=0.04534854367375374, rmse=None, ndcg=None, aucs=None, auuc=None, qini=None)), TrainLog(num_trees=42, evaluation=Evaluation(num_examples=None, accuracy=0.9876106381416321, loss=0.04578506201505661, rmse=None, ndcg=None, aucs=None, auuc=None, qini=None)), TrainLog(num_trees=43, evaluation=Evaluation(num_examples=None, accuracy=0.9876106381416321, loss=0.04585009068250656, rmse=None, ndcg=None, aucs=None, auuc=None, qini=None)), TrainLog(num_trees=44, evaluation=Evaluation(num_examples=None, accuracy=0.9858406782150269, loss=0.047049518674612045, rmse=None, ndcg=None, aucs=None, auuc=None, qini=None)), TrainLog(num_trees=45, evaluation=Evaluation(num_examples=None, accuracy=0.9858406782150269, loss=0.04700151085853577, rmse=None, ndcg=None, aucs=None, auuc=None, qini=None)), TrainLog(num_trees=46, evaluation=Evaluation(num_examples=None, accuracy=0.9858406782150269, loss=0.04731011763215065, rmse=None, ndcg=None, aucs=None, auuc=None, qini=None)), TrainLog(num_trees=47, evaluation=Evaluation(num_examples=None, accuracy=0.9858406782150269, loss=0.047435011714696884, rmse=None, ndcg=None, aucs=None, auuc=None, qini=None))]]\n",
      "[2024-01-29 15:47:23,576:INFO:builder_impl:Assets written to: artifacts/model_trainer/model/assets]\n"
     ]
    }
   ],
   "source": [
    "try:\n",
    "    config = ConfigurationManager()\n",
    "    model_trainer_config = config.get_model_trainer_config()\n",
    "    model_trainer_config = ModelTrainer(config=model_trainer_config)\n",
    "    model_trainer_config.train()\n",
    "except Exception as e:\n",
    "    raise e"
   ]
  },
  {
   "cell_type": "code",
   "execution_count": null,
   "metadata": {},
   "outputs": [],
   "source": []
  }
 ],
 "metadata": {
  "kernelspec": {
   "display_name": "Python 3",
   "language": "python",
   "name": "python3"
  },
  "language_info": {
   "codemirror_mode": {
    "name": "ipython",
    "version": 3
   },
   "file_extension": ".py",
   "mimetype": "text/x-python",
   "name": "python",
   "nbconvert_exporter": "python",
   "pygments_lexer": "ipython3",
   "version": "3.11.4"
  }
 },
 "nbformat": 4,
 "nbformat_minor": 2
}
