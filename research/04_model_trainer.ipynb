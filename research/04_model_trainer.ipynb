{
 "cells": [
  {
   "cell_type": "code",
   "execution_count": 1,
   "metadata": {},
   "outputs": [],
   "source": [
    "import os"
   ]
  },
  {
   "cell_type": "code",
   "execution_count": 2,
   "metadata": {},
   "outputs": [
    {
     "data": {
      "text/plain": [
       "'/home/tejas/MLProj/Thyroid-Disease-Prediction/research'"
      ]
     },
     "execution_count": 2,
     "metadata": {},
     "output_type": "execute_result"
    }
   ],
   "source": [
    "%pwd"
   ]
  },
  {
   "cell_type": "code",
   "execution_count": 3,
   "metadata": {},
   "outputs": [],
   "source": [
    "os.chdir(\"../\")"
   ]
  },
  {
   "cell_type": "code",
   "execution_count": 34,
   "metadata": {},
   "outputs": [
    {
     "data": {
      "text/plain": [
       "'/home/tejas/MLProj/Thyroid-Disease-Prediction'"
      ]
     },
     "execution_count": 34,
     "metadata": {},
     "output_type": "execute_result"
    }
   ],
   "source": [
    "%pwd"
   ]
  },
  {
   "cell_type": "code",
   "execution_count": 35,
   "metadata": {},
   "outputs": [],
   "source": [
    "from dataclasses import dataclass\n",
    "from pathlib import Path\n",
    "\n",
    "\n",
    "@dataclass(frozen=True)\n",
    "class ModelTrainerConfig:\n",
    "    root_dir: Path\n",
    "    train_data_path: Path\n",
    "    test_data_path: Path\n",
    "    model_name: str\n",
    "    categorical_algorithm: str\n",
    "    l1_regularization: float\n",
    "    l2_categorical_regularization: float\n",
    "    l2_regularization: float\n",
    "    max_depth: int\n",
    "    num_trees: int\n",
    "    target_column: str"
   ]
  },
  {
   "cell_type": "code",
   "execution_count": 36,
   "metadata": {},
   "outputs": [],
   "source": [
    "\n",
    "from ThyroidProject.constants import *\n",
    "from ThyroidProject.utils.common import read_yaml, create_directories"
   ]
  },
  {
   "cell_type": "code",
   "execution_count": 37,
   "metadata": {},
   "outputs": [],
   "source": [
    "class ConfigurationManager:\n",
    "    def __init__(self,\n",
    "                 config_filepath=CONFIG_FILE_PATH,\n",
    "                 params_filepath=PARAMS_FILE_PATH,\n",
    "                 schema_filepath=SCHEMA_FILE_PATH):\n",
    "\n",
    "        self.config = read_yaml(config_filepath)\n",
    "        self.params = read_yaml(params_filepath)\n",
    "        self.schema = read_yaml(schema_filepath)\n",
    "\n",
    "        create_directories([self.config.artifacts_root])\n",
    "\n",
    "    def get_model_trainer_config(self) -> ModelTrainerConfig:\n",
    "        \"\"\"\n",
    "        This function returns the ModelTrainerConfig object that contains the configuration for the model training process.\n",
    "\n",
    "        Args:\n",
    "            None\n",
    "\n",
    "        Returns:\n",
    "            ModelTrainerConfig: The ModelTrainerConfig object containing the configuration for the model training process\n",
    "\n",
    "        \"\"\"\n",
    "        config = self.config.model_trainer\n",
    "        params = self.params.GradientBoostedTreesLearner\n",
    "        schema = self.schema.TARGET_COLUMN\n",
    "\n",
    "        create_directories([config.root_dir])\n",
    "\n",
    "        model_trainer_config = ModelTrainerConfig(\n",
    "            root_dir=config.root_dir,\n",
    "            train_data_path=config.train_data_path,\n",
    "            test_data_path=config.test_data_path,\n",
    "            model_name=config.model_name,\n",
    "            categorical_algorithm=params.categorical_algorithm,\n",
    "            l1_regularization=params.l1_regularization,\n",
    "            l2_categorical_regularization=params.l2_categorical_regularization,\n",
    "            l2_regularization=params.l2_regularization,\n",
    "            max_depth=params.max_depth,\n",
    "            num_trees=params.num_trees,\n",
    "            target_column=schema.name,\n",
    "        )\n",
    "        return model_trainer_config"
   ]
  },
  {
   "cell_type": "code",
   "execution_count": 38,
   "metadata": {},
   "outputs": [],
   "source": [
    "import pandas as pd\n",
    "import os\n",
    "from ThyroidProject import logger\n",
    "import ydf"
   ]
  },
  {
   "cell_type": "code",
   "execution_count": 39,
   "metadata": {},
   "outputs": [],
   "source": [
    "class ModelTrainer:\n",
    "    def __init__(self, config: ModelTrainerConfig):\n",
    "        self.config = config\n",
    "\n",
    "    def train(self):\n",
    "        \"\"\"\n",
    "        trains the model using the training data and saves it to the artifacts directory\n",
    "        \"\"\"\n",
    "        train_data = pd.read_csv(self.config.train_data_path)\n",
    "        test_data = pd.read_csv(self.config.test_data_path)\n",
    "\n",
    "        learner = ydf.GradientBoostedTreesLearner(\n",
    "            categorical_algorithm=self.config.categorical_algorithm,\n",
    "            l1_regularization=self.config.l1_regularization,\n",
    "            l2_categorical_regularization=self.config.l2_categorical_regularization,\n",
    "            l2_regularization=self.config.l2_regularization,\n",
    "            max_depth=self.config.max_depth,\n",
    "            num_trees=self.config.num_trees,\n",
    "            label=self.config.target_column\n",
    "        )\n",
    "        model = learner.train(train_data)\n",
    "        assert model.task() == ydf.Task.CLASSIFICATION\n",
    "        results = model.evaluate(test_data)\n",
    "        logger.info(f\"The results of the model evaluation are: {results.accuracy:.4f}\")\n",
    "        model.save(os.path.join(self.config.root_dir, self.config.model_name))"
   ]
  },
  {
   "cell_type": "code",
   "execution_count": 40,
   "metadata": {},
   "outputs": [
    {
     "name": "stdout",
     "output_type": "stream",
     "text": [
      "[2024-01-27 02:45:48,381:INFO:common:yaml file: config/config.yaml loaded successfully]\n",
      "[2024-01-27 02:45:48,382:INFO:common:yaml file: params.yaml loaded successfully]\n",
      "[2024-01-27 02:45:48,383:INFO:common:yaml file: schema.yaml loaded successfully]\n",
      "[2024-01-27 02:45:48,384:INFO:common:created directory at :artifacts]\n",
      "[2024-01-27 02:45:48,384:INFO:common:created directory at :artifacts/model_trainer]\n",
      "[2024-01-27 02:45:48,396:INFO:generic_learner:Use 16 thread(s) for training]\n",
      "Train model on 5756 examples\n",
      "Model trained in 0:00:00.399516\n",
      "[2024-01-27 02:45:48,817:INFO:2531560583:The results of the model evaluation are: 0.9870]\n"
     ]
    }
   ],
   "source": [
    "try:\n",
    "    config = ConfigurationManager()\n",
    "    model_trainer_config = config.get_model_trainer_config()\n",
    "    model_trainer_config = ModelTrainer(config=model_trainer_config)\n",
    "    model_trainer_config.train()\n",
    "except Exception as e:\n",
    "    raise e"
   ]
  },
  {
   "cell_type": "code",
   "execution_count": null,
   "metadata": {},
   "outputs": [],
   "source": []
  }
 ],
 "metadata": {
  "kernelspec": {
   "display_name": "Python 3",
   "language": "python",
   "name": "python3"
  },
  "language_info": {
   "codemirror_mode": {
    "name": "ipython",
    "version": 3
   },
   "file_extension": ".py",
   "mimetype": "text/x-python",
   "name": "python",
   "nbconvert_exporter": "python",
   "pygments_lexer": "ipython3",
   "version": "3.11.4"
  }
 },
 "nbformat": 4,
 "nbformat_minor": 2
}
